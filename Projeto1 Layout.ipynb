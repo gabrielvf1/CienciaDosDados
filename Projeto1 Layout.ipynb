{
 "cells": [
  {
   "cell_type": "markdown",
   "metadata": {},
   "source": [
    "___\n",
    "# Ciência dos Dados - PROJETO 1"
   ]
  },
  {
   "cell_type": "markdown",
   "metadata": {},
   "source": [
    "## COLOQUE AQUI SEU NOME\n",
    "___"
   ]
  },
  {
   "cell_type": "markdown",
   "metadata": {},
   "source": [
    "## TÍTULO DO SEU PROJETO"
   ]
  },
  {
   "cell_type": "markdown",
   "metadata": {},
   "source": [
    "___\n",
    "## Introdução\n",
    "\n",
    "Descreva aqui o que pretende analisar!\n",
    "\n",
    "Capriche no português!! \n",
    "Se quiser pode utilizar pesquisas semelhantes publicadas em sites confiáveis!!\n"
   ]
  },
  {
   "cell_type": "markdown",
   "metadata": {},
   "source": [
    "___\n",
    "## Análise e Resultados"
   ]
  },
  {
   "cell_type": "code",
   "execution_count": 101,
   "metadata": {
    "collapsed": true
   },
   "outputs": [],
   "source": [
    "%matplotlib inline\n",
    "import pandas as pd\n",
    "import matplotlib.pyplot as plt\n",
    "import numpy as np\n",
    "import os"
   ]
  },
  {
   "cell_type": "code",
   "execution_count": 102,
   "metadata": {},
   "outputs": [
    {
     "name": "stdout",
     "output_type": "stream",
     "text": [
      "Esperamos trabalhar no diretório\n",
      "C:\\Users\\vf_ga\\OneDrive\\Documentos\\2º Semestre Eng\\Ciencia dos Dados\\Projeto 1\\Dados\n"
     ]
    }
   ],
   "source": [
    "print('Esperamos trabalhar no diretório')\n",
    "print(os.getcwd())"
   ]
  },
  {
   "cell_type": "code",
   "execution_count": 103,
   "metadata": {
    "collapsed": true
   },
   "outputs": [],
   "source": [
    "#Se usar o arquivo descompactado\n",
    "#dados = pd.read_csv(\"DOM2015.csv\")\n",
    "#dados\n",
    "\n",
    "#Se usar o arquivo compactado como está no dropbox púbico\n",
    "dados=pd.read_csv('DOM2015csv.zip', compression='zip', header=0, sep=',', quotechar='\"')\n",
    "\n",
    "dados=pd.DataFrame(dados)"
   ]
  },
  {
   "cell_type": "code",
   "execution_count": 104,
   "metadata": {
    "collapsed": true
   },
   "outputs": [],
   "source": [
    "dadosFinal = dados.loc[:,[\"UF\",'V4105',\"V0226\",\"V02322\",\"V4621\"]]\n",
    "dadosFinal = dadosFinal.dropna()"
   ]
  },
  {
   "cell_type": "code",
   "execution_count": 105,
   "metadata": {
    "collapsed": true
   },
   "outputs": [],
   "source": [
    "def UFparaRegiao(linha):\n",
    "    codigoRegiao=int(linha/10)\n",
    "    if codigoRegiao==1:\n",
    "        return 'Norte'\n",
    "    if codigoRegiao==2:\n",
    "        return 'Nordeste'\n",
    "    if codigoRegiao==3:\n",
    "        return 'Suldeste'\n",
    "    if codigoRegiao==4:\n",
    "        return 'Sul'\n",
    "    if codigoRegiao==5:\n",
    "        return 'Centro Oeste'\n",
    "    "
   ]
  },
  {
   "cell_type": "code",
   "execution_count": 106,
   "metadata": {
    "collapsed": true
   },
   "outputs": [],
   "source": [
    "def UrbanoRural(linha):\n",
    "    if linha==1 or linha==2 or linha==3:\n",
    "        return 'Urbana'\n",
    "    if linha==3 or linha==4 or linha==5 or linha==6 or linha==7 or linha==8:\n",
    "        return 'Rural'"
   ]
  },
  {
   "cell_type": "code",
   "execution_count": 107,
   "metadata": {
    "collapsed": true
   },
   "outputs": [],
   "source": [
    "def RendaPerCapita(renda):\n",
    "    return float(renda)"
   ]
  },
  {
   "cell_type": "code",
   "execution_count": 108,
   "metadata": {},
   "outputs": [
    {
     "data": {
      "text/plain": [
       "'Nordeste'"
      ]
     },
     "execution_count": 108,
     "metadata": {},
     "output_type": "execute_result"
    }
   ],
   "source": [
    "UFparaRegiao(dados['UF'][50001])"
   ]
  },
  {
   "cell_type": "code",
   "execution_count": 109,
   "metadata": {},
   "outputs": [
    {
     "data": {
      "text/plain": [
       "'Rural'"
      ]
     },
     "execution_count": 109,
     "metadata": {},
     "output_type": "execute_result"
    }
   ],
   "source": [
    "UrbanoRural(dados['V4105'][50001])"
   ]
  },
  {
   "cell_type": "code",
   "execution_count": 110,
   "metadata": {},
   "outputs": [
    {
     "data": {
      "text/plain": [
       "788.0"
      ]
     },
     "execution_count": 110,
     "metadata": {},
     "output_type": "execute_result"
    }
   ],
   "source": [
    "RendaPerCapita(dados['V4621'][50002])"
   ]
  },
  {
   "cell_type": "code",
   "execution_count": 111,
   "metadata": {
    "collapsed": true
   },
   "outputs": [],
   "source": [
    "dados['Regiao'] = dados.UF.apply(UFparaRegiao)"
   ]
  },
  {
   "cell_type": "code",
   "execution_count": 112,
   "metadata": {
    "collapsed": true
   },
   "outputs": [],
   "source": [
    "dados['Meio'] = dados.V4105.apply(UrbanoRural)"
   ]
  },
  {
   "cell_type": "code",
   "execution_count": 113,
   "metadata": {
    "collapsed": true
   },
   "outputs": [],
   "source": [
    "dados['Renda'] = dados.V4621.apply(RendaPerCapita)"
   ]
  },
  {
   "cell_type": "code",
   "execution_count": 114,
   "metadata": {
    "collapsed": true
   },
   "outputs": [],
   "source": [
    "dadosFinal = dados.loc[:,[\"Regiao\", 'Meio', 'Renda', \"V0226\", \"V02322\"]]"
   ]
  },
  {
   "cell_type": "code",
   "execution_count": 115,
   "metadata": {
    "collapsed": true
   },
   "outputs": [],
   "source": [
    "dadosFinal = dadosFinal.dropna()"
   ]
  },
  {
   "cell_type": "code",
   "execution_count": 116,
   "metadata": {
    "collapsed": true
   },
   "outputs": [],
   "source": [
    "#dadosFinal = dadosFinal[(dadosFinal.V0226>1)]"
   ]
  },
  {
   "cell_type": "code",
   "execution_count": 117,
   "metadata": {
    "collapsed": true
   },
   "outputs": [],
   "source": [
    "#dadosFinal = dadosFinal[(dadosFinal.V02322>1)]\n"
   ]
  },
  {
   "cell_type": "code",
   "execution_count": 118,
   "metadata": {
    "collapsed": true
   },
   "outputs": [],
   "source": [
    "#dadosFinal = dadosFinal[(dadosFinal.Regiao==\"Sul\") | (dadosFinal.Regiao==\"Norte\") | (dadosFinal.Regiao==\"Nordeste\") | (dadosFinal.Regiao==\"Suldeste\") | (dadosFinal.Regiao==\"Centro Oeste\")]"
   ]
  },
  {
   "cell_type": "code",
   "execution_count": 119,
   "metadata": {
    "collapsed": true
   },
   "outputs": [],
   "source": [
    "dadosFinal.V0226 = dadosFinal.V0226.astype('category')\n",
    "dadosFinal.V0226.cat.categories = (['Sim', 'Nao'])\n",
    "dadosFinal.V02322 = dadosFinal.V02322.astype('category')\n",
    "dadosFinal.V02322.cat.categories = (['Sim', 'Nao'])\n",
    "dadosFinal = dadosFinal[(dadosFinal.Renda<999999999999) & (dadosFinal.Renda>0)]\n",
    "dadosFinal.Renda = dadosFinal.Renda.astype('float')\n",
    "dadosFinal = dadosFinal.rename(columns={'V0226': 'TV'})\n",
    "dadosFinal = dadosFinal.rename(columns={'V02322': 'Internet'})"
   ]
  },
  {
   "cell_type": "code",
   "execution_count": 120,
   "metadata": {
    "collapsed": true
   },
   "outputs": [],
   "source": [
    "def TvInternet(TV,Internet):\n",
    "    if TV == 'Sim':\n",
    "        if Internet == 'Nao':\n",
    "            return 'So TV'\n",
    "        if Internet == 'Sim':\n",
    "            return 'Ambos'\n",
    "    if TV == 'Nao':\n",
    "        if Internet == 'Sim':\n",
    "            return 'So Internet'\n",
    "        if Internet == 'Nao':\n",
    "            return 'Nenhum'"
   ]
  },
  {
   "cell_type": "code",
   "execution_count": 121,
   "metadata": {},
   "outputs": [
    {
     "data": {
      "text/plain": [
       "'Ambos'"
      ]
     },
     "execution_count": 121,
     "metadata": {},
     "output_type": "execute_result"
    }
   ],
   "source": [
    "TvInternet(dadosFinal['TV'][50001],dadosFinal['Internet'][50001])"
   ]
  },
  {
   "cell_type": "code",
   "execution_count": 122,
   "metadata": {},
   "outputs": [
    {
     "data": {
      "text/html": [
       "<div>\n",
       "<table border=\"1\" class=\"dataframe\">\n",
       "  <thead>\n",
       "    <tr style=\"text-align: right;\">\n",
       "      <th></th>\n",
       "      <th>Regiao</th>\n",
       "      <th>Meio</th>\n",
       "      <th>Renda</th>\n",
       "      <th>TV</th>\n",
       "      <th>Internet</th>\n",
       "      <th>TvInternet</th>\n",
       "    </tr>\n",
       "  </thead>\n",
       "  <tbody>\n",
       "    <tr>\n",
       "      <th>0</th>\n",
       "      <td>Norte</td>\n",
       "      <td>Urbana</td>\n",
       "      <td>800.0</td>\n",
       "      <td>Sim</td>\n",
       "      <td>Nao</td>\n",
       "      <td>So TV</td>\n",
       "    </tr>\n",
       "    <tr>\n",
       "      <th>2</th>\n",
       "      <td>Norte</td>\n",
       "      <td>Urbana</td>\n",
       "      <td>1150.0</td>\n",
       "      <td>Nao</td>\n",
       "      <td>Sim</td>\n",
       "      <td>So Internet</td>\n",
       "    </tr>\n",
       "    <tr>\n",
       "      <th>3</th>\n",
       "      <td>Norte</td>\n",
       "      <td>Urbana</td>\n",
       "      <td>793.0</td>\n",
       "      <td>Sim</td>\n",
       "      <td>Sim</td>\n",
       "      <td>Ambos</td>\n",
       "    </tr>\n",
       "    <tr>\n",
       "      <th>4</th>\n",
       "      <td>Norte</td>\n",
       "      <td>Urbana</td>\n",
       "      <td>2900.0</td>\n",
       "      <td>Nao</td>\n",
       "      <td>Nao</td>\n",
       "      <td>Nenhum</td>\n",
       "    </tr>\n",
       "    <tr>\n",
       "      <th>5</th>\n",
       "      <td>Norte</td>\n",
       "      <td>Urbana</td>\n",
       "      <td>1990.0</td>\n",
       "      <td>Sim</td>\n",
       "      <td>Sim</td>\n",
       "      <td>Ambos</td>\n",
       "    </tr>\n",
       "    <tr>\n",
       "      <th>6</th>\n",
       "      <td>Norte</td>\n",
       "      <td>Urbana</td>\n",
       "      <td>350.0</td>\n",
       "      <td>Sim</td>\n",
       "      <td>Nao</td>\n",
       "      <td>So TV</td>\n",
       "    </tr>\n",
       "    <tr>\n",
       "      <th>7</th>\n",
       "      <td>Norte</td>\n",
       "      <td>Urbana</td>\n",
       "      <td>1333.0</td>\n",
       "      <td>Sim</td>\n",
       "      <td>Nao</td>\n",
       "      <td>So TV</td>\n",
       "    </tr>\n",
       "    <tr>\n",
       "      <th>8</th>\n",
       "      <td>Norte</td>\n",
       "      <td>Urbana</td>\n",
       "      <td>818.0</td>\n",
       "      <td>Sim</td>\n",
       "      <td>Sim</td>\n",
       "      <td>Ambos</td>\n",
       "    </tr>\n",
       "    <tr>\n",
       "      <th>10</th>\n",
       "      <td>Norte</td>\n",
       "      <td>Urbana</td>\n",
       "      <td>1716.0</td>\n",
       "      <td>Sim</td>\n",
       "      <td>Sim</td>\n",
       "      <td>Ambos</td>\n",
       "    </tr>\n",
       "    <tr>\n",
       "      <th>11</th>\n",
       "      <td>Norte</td>\n",
       "      <td>Urbana</td>\n",
       "      <td>2500.0</td>\n",
       "      <td>Sim</td>\n",
       "      <td>Sim</td>\n",
       "      <td>Ambos</td>\n",
       "    </tr>\n",
       "    <tr>\n",
       "      <th>13</th>\n",
       "      <td>Norte</td>\n",
       "      <td>Urbana</td>\n",
       "      <td>1400.0</td>\n",
       "      <td>Sim</td>\n",
       "      <td>Sim</td>\n",
       "      <td>Ambos</td>\n",
       "    </tr>\n",
       "    <tr>\n",
       "      <th>15</th>\n",
       "      <td>Norte</td>\n",
       "      <td>Urbana</td>\n",
       "      <td>666.0</td>\n",
       "      <td>Sim</td>\n",
       "      <td>Sim</td>\n",
       "      <td>Ambos</td>\n",
       "    </tr>\n",
       "    <tr>\n",
       "      <th>16</th>\n",
       "      <td>Norte</td>\n",
       "      <td>Urbana</td>\n",
       "      <td>788.0</td>\n",
       "      <td>Sim</td>\n",
       "      <td>Nao</td>\n",
       "      <td>So TV</td>\n",
       "    </tr>\n",
       "    <tr>\n",
       "      <th>17</th>\n",
       "      <td>Norte</td>\n",
       "      <td>Urbana</td>\n",
       "      <td>750.0</td>\n",
       "      <td>Sim</td>\n",
       "      <td>Sim</td>\n",
       "      <td>Ambos</td>\n",
       "    </tr>\n",
       "    <tr>\n",
       "      <th>18</th>\n",
       "      <td>Norte</td>\n",
       "      <td>Urbana</td>\n",
       "      <td>1437.0</td>\n",
       "      <td>Sim</td>\n",
       "      <td>Sim</td>\n",
       "      <td>Ambos</td>\n",
       "    </tr>\n",
       "    <tr>\n",
       "      <th>19</th>\n",
       "      <td>Norte</td>\n",
       "      <td>Urbana</td>\n",
       "      <td>600.0</td>\n",
       "      <td>Sim</td>\n",
       "      <td>Sim</td>\n",
       "      <td>Ambos</td>\n",
       "    </tr>\n",
       "    <tr>\n",
       "      <th>20</th>\n",
       "      <td>Norte</td>\n",
       "      <td>Urbana</td>\n",
       "      <td>933.0</td>\n",
       "      <td>Sim</td>\n",
       "      <td>Sim</td>\n",
       "      <td>Ambos</td>\n",
       "    </tr>\n",
       "    <tr>\n",
       "      <th>21</th>\n",
       "      <td>Norte</td>\n",
       "      <td>Urbana</td>\n",
       "      <td>1087.0</td>\n",
       "      <td>Sim</td>\n",
       "      <td>Nao</td>\n",
       "      <td>So TV</td>\n",
       "    </tr>\n",
       "    <tr>\n",
       "      <th>23</th>\n",
       "      <td>Norte</td>\n",
       "      <td>Urbana</td>\n",
       "      <td>2666.0</td>\n",
       "      <td>Sim</td>\n",
       "      <td>Sim</td>\n",
       "      <td>Ambos</td>\n",
       "    </tr>\n",
       "    <tr>\n",
       "      <th>26</th>\n",
       "      <td>Norte</td>\n",
       "      <td>Urbana</td>\n",
       "      <td>700.0</td>\n",
       "      <td>Sim</td>\n",
       "      <td>Nao</td>\n",
       "      <td>So TV</td>\n",
       "    </tr>\n",
       "    <tr>\n",
       "      <th>27</th>\n",
       "      <td>Norte</td>\n",
       "      <td>Urbana</td>\n",
       "      <td>3325.0</td>\n",
       "      <td>Sim</td>\n",
       "      <td>Sim</td>\n",
       "      <td>Ambos</td>\n",
       "    </tr>\n",
       "    <tr>\n",
       "      <th>28</th>\n",
       "      <td>Norte</td>\n",
       "      <td>Urbana</td>\n",
       "      <td>3500.0</td>\n",
       "      <td>Sim</td>\n",
       "      <td>Sim</td>\n",
       "      <td>Ambos</td>\n",
       "    </tr>\n",
       "    <tr>\n",
       "      <th>29</th>\n",
       "      <td>Norte</td>\n",
       "      <td>Urbana</td>\n",
       "      <td>1172.0</td>\n",
       "      <td>Sim</td>\n",
       "      <td>Sim</td>\n",
       "      <td>Ambos</td>\n",
       "    </tr>\n",
       "    <tr>\n",
       "      <th>30</th>\n",
       "      <td>Norte</td>\n",
       "      <td>Urbana</td>\n",
       "      <td>1909.0</td>\n",
       "      <td>Sim</td>\n",
       "      <td>Nao</td>\n",
       "      <td>So TV</td>\n",
       "    </tr>\n",
       "    <tr>\n",
       "      <th>31</th>\n",
       "      <td>Norte</td>\n",
       "      <td>Urbana</td>\n",
       "      <td>3000.0</td>\n",
       "      <td>Sim</td>\n",
       "      <td>Sim</td>\n",
       "      <td>Ambos</td>\n",
       "    </tr>\n",
       "    <tr>\n",
       "      <th>32</th>\n",
       "      <td>Norte</td>\n",
       "      <td>Urbana</td>\n",
       "      <td>366.0</td>\n",
       "      <td>Sim</td>\n",
       "      <td>Sim</td>\n",
       "      <td>Ambos</td>\n",
       "    </tr>\n",
       "    <tr>\n",
       "      <th>33</th>\n",
       "      <td>Norte</td>\n",
       "      <td>Urbana</td>\n",
       "      <td>175.0</td>\n",
       "      <td>Sim</td>\n",
       "      <td>Sim</td>\n",
       "      <td>Ambos</td>\n",
       "    </tr>\n",
       "    <tr>\n",
       "      <th>35</th>\n",
       "      <td>Norte</td>\n",
       "      <td>Urbana</td>\n",
       "      <td>262.0</td>\n",
       "      <td>Sim</td>\n",
       "      <td>Nao</td>\n",
       "      <td>So TV</td>\n",
       "    </tr>\n",
       "    <tr>\n",
       "      <th>36</th>\n",
       "      <td>Norte</td>\n",
       "      <td>Urbana</td>\n",
       "      <td>36.0</td>\n",
       "      <td>Sim</td>\n",
       "      <td>Nao</td>\n",
       "      <td>So TV</td>\n",
       "    </tr>\n",
       "    <tr>\n",
       "      <th>37</th>\n",
       "      <td>Norte</td>\n",
       "      <td>Urbana</td>\n",
       "      <td>596.0</td>\n",
       "      <td>Sim</td>\n",
       "      <td>Sim</td>\n",
       "      <td>Ambos</td>\n",
       "    </tr>\n",
       "    <tr>\n",
       "      <th>...</th>\n",
       "      <td>...</td>\n",
       "      <td>...</td>\n",
       "      <td>...</td>\n",
       "      <td>...</td>\n",
       "      <td>...</td>\n",
       "      <td>...</td>\n",
       "    </tr>\n",
       "    <tr>\n",
       "      <th>151146</th>\n",
       "      <td>Centro Oeste</td>\n",
       "      <td>Urbana</td>\n",
       "      <td>950.0</td>\n",
       "      <td>Sim</td>\n",
       "      <td>Sim</td>\n",
       "      <td>Ambos</td>\n",
       "    </tr>\n",
       "    <tr>\n",
       "      <th>151147</th>\n",
       "      <td>Centro Oeste</td>\n",
       "      <td>Urbana</td>\n",
       "      <td>1109.0</td>\n",
       "      <td>Sim</td>\n",
       "      <td>Sim</td>\n",
       "      <td>Ambos</td>\n",
       "    </tr>\n",
       "    <tr>\n",
       "      <th>151148</th>\n",
       "      <td>Centro Oeste</td>\n",
       "      <td>Urbana</td>\n",
       "      <td>283.0</td>\n",
       "      <td>Sim</td>\n",
       "      <td>Sim</td>\n",
       "      <td>Ambos</td>\n",
       "    </tr>\n",
       "    <tr>\n",
       "      <th>151150</th>\n",
       "      <td>Centro Oeste</td>\n",
       "      <td>Urbana</td>\n",
       "      <td>1427.0</td>\n",
       "      <td>Sim</td>\n",
       "      <td>Sim</td>\n",
       "      <td>Ambos</td>\n",
       "    </tr>\n",
       "    <tr>\n",
       "      <th>151151</th>\n",
       "      <td>Centro Oeste</td>\n",
       "      <td>Urbana</td>\n",
       "      <td>355.0</td>\n",
       "      <td>Sim</td>\n",
       "      <td>Sim</td>\n",
       "      <td>Ambos</td>\n",
       "    </tr>\n",
       "    <tr>\n",
       "      <th>151153</th>\n",
       "      <td>Centro Oeste</td>\n",
       "      <td>Urbana</td>\n",
       "      <td>1100.0</td>\n",
       "      <td>Sim</td>\n",
       "      <td>Sim</td>\n",
       "      <td>Ambos</td>\n",
       "    </tr>\n",
       "    <tr>\n",
       "      <th>151155</th>\n",
       "      <td>Centro Oeste</td>\n",
       "      <td>Urbana</td>\n",
       "      <td>8700.0</td>\n",
       "      <td>Sim</td>\n",
       "      <td>Nao</td>\n",
       "      <td>So TV</td>\n",
       "    </tr>\n",
       "    <tr>\n",
       "      <th>151156</th>\n",
       "      <td>Centro Oeste</td>\n",
       "      <td>Urbana</td>\n",
       "      <td>5000.0</td>\n",
       "      <td>Sim</td>\n",
       "      <td>Sim</td>\n",
       "      <td>Ambos</td>\n",
       "    </tr>\n",
       "    <tr>\n",
       "      <th>151158</th>\n",
       "      <td>Centro Oeste</td>\n",
       "      <td>Urbana</td>\n",
       "      <td>5166.0</td>\n",
       "      <td>Sim</td>\n",
       "      <td>Sim</td>\n",
       "      <td>Ambos</td>\n",
       "    </tr>\n",
       "    <tr>\n",
       "      <th>151159</th>\n",
       "      <td>Centro Oeste</td>\n",
       "      <td>Urbana</td>\n",
       "      <td>6066.0</td>\n",
       "      <td>Sim</td>\n",
       "      <td>Sim</td>\n",
       "      <td>Ambos</td>\n",
       "    </tr>\n",
       "    <tr>\n",
       "      <th>151161</th>\n",
       "      <td>Centro Oeste</td>\n",
       "      <td>Urbana</td>\n",
       "      <td>6200.0</td>\n",
       "      <td>Sim</td>\n",
       "      <td>Sim</td>\n",
       "      <td>Ambos</td>\n",
       "    </tr>\n",
       "    <tr>\n",
       "      <th>151163</th>\n",
       "      <td>Centro Oeste</td>\n",
       "      <td>Urbana</td>\n",
       "      <td>2500.0</td>\n",
       "      <td>Sim</td>\n",
       "      <td>Sim</td>\n",
       "      <td>Ambos</td>\n",
       "    </tr>\n",
       "    <tr>\n",
       "      <th>151164</th>\n",
       "      <td>Centro Oeste</td>\n",
       "      <td>Urbana</td>\n",
       "      <td>6000.0</td>\n",
       "      <td>Sim</td>\n",
       "      <td>Sim</td>\n",
       "      <td>Ambos</td>\n",
       "    </tr>\n",
       "    <tr>\n",
       "      <th>151165</th>\n",
       "      <td>Centro Oeste</td>\n",
       "      <td>Urbana</td>\n",
       "      <td>7600.0</td>\n",
       "      <td>Sim</td>\n",
       "      <td>Sim</td>\n",
       "      <td>Ambos</td>\n",
       "    </tr>\n",
       "    <tr>\n",
       "      <th>151167</th>\n",
       "      <td>Centro Oeste</td>\n",
       "      <td>Urbana</td>\n",
       "      <td>9375.0</td>\n",
       "      <td>Sim</td>\n",
       "      <td>Sim</td>\n",
       "      <td>Ambos</td>\n",
       "    </tr>\n",
       "    <tr>\n",
       "      <th>151168</th>\n",
       "      <td>Centro Oeste</td>\n",
       "      <td>Urbana</td>\n",
       "      <td>19850.0</td>\n",
       "      <td>Sim</td>\n",
       "      <td>Sim</td>\n",
       "      <td>Ambos</td>\n",
       "    </tr>\n",
       "    <tr>\n",
       "      <th>151169</th>\n",
       "      <td>Centro Oeste</td>\n",
       "      <td>Urbana</td>\n",
       "      <td>10566.0</td>\n",
       "      <td>Sim</td>\n",
       "      <td>Sim</td>\n",
       "      <td>Ambos</td>\n",
       "    </tr>\n",
       "    <tr>\n",
       "      <th>151170</th>\n",
       "      <td>Centro Oeste</td>\n",
       "      <td>Urbana</td>\n",
       "      <td>15320.0</td>\n",
       "      <td>Sim</td>\n",
       "      <td>Sim</td>\n",
       "      <td>Ambos</td>\n",
       "    </tr>\n",
       "    <tr>\n",
       "      <th>151171</th>\n",
       "      <td>Centro Oeste</td>\n",
       "      <td>Urbana</td>\n",
       "      <td>3250.0</td>\n",
       "      <td>Sim</td>\n",
       "      <td>Sim</td>\n",
       "      <td>Ambos</td>\n",
       "    </tr>\n",
       "    <tr>\n",
       "      <th>151172</th>\n",
       "      <td>Centro Oeste</td>\n",
       "      <td>Urbana</td>\n",
       "      <td>1356.0</td>\n",
       "      <td>Nao</td>\n",
       "      <td>Nao</td>\n",
       "      <td>Nenhum</td>\n",
       "    </tr>\n",
       "    <tr>\n",
       "      <th>151173</th>\n",
       "      <td>Centro Oeste</td>\n",
       "      <td>Urbana</td>\n",
       "      <td>438.0</td>\n",
       "      <td>Sim</td>\n",
       "      <td>Sim</td>\n",
       "      <td>Ambos</td>\n",
       "    </tr>\n",
       "    <tr>\n",
       "      <th>151175</th>\n",
       "      <td>Centro Oeste</td>\n",
       "      <td>Urbana</td>\n",
       "      <td>635.0</td>\n",
       "      <td>Sim</td>\n",
       "      <td>Sim</td>\n",
       "      <td>Ambos</td>\n",
       "    </tr>\n",
       "    <tr>\n",
       "      <th>151179</th>\n",
       "      <td>Centro Oeste</td>\n",
       "      <td>Urbana</td>\n",
       "      <td>366.0</td>\n",
       "      <td>Sim</td>\n",
       "      <td>Nao</td>\n",
       "      <td>So TV</td>\n",
       "    </tr>\n",
       "    <tr>\n",
       "      <th>151181</th>\n",
       "      <td>Centro Oeste</td>\n",
       "      <td>Urbana</td>\n",
       "      <td>281.0</td>\n",
       "      <td>Sim</td>\n",
       "      <td>Nao</td>\n",
       "      <td>So TV</td>\n",
       "    </tr>\n",
       "    <tr>\n",
       "      <th>151182</th>\n",
       "      <td>Centro Oeste</td>\n",
       "      <td>Urbana</td>\n",
       "      <td>775.0</td>\n",
       "      <td>Sim</td>\n",
       "      <td>Sim</td>\n",
       "      <td>Ambos</td>\n",
       "    </tr>\n",
       "    <tr>\n",
       "      <th>151184</th>\n",
       "      <td>Centro Oeste</td>\n",
       "      <td>Urbana</td>\n",
       "      <td>675.0</td>\n",
       "      <td>Sim</td>\n",
       "      <td>Nao</td>\n",
       "      <td>So TV</td>\n",
       "    </tr>\n",
       "    <tr>\n",
       "      <th>151185</th>\n",
       "      <td>Centro Oeste</td>\n",
       "      <td>Urbana</td>\n",
       "      <td>100.0</td>\n",
       "      <td>Sim</td>\n",
       "      <td>Nao</td>\n",
       "      <td>So TV</td>\n",
       "    </tr>\n",
       "    <tr>\n",
       "      <th>151186</th>\n",
       "      <td>Centro Oeste</td>\n",
       "      <td>Urbana</td>\n",
       "      <td>796.0</td>\n",
       "      <td>Sim</td>\n",
       "      <td>Sim</td>\n",
       "      <td>Ambos</td>\n",
       "    </tr>\n",
       "    <tr>\n",
       "      <th>151187</th>\n",
       "      <td>Centro Oeste</td>\n",
       "      <td>Urbana</td>\n",
       "      <td>750.0</td>\n",
       "      <td>Sim</td>\n",
       "      <td>Nao</td>\n",
       "      <td>So TV</td>\n",
       "    </tr>\n",
       "    <tr>\n",
       "      <th>151188</th>\n",
       "      <td>Centro Oeste</td>\n",
       "      <td>Urbana</td>\n",
       "      <td>259.0</td>\n",
       "      <td>Sim</td>\n",
       "      <td>Sim</td>\n",
       "      <td>Ambos</td>\n",
       "    </tr>\n",
       "  </tbody>\n",
       "</table>\n",
       "<p>114617 rows × 6 columns</p>\n",
       "</div>"
      ],
      "text/plain": [
       "              Regiao    Meio    Renda   TV Internet   TvInternet\n",
       "0              Norte  Urbana    800.0  Sim      Nao        So TV\n",
       "2              Norte  Urbana   1150.0  Nao      Sim  So Internet\n",
       "3              Norte  Urbana    793.0  Sim      Sim        Ambos\n",
       "4              Norte  Urbana   2900.0  Nao      Nao       Nenhum\n",
       "5              Norte  Urbana   1990.0  Sim      Sim        Ambos\n",
       "6              Norte  Urbana    350.0  Sim      Nao        So TV\n",
       "7              Norte  Urbana   1333.0  Sim      Nao        So TV\n",
       "8              Norte  Urbana    818.0  Sim      Sim        Ambos\n",
       "10             Norte  Urbana   1716.0  Sim      Sim        Ambos\n",
       "11             Norte  Urbana   2500.0  Sim      Sim        Ambos\n",
       "13             Norte  Urbana   1400.0  Sim      Sim        Ambos\n",
       "15             Norte  Urbana    666.0  Sim      Sim        Ambos\n",
       "16             Norte  Urbana    788.0  Sim      Nao        So TV\n",
       "17             Norte  Urbana    750.0  Sim      Sim        Ambos\n",
       "18             Norte  Urbana   1437.0  Sim      Sim        Ambos\n",
       "19             Norte  Urbana    600.0  Sim      Sim        Ambos\n",
       "20             Norte  Urbana    933.0  Sim      Sim        Ambos\n",
       "21             Norte  Urbana   1087.0  Sim      Nao        So TV\n",
       "23             Norte  Urbana   2666.0  Sim      Sim        Ambos\n",
       "26             Norte  Urbana    700.0  Sim      Nao        So TV\n",
       "27             Norte  Urbana   3325.0  Sim      Sim        Ambos\n",
       "28             Norte  Urbana   3500.0  Sim      Sim        Ambos\n",
       "29             Norte  Urbana   1172.0  Sim      Sim        Ambos\n",
       "30             Norte  Urbana   1909.0  Sim      Nao        So TV\n",
       "31             Norte  Urbana   3000.0  Sim      Sim        Ambos\n",
       "32             Norte  Urbana    366.0  Sim      Sim        Ambos\n",
       "33             Norte  Urbana    175.0  Sim      Sim        Ambos\n",
       "35             Norte  Urbana    262.0  Sim      Nao        So TV\n",
       "36             Norte  Urbana     36.0  Sim      Nao        So TV\n",
       "37             Norte  Urbana    596.0  Sim      Sim        Ambos\n",
       "...              ...     ...      ...  ...      ...          ...\n",
       "151146  Centro Oeste  Urbana    950.0  Sim      Sim        Ambos\n",
       "151147  Centro Oeste  Urbana   1109.0  Sim      Sim        Ambos\n",
       "151148  Centro Oeste  Urbana    283.0  Sim      Sim        Ambos\n",
       "151150  Centro Oeste  Urbana   1427.0  Sim      Sim        Ambos\n",
       "151151  Centro Oeste  Urbana    355.0  Sim      Sim        Ambos\n",
       "151153  Centro Oeste  Urbana   1100.0  Sim      Sim        Ambos\n",
       "151155  Centro Oeste  Urbana   8700.0  Sim      Nao        So TV\n",
       "151156  Centro Oeste  Urbana   5000.0  Sim      Sim        Ambos\n",
       "151158  Centro Oeste  Urbana   5166.0  Sim      Sim        Ambos\n",
       "151159  Centro Oeste  Urbana   6066.0  Sim      Sim        Ambos\n",
       "151161  Centro Oeste  Urbana   6200.0  Sim      Sim        Ambos\n",
       "151163  Centro Oeste  Urbana   2500.0  Sim      Sim        Ambos\n",
       "151164  Centro Oeste  Urbana   6000.0  Sim      Sim        Ambos\n",
       "151165  Centro Oeste  Urbana   7600.0  Sim      Sim        Ambos\n",
       "151167  Centro Oeste  Urbana   9375.0  Sim      Sim        Ambos\n",
       "151168  Centro Oeste  Urbana  19850.0  Sim      Sim        Ambos\n",
       "151169  Centro Oeste  Urbana  10566.0  Sim      Sim        Ambos\n",
       "151170  Centro Oeste  Urbana  15320.0  Sim      Sim        Ambos\n",
       "151171  Centro Oeste  Urbana   3250.0  Sim      Sim        Ambos\n",
       "151172  Centro Oeste  Urbana   1356.0  Nao      Nao       Nenhum\n",
       "151173  Centro Oeste  Urbana    438.0  Sim      Sim        Ambos\n",
       "151175  Centro Oeste  Urbana    635.0  Sim      Sim        Ambos\n",
       "151179  Centro Oeste  Urbana    366.0  Sim      Nao        So TV\n",
       "151181  Centro Oeste  Urbana    281.0  Sim      Nao        So TV\n",
       "151182  Centro Oeste  Urbana    775.0  Sim      Sim        Ambos\n",
       "151184  Centro Oeste  Urbana    675.0  Sim      Nao        So TV\n",
       "151185  Centro Oeste  Urbana    100.0  Sim      Nao        So TV\n",
       "151186  Centro Oeste  Urbana    796.0  Sim      Sim        Ambos\n",
       "151187  Centro Oeste  Urbana    750.0  Sim      Nao        So TV\n",
       "151188  Centro Oeste  Urbana    259.0  Sim      Sim        Ambos\n",
       "\n",
       "[114617 rows x 6 columns]"
      ]
     },
     "execution_count": 122,
     "metadata": {},
     "output_type": "execute_result"
    }
   ],
   "source": [
    "dadosFinal['TvInternet'] = dadosFinal.apply(lambda row: TvInternet(row['TV'], row['Internet']), axis=1)\n",
    "dadosFinal"
   ]
  },
  {
   "cell_type": "code",
   "execution_count": 123,
   "metadata": {},
   "outputs": [
    {
     "name": "stdout",
     "output_type": "stream",
     "text": [
      "Pessoas Morando em Diferntes Regioes\n"
     ]
    },
    {
     "data": {
      "text/plain": [
       "Norte           16494\n",
       "Nordeste        32051\n",
       "Suldeste        34940\n",
       "Sul             18913\n",
       "Centro Oeste    12219\n",
       "Name: Regiao, dtype: int64"
      ]
     },
     "execution_count": 123,
     "metadata": {},
     "output_type": "execute_result"
    }
   ],
   "source": [
    "#Contanto Dados Regiao\n",
    "print('Pessoas Morando em Diferntes Regioes')\n",
    "dadosRegiao = dadosFinal.Regiao.value_counts().reindex(['Norte', 'Nordeste', 'Suldeste', 'Sul', 'Centro Oeste'])\n",
    "dadosRegiao"
   ]
  },
  {
   "cell_type": "code",
   "execution_count": 124,
   "metadata": {},
   "outputs": [
    {
     "name": "stdout",
     "output_type": "stream",
     "text": [
      "Pessoas que tem Internet\n"
     ]
    },
    {
     "data": {
      "text/plain": [
       "Sim    66001\n",
       "Nao    48616\n",
       "Name: Internet, dtype: int64"
      ]
     },
     "execution_count": 124,
     "metadata": {},
     "output_type": "execute_result"
    }
   ],
   "source": [
    "#Contando Dados Internet\n",
    "print('Pessoas que tem Internet')\n",
    "dadosInternet = dadosFinal.Internet.value_counts().reindex(['Sim', 'Nao'])\n",
    "dadosInternet"
   ]
  },
  {
   "cell_type": "code",
   "execution_count": 125,
   "metadata": {},
   "outputs": [
    {
     "name": "stdout",
     "output_type": "stream",
     "text": [
      "Pessoas que tem TV\n"
     ]
    },
    {
     "data": {
      "text/plain": [
       "Sim    111009\n",
       "Nao      3608\n",
       "Name: TV, dtype: int64"
      ]
     },
     "execution_count": 125,
     "metadata": {},
     "output_type": "execute_result"
    }
   ],
   "source": [
    "#Contando Dados TV\n",
    "print('Pessoas que tem TV')\n",
    "dadosTV = dadosFinal.TV.value_counts().reindex(['Sim', 'Nao'])\n",
    "dadosTV"
   ]
  },
  {
   "cell_type": "code",
   "execution_count": 126,
   "metadata": {},
   "outputs": [
    {
     "name": "stdout",
     "output_type": "stream",
     "text": [
      "Pessoas Vivendo em que Meio\n"
     ]
    },
    {
     "data": {
      "text/plain": [
       "Urbana    98804\n",
       "Rural     15813\n",
       "Name: Meio, dtype: int64"
      ]
     },
     "execution_count": 126,
     "metadata": {},
     "output_type": "execute_result"
    }
   ],
   "source": [
    "#Contando Dados Meio\n",
    "print('Pessoas Vivendo em que Meio')\n",
    "dadosMeio = dadosFinal.Meio.value_counts().reindex(['Urbana', 'Rural'])\n",
    "dadosMeio"
   ]
  },
  {
   "cell_type": "code",
   "execution_count": 127,
   "metadata": {},
   "outputs": [
    {
     "name": "stdout",
     "output_type": "stream",
     "text": [
      "Pessoas morando em Regioes (%)\n",
      "Norte           14.4\n",
      "Nordeste        28.0\n",
      "Suldeste        30.5\n",
      "Sul             16.5\n",
      "Centro Oeste    10.7\n",
      "Name: Regiao, dtype: float64 \n",
      "\n",
      "Pessoas que tem Internet (%)\n",
      "Sim    57.6\n",
      "Nao    42.4\n",
      "Name: Internet, dtype: float64 \n",
      "\n",
      "Pessoas que tem TV (%)\n",
      "Sim    96.9\n",
      "Nao     3.1\n",
      "Name: TV, dtype: float64 \n",
      "\n",
      "Pessoas que Vivem em Diferentes Meios (%)\n",
      "Urbana    86.2\n",
      "Rural     13.8\n",
      "Name: Meio, dtype: float64 \n",
      "\n"
     ]
    }
   ],
   "source": [
    "#Tabelas Univariadas\n",
    "print('Pessoas morando em Regioes (%)')\n",
    "RegioesPorCento = (dadosFinal.Regiao.value_counts(normalize=True)*100).round(decimals=1).reindex(['Norte', 'Nordeste', 'Suldeste', 'Sul', 'Centro Oeste'])\n",
    "print(RegioesPorCento,'\\n')\n",
    "\n",
    "print('Pessoas que tem Internet (%)')\n",
    "InternetPorCento = (dadosFinal.Internet.value_counts(normalize=True)*100).round(decimals=1).reindex(['Sim','Nao'])\n",
    "print(InternetPorCento,'\\n')\n",
    "\n",
    "print('Pessoas que tem TV (%)')\n",
    "TVPorCento = (dadosFinal.TV.value_counts(normalize=True)*100).round(decimals=1).reindex(['Sim','Nao'])\n",
    "print(TVPorCento,'\\n')\n",
    "\n",
    "print('Pessoas que Vivem em Diferentes Meios (%)')\n",
    "MeioPorCento = (dadosFinal.Meio.value_counts(normalize=True)*100).round(decimals=1).reindex(['Urbana','Rural'])\n",
    "print(MeioPorCento,'\\n')"
   ]
  },
  {
   "cell_type": "code",
   "execution_count": 128,
   "metadata": {},
   "outputs": [
    {
     "name": "stdout",
     "output_type": "stream",
     "text": [
      "Tabela Absoluta\n",
      "Regiao  Centro Oeste  Nordeste  Norte    Sul  Suldeste    All\n",
      "Meio                                                         \n",
      "Urbana         10989     25463  13089  16731     32532  98804\n",
      "Rural           1230      6588   3405   2182      2408  15813 \n",
      "\n",
      "Tabela em Porcentagem\n",
      "Meio          Urbana  Rural\n",
      "Regiao                     \n",
      "Norte           11.4    3.0\n",
      "Nordeste        22.2    5.7\n",
      "Suldeste        28.4    2.1\n",
      "Sul             14.6    1.9\n",
      "Centro Oeste     9.6    1.1 \n",
      "\n"
     ]
    },
    {
     "data": {
      "text/plain": [
       "<matplotlib.axes._subplots.AxesSubplot at 0x1bcd5dc8f60>"
      ]
     },
     "execution_count": 128,
     "metadata": {},
     "output_type": "execute_result"
    },
    {
     "data": {
      "image/png": "[encoded data removed]",
      "text/plain": [
       "<matplotlib.figure.Figure at 0x1bcd5d9e748>"
      ]
     },
     "metadata": {},
     "output_type": "display_data"
    }
   ],
   "source": [
    "#Regioes separando Urbano e RURAL\n",
    "ct=pd.crosstab(dadosFinal.Meio,dadosFinal.Regiao,margins=True,rownames=['Meio'], colnames=['Regiao'])\n",
    "ct=ct.loc[['Urbana','Rural']]\n",
    "print('Tabela Absoluta')\n",
    "print(ct,'\\n')\n",
    "\n",
    "print('Tabela em Porcentagem')\n",
    "ct1=(pd.crosstab(dadosFinal.Regiao,dadosFinal.Meio,margins=True,rownames=['Regiao'], colnames=['Meio'], normalize='all')*100).round(decimals=1)\n",
    "ct1=ct1.loc[['Norte', 'Nordeste', 'Suldeste', 'Sul', 'Centro Oeste'],['Urbana','Rural']]\n",
    "print(ct1,'\\n')\n",
    "\n",
    "ct1.plot(kind='bar', color=('grey', 'green'))\n",
    "\n"
   ]
  },
  {
   "cell_type": "code",
   "execution_count": 129,
   "metadata": {},
   "outputs": [
    {
     "name": "stdout",
     "output_type": "stream",
     "text": [
      "Tabela em Porcentagem\n",
      "TV             Sim  Nao\n",
      "Regiao                 \n",
      "Norte         13.5  0.9\n",
      "Nordeste      27.0  1.0\n",
      "Suldeste      29.9  0.5\n",
      "Sul           16.2  0.3\n",
      "Centro Oeste  10.3  0.4 \n",
      "\n",
      "TV             Sim  Nao\n",
      "Regiao                 \n",
      "Norte         13.5  0.9\n",
      "Nordeste      27.0  1.0\n",
      "Suldeste      29.9  0.5\n",
      "Sul           16.2  0.3\n",
      "Centro Oeste  10.3  0.4 \n",
      "\n"
     ]
    },
    {
     "data": {
      "text/plain": [
       "<matplotlib.axes._subplots.AxesSubplot at 0x1bcd64e7400>"
      ]
     },
     "execution_count": 129,
     "metadata": {},
     "output_type": "execute_result"
    },
    {
     "data": {
      "image/png": "[encoded data removed]",
      "text/plain": [
       "<matplotlib.figure.Figure at 0x1bcdf3a3c88>"
      ]
     },
     "metadata": {},
     "output_type": "display_data"
    },
    {
     "data": {
      "image/png": "[encoded data removed]",
      "text/plain": [
       "<matplotlib.figure.Figure at 0x1bcd64f0f98>"
      ]
     },
     "metadata": {},
     "output_type": "display_data"
    }
   ],
   "source": [
    "print('Tabela em Porcentagem')\n",
    "ct2=(pd.crosstab(dadosFinal.Regiao,dadosFinal.TV,margins=True,rownames=['Regiao'], colnames=['TV'], normalize='all')*100).round(decimals=1)\n",
    "ct2=ct2.loc[['Norte', 'Nordeste', 'Suldeste', 'Sul', 'Centro Oeste'],['Sim','Nao']]\n",
    "print(ct2,'\\n')\n",
    "\n",
    "ct2.plot(kind='bar', color=('grey', 'green'))\n",
    "\n",
    "ct3=(pd.crosstab(dadosFinal.Regiao,dadosFinal.Internet,margins=True,rownames=['Regiao'], colnames=['Internet'], normalize='all')*100).round(decimals=1)\n",
    "ct3=ct3.loc[['Norte', 'Nordeste', 'Suldeste', 'Sul', 'Centro Oeste'],['Sim','Nao']]\n",
    "print(ct2,'\\n')\n",
    "\n",
    "ct3.plot(kind='bar', color=('grey', 'green'))"
   ]
  },
  {
   "cell_type": "code",
   "execution_count": 130,
   "metadata": {},
   "outputs": [
    {
     "name": "stdout",
     "output_type": "stream",
     "text": [
      "Tv ou Internet  Ambos  Nenhum  So Internet  So TV\n",
      "Regiao                                           \n",
      "Norte             6.7     0.8          0.1    6.8\n",
      "Nordeste         13.7     0.8          0.2   13.3\n",
      "Suldeste         19.7     0.4          0.2   10.2\n",
      "Sul              10.3     0.2          0.1    5.9\n",
      "Centro Oeste      6.5     0.3          0.1    3.8 \n",
      "\n"
     ]
    },
    {
     "data": {
      "text/plain": [
       "<matplotlib.axes._subplots.AxesSubplot at 0x1bcdef7c588>"
      ]
     },
     "execution_count": 130,
     "metadata": {},
     "output_type": "execute_result"
    },
    {
     "data": {
      "image/png": "[encoded data removed]",
      "text/plain": [
       "<matplotlib.figure.Figure at 0x1bcdf355588>"
      ]
     },
     "metadata": {},
     "output_type": "display_data"
    }
   ],
   "source": [
    "ct4=(pd.crosstab(dadosFinal.Regiao,dadosFinal.TvInternet,margins=True,rownames=['Regiao'], colnames=['Tv ou Internet'], normalize='all')*100).round(decimals=1)\n",
    "ct4=ct4.loc[['Norte', 'Nordeste', 'Suldeste', 'Sul', 'Centro Oeste'],['Ambos','Nenhum','So Internet','So TV']]\n",
    "print(ct4,'\\n')\n",
    "ct4.plot(kind='bar', color=('grey', 'green','orange','red'),stacked=True)\n"
   ]
  },
  {
   "cell_type": "code",
   "execution_count": 131,
   "metadata": {},
   "outputs": [
    {
     "data": {
      "text/plain": [
       "count    114617.00\n",
       "mean       1257.76\n",
       "std        1962.37\n",
       "min           5.00\n",
       "25%         425.00\n",
       "50%         788.00\n",
       "75%        1333.00\n",
       "max      150000.00\n",
       "Name: Renda, dtype: float64"
      ]
     },
     "execution_count": 131,
     "metadata": {},
     "output_type": "execute_result"
    }
   ],
   "source": [
    "#faixa = np.arange(937, ,3.5)\n",
    "dadosFinal.Renda.describe().round(decimals=2)\n"
   ]
  },
  {
   "cell_type": "code",
   "execution_count": 132,
   "metadata": {},
   "outputs": [
    {
     "name": "stdout",
     "output_type": "stream",
     "text": [
      "14945040.0\n",
      "30004181.0\n",
      "27339546.0\n",
      "52316342.0\n",
      "19555043.0\n",
      "Oi\n",
      "12777295.0\n",
      "2167745.0\n"
     ]
    }
   ],
   "source": [
    "dadosNorte = dadosFinal[(dadosFinal.Regiao=='Norte')]\n",
    "dadosSul = dadosFinal[(dadosFinal.Regiao=='Sul')]\n",
    "dadosNordeste = dadosFinal[(dadosFinal.Regiao=='Nordeste')]\n",
    "dadosSuldeste = dadosFinal[(dadosFinal.Regiao=='Suldeste')]\n",
    "dadosCentroOeste = dadosFinal[(dadosFinal.Regiao=='Centro Oeste')]\n",
    "print(dadosNorte.Renda.sum())\n",
    "print(dadosSul.Renda.sum())\n",
    "print(dadosNordeste.Renda.sum())\n",
    "print(dadosSuldeste.Renda.sum())\n",
    "print(dadosCentroOeste.Renda.sum())\n",
    "\n",
    "dadosNorteUrbana = dadosNorte[(dadosNorte.Meio=='Urbana')]\n",
    "dadosNorteRural = dadosNorte[(dadosNorte.Meio=='Rural')]\n",
    "print('Oi')\n",
    "print(dadosNorteUrbana.Renda.sum())\n",
    "print(dadosNorteRural.Renda.sum())\n",
    "\n"
   ]
  },
  {
   "cell_type": "code",
   "execution_count": 133,
   "metadata": {},
   "outputs": [
    {
     "name": "stdout",
     "output_type": "stream",
     "text": [
      "Norte Urbana\n",
      "12777295.0\n",
      "Norte Rural\n",
      "2167745.0\n"
     ]
    },
    {
     "data": {
      "text/plain": [
       "<Container object of 2 artists>"
      ]
     },
     "execution_count": 133,
     "metadata": {},
     "output_type": "execute_result"
    },
    {
     "data": {
      "image/png": "[encoded data removed]",
      "text/plain": [
       "<matplotlib.figure.Figure at 0x1bcd5be5be0>"
      ]
     },
     "metadata": {},
     "output_type": "display_data"
    }
   ],
   "source": [
    "#Norte\n",
    "dadosNorteUrbana = dadosNorte[(dadosNorte.Meio=='Urbana')]\n",
    "dadosNorteRural = dadosNorte[(dadosNorte.Meio=='Rural')]\n",
    "print('Norte Urbana')\n",
    "DadosNorteUrbanaRendaSomada = dadosNorteUrbana.Renda.sum()\n",
    "print(DadosNorteUrbanaRendaSomada)\n",
    "print('Norte Rural')\n",
    "DadosNorteRuralRendaSomada = dadosNorteRural.Renda.sum()\n",
    "print(DadosNorteRuralRendaSomada)\n",
    "\n",
    "DadosNorteRendaSomada = [dadosNorteUrbana.Renda.sum() , dadosNorteRural.Renda.sum()]\n",
    "TotalNorte = dadosNorteUrbana.Renda.sum() + dadosNorteRural.Renda.sum()\n",
    "plt.bar([1,2],DadosNorteRendaSomada, color=\"blue\")"
   ]
  },
  {
   "cell_type": "code",
   "execution_count": 135,
   "metadata": {},
   "outputs": [],
   "source": [
    "#ct5.plot(kind='bar', color=('#f39c12', '#9b59b6','#2ecc71','#e74c3c','#bdc3c7','#f1c40f','#1abc9c','#34495e','#7f8c8d'))"
   ]
  },
  {
   "cell_type": "code",
   "execution_count": 139,
   "metadata": {},
   "outputs": [
    {
     "data": {
      "text/html": [
       "<div>\n",
       "<table border=\"1\" class=\"dataframe\">\n",
       "  <thead>\n",
       "    <tr>\n",
       "      <th>TvInternet</th>\n",
       "      <th colspan=\"2\" halign=\"left\">Ambos</th>\n",
       "      <th colspan=\"2\" halign=\"left\">Nenhum</th>\n",
       "      <th colspan=\"2\" halign=\"left\">So Internet</th>\n",
       "      <th colspan=\"2\" halign=\"left\">So TV</th>\n",
       "    </tr>\n",
       "    <tr>\n",
       "      <th>Meio</th>\n",
       "      <th>Rural</th>\n",
       "      <th>Urbana</th>\n",
       "      <th>Rural</th>\n",
       "      <th>Urbana</th>\n",
       "      <th>Rural</th>\n",
       "      <th>Urbana</th>\n",
       "      <th>Rural</th>\n",
       "      <th>Urbana</th>\n",
       "    </tr>\n",
       "    <tr>\n",
       "      <th>Regiao</th>\n",
       "      <th></th>\n",
       "      <th></th>\n",
       "      <th></th>\n",
       "      <th></th>\n",
       "      <th></th>\n",
       "      <th></th>\n",
       "      <th></th>\n",
       "      <th></th>\n",
       "    </tr>\n",
       "  </thead>\n",
       "  <tbody>\n",
       "    <tr>\n",
       "      <th>Norte</th>\n",
       "      <td>2.57</td>\n",
       "      <td>44.15</td>\n",
       "      <td>3.44</td>\n",
       "      <td>1.92</td>\n",
       "      <td>0.05</td>\n",
       "      <td>0.95</td>\n",
       "      <td>14.59</td>\n",
       "      <td>32.34</td>\n",
       "    </tr>\n",
       "    <tr>\n",
       "      <th>Nordeste</th>\n",
       "      <td>3.54</td>\n",
       "      <td>45.32</td>\n",
       "      <td>1.65</td>\n",
       "      <td>1.33</td>\n",
       "      <td>0.05</td>\n",
       "      <td>0.50</td>\n",
       "      <td>15.32</td>\n",
       "      <td>32.29</td>\n",
       "    </tr>\n",
       "    <tr>\n",
       "      <th>Suldeste</th>\n",
       "      <td>1.98</td>\n",
       "      <td>62.69</td>\n",
       "      <td>0.27</td>\n",
       "      <td>0.99</td>\n",
       "      <td>0.02</td>\n",
       "      <td>0.52</td>\n",
       "      <td>4.62</td>\n",
       "      <td>28.91</td>\n",
       "    </tr>\n",
       "    <tr>\n",
       "      <th>Sul</th>\n",
       "      <td>3.80</td>\n",
       "      <td>58.62</td>\n",
       "      <td>0.40</td>\n",
       "      <td>0.87</td>\n",
       "      <td>0.06</td>\n",
       "      <td>0.65</td>\n",
       "      <td>7.28</td>\n",
       "      <td>28.33</td>\n",
       "    </tr>\n",
       "    <tr>\n",
       "      <th>Centro Oeste</th>\n",
       "      <td>2.40</td>\n",
       "      <td>58.40</td>\n",
       "      <td>0.71</td>\n",
       "      <td>1.66</td>\n",
       "      <td>0.08</td>\n",
       "      <td>1.04</td>\n",
       "      <td>6.87</td>\n",
       "      <td>28.83</td>\n",
       "    </tr>\n",
       "  </tbody>\n",
       "</table>\n",
       "</div>"
      ],
      "text/plain": [
       "TvInternet   Ambos        Nenhum        So Internet         So TV       \n",
       "Meio         Rural Urbana  Rural Urbana       Rural Urbana  Rural Urbana\n",
       "Regiao                                                                  \n",
       "Norte         2.57  44.15   3.44   1.92        0.05   0.95  14.59  32.34\n",
       "Nordeste      3.54  45.32   1.65   1.33        0.05   0.50  15.32  32.29\n",
       "Suldeste      1.98  62.69   0.27   0.99        0.02   0.52   4.62  28.91\n",
       "Sul           3.80  58.62   0.40   0.87        0.06   0.65   7.28  28.33\n",
       "Centro Oeste  2.40  58.40   0.71   1.66        0.08   1.04   6.87  28.83"
      ]
     },
     "execution_count": 139,
     "metadata": {},
     "output_type": "execute_result"
    }
   ],
   "source": [
    "ct5=(pd.crosstab([dadosFinal.Regiao],[dadosFinal.TvInternet,dadosFinal.Meio],rownames=['Regiao'], colnames=['TvInternet','Meio'],normalize=\"index\")*100).round(decimals=2)\n",
    "ct5=ct5.loc[['Norte', 'Nordeste', 'Suldeste', 'Sul', 'Centro Oeste']]\n",
    "ct5"
   ]
  },
  {
   "cell_type": "code",
   "execution_count": 151,
   "metadata": {},
   "outputs": [
    {
     "data": {
      "text/plain": [
       "<matplotlib.legend.Legend at 0x1bce0e20be0>"
      ]
     },
     "execution_count": 151,
     "metadata": {},
     "output_type": "execute_result"
    },
    {
     "data": {
      "image/png": "[encoded data removed]",
      "text/plain": [
       "<matplotlib.figure.Figure at 0x1bce0df8e10>"
      ]
     },
     "metadata": {},
     "output_type": "display_data"
    }
   ],
   "source": [
    "ct5.plot(kind='bar', color=('#2ecc71', '#e74c3c','#3498db','#9b59b6','#34495e','#f1c40f','#e67e22','#bdc3c7'),figsize=(10,6),stacked=True)\n",
    "ax = plt.subplot(111)\n",
    "box = ax.get_position()\n",
    "ax.set_position([box.x0, box.y0, box.width * 0.8, box.height])\n",
    "ax.legend(loc='center left', bbox_to_anchor=(1, 0.5))"
   ]
  },
  {
   "cell_type": "code",
   "execution_count": null,
   "metadata": {},
   "outputs": [],
   "source": [
    "ct6=(pd.crosstab(dadosFinal.Regiao,dadosFinal.Renda.sum(),rownames=['Regiao'], colnames=['Meio']))\n",
    "ct6"
   ]
  },
  {
   "cell_type": "code",
   "execution_count": null,
   "metadata": {
    "collapsed": true
   },
   "outputs": [],
   "source": [
    "dadosFinal.to_csv(\"dadosFinal\")"
   ]
  },
  {
   "cell_type": "markdown",
   "metadata": {},
   "source": [
    "___\n",
    "## Conclusão "
   ]
  },
  {
   "cell_type": "markdown",
   "metadata": {
    "collapsed": true
   },
   "source": [
    "Descreva aqui suas conclusões!"
   ]
  },
  {
   "cell_type": "code",
   "execution_count": null,
   "metadata": {
    "collapsed": true
   },
   "outputs": [],
   "source": []
  }
 ],
 "metadata": {
  "anaconda-cloud": {},
  "kernelspec": {
   "display_name": "Python 3",
   "language": "python",
   "name": "python3"
  },
  "language_info": {
   "codemirror_mode": {
    "name": "ipython",
    "version": 3
   },
   "file_extension": ".py",
   "mimetype": "text/x-python",
   "name": "python",
   "nbconvert_exporter": "python",
   "pygments_lexer": "ipython3",
   "version": "3.6.0"
  }
 },
 "nbformat": 4,
 "nbformat_minor": 1
}
