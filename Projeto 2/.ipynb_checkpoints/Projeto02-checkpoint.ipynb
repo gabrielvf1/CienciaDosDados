{
 "cells": [
  {
   "cell_type": "markdown",
   "metadata": {},
   "source": [
    "# Projeto 2 - Classificador Automático de Sentimento\n",
    "\n",
    "Você foi contratado por uma empresa parar analisar como os clientes estão reagindo a um determinado produto no Twitter. A empresa deseja que você crie um programa que irá analisar as mensagens disponíveis e classificará como \"relevante\" ou \"irrelevante\". Com isso ela deseja que mensagens negativas, que denigrem o nome do produto, ou que mereçam destaque, disparem um foco de atenção da área de marketing.<br /><br />\n",
    "Como aluno de Ciência dos Dados, você lembrou do Teorema de Bayes, mais especificamente do Classificador Naive-Bayes, que é largamente utilizado em filtros anti-spam de e-mails. O classificador permite calcular qual a probabilidade de uma mensagem ser relevante dadas as palavras em seu conteúdo.<br /><br />\n",
    "Para realizar o MVP (*minimum viable product*) do projeto, você precisa implementar uma versão do classificador que \"aprende\" o que é relevante com uma base de treinamento e compara a performance dos resultados com uma base de testes.<br /><br />\n",
    "Após validado, o seu protótipo poderá também capturar e classificar automaticamente as mensagens da plataforma.\n",
    "\n",
    "## Informações do Projeto\n",
    "\n",
    "Prazo: 13/Set até às 23:59.<br />\n",
    "Grupo: 1 ou 2 pessoas.<br /><br />\n",
    "Entregáveis via GitHub: \n",
    "* Arquivo notebook com o código do classificador, seguindo as orientações abaixo.\n",
    "* Arquivo Excel com as bases de treinamento e teste totalmente classificado.\n",
    "\n",
    "**NÃO disponibilizar o arquivo com os *access keys/tokens* do Twitter.**\n",
    "\n",
    "\n",
    "### Check 3: \n",
    "\n",
    "Até o dia 06 de Setembro às 23:59, o notebook e o xlsx devem estar no Github com as seguintes evidências: \n",
    "    * Conta no twitter criada.\n",
    "    * Produto escolhido.\n",
    "    * Arquivo Excel contendo a base de treinamento e teste já classificado.\n",
    "\n",
    "Sugestão de leitura:<br />\n",
    "http://docs.tweepy.org/en/v3.5.0/index.html<br />\n",
    "https://monkeylearn.com/blog/practical-explanation-naive-bayes-classifier/"
   ]
  },
  {
   "cell_type": "markdown",
   "metadata": {},
   "source": [
    "___\n",
    "\n",
    "## Preparando o ambiente\n",
    "\n",
    "Instalando a biblioteca *tweepy* para realizar a conexão com o Twitter:"
   ]
  },
  {
   "cell_type": "code",
   "execution_count": 2,
   "metadata": {
    "collapsed": true
   },
   "outputs": [],
   "source": [
    "#%%capture\n",
    "\n",
    "#Instalando o tweepy\n",
    "#!pip install tweepy"
   ]
  },
  {
   "cell_type": "markdown",
   "metadata": {},
   "source": [
    "Importando as Bibliotecas que serão utilizadas. Esteja livre para adicionar outras."
   ]
  },
  {
   "cell_type": "code",
   "execution_count": 4,
   "metadata": {
    "collapsed": true
   },
   "outputs": [],
   "source": [
    "#import tweepy\n",
    "import math\n",
    "import os.path\n",
    "import pandas as pd\n",
    "import json\n",
    "from random import shuffle"
   ]
  },
  {
   "cell_type": "markdown",
   "metadata": {},
   "source": [
    "___\n",
    "## Autenticando no  Twitter\n",
    "\n",
    "Para realizar a captura dos dados é necessário ter uma conta cadastrada no twitter:\n",
    "\n",
    "* Conta: ***[Preencha aqui o id da sua conta. Ex: @fulano ]***\n",
    "\n",
    "\n",
    "1. Caso ainda não tenha uma: https://twitter.com/signup\n",
    "1. Depois é necessário registrar um app para usar a biblioteca: https://apps.twitter.com/\n",
    "1. Dentro do registro do App, na aba Keys and Access Tokens, anotar os seguintes campos:\n",
    "    1. Consumer Key (API Key)\n",
    "    1. Consumer Secret (API Secret)\n",
    "1. Mais abaixo, gere um Token e anote também:\n",
    "    1. Access Token\n",
    "    1. Access Token Secret\n",
    "    \n",
    "1. Preencha os valores no arquivo \"auth.pass\"\n",
    "\n",
    "**ATENÇÃO**: Nunca divulgue os dados desse arquivo online (GitHub, etc). Ele contém as chaves necessárias para realizar as operações no twitter de forma automática e portanto é equivalente a ser \"hackeado\". De posse desses dados, pessoas mal intencionadas podem fazer todas as operações manuais (tweetar, seguir, bloquear/desbloquear, listar os seguidores, etc). Para efeito do projeto, esse arquivo não precisa ser entregue!!!"
   ]
  },
  {
   "cell_type": "code",
   "execution_count": 5,
   "metadata": {},
   "outputs": [
    {
     "ename": "NameError",
     "evalue": "name 'tweepy' is not defined",
     "output_type": "error",
     "traceback": [
      "\u001b[0;31m---------------------------------------------------------------------------\u001b[0m",
      "\u001b[0;31mNameError\u001b[0m                                 Traceback (most recent call last)",
      "\u001b[0;32m<ipython-input-5-9ddcab6a0751>\u001b[0m in \u001b[0;36m<module>\u001b[0;34m()\u001b[0m\n\u001b[1;32m      8\u001b[0m \u001b[1;33m\u001b[0m\u001b[0m\n\u001b[1;32m      9\u001b[0m \u001b[1;31m#Configurando a biblioteca. Não modificar\u001b[0m\u001b[1;33m\u001b[0m\u001b[1;33m\u001b[0m\u001b[0m\n\u001b[0;32m---> 10\u001b[0;31m \u001b[0mauth\u001b[0m \u001b[1;33m=\u001b[0m \u001b[0mtweepy\u001b[0m\u001b[1;33m.\u001b[0m\u001b[0mOAuthHandler\u001b[0m\u001b[1;33m(\u001b[0m\u001b[0mdata\u001b[0m\u001b[1;33m[\u001b[0m\u001b[1;34m'consumer_key'\u001b[0m\u001b[1;33m]\u001b[0m\u001b[1;33m,\u001b[0m \u001b[0mdata\u001b[0m\u001b[1;33m[\u001b[0m\u001b[1;34m'consumer_secret'\u001b[0m\u001b[1;33m]\u001b[0m\u001b[1;33m)\u001b[0m\u001b[1;33m\u001b[0m\u001b[0m\n\u001b[0m\u001b[1;32m     11\u001b[0m \u001b[0mauth\u001b[0m\u001b[1;33m.\u001b[0m\u001b[0mset_access_token\u001b[0m\u001b[1;33m(\u001b[0m\u001b[0mdata\u001b[0m\u001b[1;33m[\u001b[0m\u001b[1;34m'access_token'\u001b[0m\u001b[1;33m]\u001b[0m\u001b[1;33m,\u001b[0m \u001b[0mdata\u001b[0m\u001b[1;33m[\u001b[0m\u001b[1;34m'access_token_secret'\u001b[0m\u001b[1;33m]\u001b[0m\u001b[1;33m)\u001b[0m\u001b[1;33m\u001b[0m\u001b[0m\n",
      "\u001b[0;31mNameError\u001b[0m: name 'tweepy' is not defined"
     ]
    }
   ],
   "source": [
    "#Dados de autenticação do twitter:\n",
    "\n",
    "#Coloque aqui o identificador da conta no twitter: @MathDuarth\n",
    "\n",
    "#leitura do arquivo no formato JSON\n",
    "with open('auth.pass') as fp:    \n",
    "    data = json.load(fp)\n",
    "\n",
    "#Configurando a biblioteca. Não modificar\n",
    "auth = tweepy.OAuthHandler(data['consumer_key'], data['consumer_secret'])\n",
    "auth.set_access_token(data['access_token'], data['access_token_secret'])"
   ]
  },
  {
   "cell_type": "markdown",
   "metadata": {},
   "source": [
    "___\n",
    "## Coletando Dados\n",
    "\n",
    "Agora vamos coletar os dados. Tenha em mente que dependendo do produto escolhido, não haverá uma quantidade significativa de mensagens, ou ainda poder haver muitos retweets.<br /><br /> \n",
    "Configurando:"
   ]
  },
  {
   "cell_type": "code",
   "execution_count": null,
   "metadata": {
    "collapsed": true
   },
   "outputs": [],
   "source": [
    "#Produto escolhido:\n",
    "produto = 'Annabelle 2'\n",
    "\n",
    "#Quantidade mínima de mensagens capturadas:\n",
    "n = 500\n",
    "#Quantidade mínima de mensagens para a base de treinamento:\n",
    "t = 300\n",
    "\n",
    "#Filtro de língua, escolha uma na tabela ISO 639-1.\n",
    "lang = 'pt'"
   ]
  },
  {
   "cell_type": "markdown",
   "metadata": {},
   "source": [
    "Capturando os dados do twitter:"
   ]
  },
  {
   "cell_type": "code",
   "execution_count": null,
   "metadata": {
    "collapsed": true
   },
   "outputs": [],
   "source": [
    "#Cria um objeto para a captura\n",
    "api = tweepy.API(auth)\n",
    "\n",
    "#Inicia a captura, para mais detalhes: ver a documentação do tweepy\n",
    "i = 1\n",
    "msgs = []\n",
    "for msg in tweepy.Cursor(api.search, q=produto, lang=lang).items():    \n",
    "    msgs.append(msg.text.lower())\n",
    "    i += 1\n",
    "    if i > n:\n",
    "        break\n",
    "\n",
    "#Embaralhando as mensagens para reduzir um possível viés\n",
    "shuffle(msgs)"
   ]
  },
  {
   "cell_type": "markdown",
   "metadata": {},
   "source": [
    "Salvando os dados em uma planilha Excel:"
   ]
  },
  {
   "cell_type": "code",
   "execution_count": null,
   "metadata": {
    "collapsed": true
   },
   "outputs": [],
   "source": [
    "#Verifica se o arquivo não existe para não substituir um conjunto pronto\n",
    "if not os.path.isfile('./{0}.xlsx'.format(produto)):\n",
    "    \n",
    "    #Abre o arquivo para escrita\n",
    "    writer = pd.ExcelWriter('{0}.xlsx'.format(produto))\n",
    "\n",
    "    #divide o conjunto de mensagens em duas planilhas\n",
    "    dft = pd.DataFrame({'Treinamento' : pd.Series(msgs[:t])})\n",
    "    dft.to_excel(excel_writer = writer, sheet_name = 'Treinamento', index = False)\n",
    "\n",
    "    dfc = pd.DataFrame({'Teste' : pd.Series(msgs[t:])})\n",
    "    dfc.to_excel(excel_writer = writer, sheet_name = 'Teste', index = False)\n",
    "\n",
    "    #fecha o arquivo\n",
    "    writer.save()"
   ]
  },
  {
   "cell_type": "markdown",
   "metadata": {},
   "source": [
    "___\n",
    "## Classificando as Mensagens\n",
    "\n",
    "Agora você deve abrir o arquivo Excel com as mensagens capturadas e classificar na Coluna B se a mensagem é relevante ou não.<br /> \n",
    "Não se esqueça de colocar um nome para a coluna na célula **B1**.<br /><br />\n",
    "Fazer o mesmo na planilha de Controle.\n",
    "\n",
    "___\n",
    "## Montando o Classificador Naive-Bayes\n",
    "\n",
    "Com a base de treinamento montada, comece a desenvolver o classificador. Escreva o seu código abaixo:\n",
    "\n",
    "Opcionalmente: \n",
    "* Limpar as mensagens removendo os caracteres: enter, :, \", ', (, ), etc. Não remover emojis.<br />\n",
    "* Corrigir separação de espaços entre palavras e/ou emojis.\n",
    "* Propor outras limpezas/transformações que não afetem a qualidade da informação.\n",
    "\n"
   ]
  },
  {
   "cell_type": "code",
   "execution_count": 65,
   "metadata": {
    "collapsed": true
   },
   "outputs": [],
   "source": [
    "import math\n",
    "import os.path\n",
    "import pandas as pd\n",
    "import json\n",
    "from random import shuffle"
   ]
  },
  {
   "cell_type": "code",
   "execution_count": 66,
   "metadata": {},
   "outputs": [
    {
     "name": "stdout",
     "output_type": "stream",
     "text": [
      "Esperamos trabalhar no diretório\n",
      "C:\\Users\\vf_ga\\OneDrive\\Documentos\\2º Semestre Eng\\Ciencia dos Dados\\GIT\\CienciaDosDados\\Projeto 2\n"
     ]
    }
   ],
   "source": [
    "print('Esperamos trabalhar no diretório')\n",
    "print(os.getcwd())"
   ]
  },
  {
   "cell_type": "code",
   "execution_count": 67,
   "metadata": {},
   "outputs": [
    {
     "data": {
      "text/html": [
       "<div>\n",
       "<table border=\"1\" class=\"dataframe\">\n",
       "  <thead>\n",
       "    <tr style=\"text-align: right;\">\n",
       "      <th></th>\n",
       "      <th>Treinamento</th>\n",
       "      <th>Relevancia</th>\n",
       "    </tr>\n",
       "  </thead>\n",
       "  <tbody>\n",
       "    <tr>\n",
       "      <th>0</th>\n",
       "      <td>rt @omelete: emoji - o filme ultrapassa annabe...</td>\n",
       "      <td>Não</td>\n",
       "    </tr>\n",
       "    <tr>\n",
       "      <th>1</th>\n",
       "      <td>acho que vou ver annabelle 2 quinta \\no cu já ...</td>\n",
       "      <td>Sim</td>\n",
       "    </tr>\n",
       "    <tr>\n",
       "      <th>2</th>\n",
       "      <td>@raffaimp annabelle 2, quinta-feira 18:40. fec...</td>\n",
       "      <td>Sim</td>\n",
       "    </tr>\n",
       "    <tr>\n",
       "      <th>3</th>\n",
       "      <td>nunca tive tanta vontade de ir ao cinema, quan...</td>\n",
       "      <td>Sim</td>\n",
       "    </tr>\n",
       "    <tr>\n",
       "      <th>4</th>\n",
       "      <td>annabelle 2 deixou mt desejar, está mt sletzinho</td>\n",
       "      <td>Sim</td>\n",
       "    </tr>\n",
       "  </tbody>\n",
       "</table>\n",
       "</div>"
      ],
      "text/plain": [
       "                                         Treinamento Relevancia\n",
       "0  rt @omelete: emoji - o filme ultrapassa annabe...        Não\n",
       "1  acho que vou ver annabelle 2 quinta \\no cu já ...        Sim\n",
       "2  @raffaimp annabelle 2, quinta-feira 18:40. fec...        Sim\n",
       "3  nunca tive tanta vontade de ir ao cinema, quan...        Sim\n",
       "4   annabelle 2 deixou mt desejar, está mt sletzinho        Sim"
      ]
     },
     "execution_count": 67,
     "metadata": {},
     "output_type": "execute_result"
    }
   ],
   "source": [
    "dadosTreinamento = pd.read_excel('Annabelle_2.xlsx', sheetname=\"Treinamento\")\n",
    "dadosTreinamento.head()"
   ]
  },
  {
   "cell_type": "code",
   "execution_count": 68,
   "metadata": {},
   "outputs": [
    {
     "data": {
      "text/plain": [
       "0    rt @omelete: emoji - o filme ultrapassa annabe...\n",
       "1    acho que vou ver annabelle 2 quinta \\no cu já ...\n",
       "2    @raffaimp annabelle 2, quinta-feira 18:40. fec...\n",
       "3    nunca tive tanta vontade de ir ao cinema, quan...\n",
       "4     annabelle 2 deixou mt desejar, está mt sletzinho\n",
       "Name: Treinamento, dtype: object"
      ]
     },
     "execution_count": 68,
     "metadata": {},
     "output_type": "execute_result"
    }
   ],
   "source": [
    "dadosTreinamento.Treinamento.head()"
   ]
  },
  {
   "cell_type": "code",
   "execution_count": 69,
   "metadata": {},
   "outputs": [
    {
     "data": {
      "text/plain": [
       "0    rt @omelete: emoji filme ultrapassa annabelle ...\n",
       "1    acho que vou ver annabelle 2 quinta \\no cu já ...\n",
       "2      @raffaimp annabelle 2 quintafeira 18:40 fechou \n",
       "3    nunca tive tanta vontade de ir ao cinema quant...\n",
       "4      annabelle 2 deixou mt desejar está mt sletzinho\n",
       "Name: Treinamento, dtype: object"
      ]
     },
     "execution_count": 69,
     "metadata": {},
     "output_type": "execute_result"
    }
   ],
   "source": [
    "dadosTreinamento['Treinamento'] = dados['Treinamento'].str.replace(\",\",\"\")\n",
    "dadosTreinamento['Treinamento'] = dadosTreinamento['Treinamento'].str.replace(\".\",\"\")\n",
    "dadosTreinamento['Treinamento'] = dadosTreinamento['Treinamento'].str.replace(\"'\",\"\")\n",
    "dadosTreinamento['Treinamento'] = dadosTreinamento['Treinamento'].str.replace('\"',\"\")\n",
    "dadosTreinamento['Treinamento'] = dadosTreinamento['Treinamento'].str.replace(\"-\",\"\")\n",
    "dadosTreinamento['Treinamento'] = dadosTreinamento['Treinamento'].str.replace(\"!\",\"\")\n",
    "dadosTreinamento['Treinamento'] = dadosTreinamento['Treinamento'].str.replace(\"?\",\"\")\n",
    "dadosTreinamento['Treinamento'] = dadosTreinamento['Treinamento'].str.replace(\")\",\"\")\n",
    "dadosTreinamento['Treinamento'] = dadosTreinamento['Treinamento'].str.replace(\"(\",\"\")\n",
    "dadosTreinamento['Treinamento'] = dadosTreinamento['Treinamento'].str.replace(\" a \",\" \")\n",
    "dadosTreinamento['Treinamento'] = dadosTreinamento['Treinamento'].str.replace(\" as \",\" \")\n",
    "dadosTreinamento['Treinamento'] = dadosTreinamento['Treinamento'].str.replace(\" o \",\" \")\n",
    "dadosTreinamento['Treinamento'] = dadosTreinamento['Treinamento'].str.replace(\" os \",\" \")\n",
    "dadosTreinamento['Treinamento'] = dadosTreinamento['Treinamento'].str.lower()\n",
    "\n",
    "dadosTreinamento.Treinamento.head()"
   ]
  },
  {
   "cell_type": "code",
   "execution_count": 70,
   "metadata": {
    "collapsed": true
   },
   "outputs": [],
   "source": [
    "naoRelevante=[]\n",
    "relevante=[]\n",
    "naoRelevanteSplit=[]\n",
    "relevanteSplit=[]\n",
    "listaTodasIrrelevantes=[]\n",
    "listaTodasRelevantes=[]\n",
    "listaTodasIrrelevantes=[]\n",
    "universoGeral=[]\n",
    "universoRelevanteSemRepeticao=[]\n",
    "universoIrrelevanteSemRepeticao=[]\n",
    "contandoCadaRelevante = {}\n",
    "contandoCadaIrrelevante = {}\n",
    "contantoProbabilidadeCadaPalavraRelevante = {}\n",
    "contantoProbabilidadeCadaPalavraIrrelevante = {}\n",
    "\n",
    "for i in range(len(dadosTreinamento.Treinamento)):\n",
    "    if dadosTreinamento.Relevancia[i] == \"Não\":\n",
    "        naoRelevante.append(dados.Treinamento[i])\n",
    "    if dadosTreinamento.Relevancia[i] == \"Sim\":\n",
    "        relevante.append(dados.Treinamento[i])\n",
    "\n",
    "for i in naoRelevante:\n",
    "    split = i.split()\n",
    "    naoRelevanteSplit.append(split)\n",
    "\n",
    "for i in relevante:\n",
    "    split = i.split()\n",
    "    relevanteSplit.append(split)\n",
    "    \n",
    "for i in relevanteSplit:\n",
    "    for u in i:\n",
    "        listaTodasRelevantes.append(u)\n",
    "\n",
    "for i in naoRelevanteSplit:\n",
    "    for u in i:\n",
    "        listaTodasIrrelevantes.append(u)\n",
    "        \n",
    "for i in listaTodasRelevantes:\n",
    "    total=listaTodasRelevantes.count(i)\n",
    "    contandoCadaRelevante[i] = total\n",
    "\n",
    "for i in listaTodasIrrelevantes:\n",
    "    total=listaTodasIrrelevantes.count(i)\n",
    "    contandoCadaIrrelevante[i] = total\n",
    "    \n",
    "universoGeral.extend(listaTodasIrrelevantes)\n",
    "universoGeral.extend(listaTodasRelevantes)"
   ]
  },
  {
   "cell_type": "code",
   "execution_count": 71,
   "metadata": {
    "collapsed": true
   },
   "outputs": [],
   "source": [
    "#Geral\n",
    "universoGeralSemRepeticao = set(universoGeral)\n",
    "numeroGeralSemRepeticao = len(universoGeralSemRepeticao)\n",
    "\n",
    "#Relevante\n",
    "universoRelevanteSemRepeticao = set(listaTodasRelevantes)\n",
    "numeroRelevanteSemRepeticao = len(universoRelevanteSemRepeticao)\n",
    "\n",
    "#Irrelevante\n",
    "universoIrrelevanteSemRepeticao = set(listaTodasIrrelevantes)\n",
    "numeroIrrelevanteSemRepeticao = len(universoIrrelevanteSemRepeticao)"
   ]
  },
  {
   "cell_type": "code",
   "execution_count": 72,
   "metadata": {},
   "outputs": [
    {
     "name": "stdout",
     "output_type": "stream",
     "text": [
      "872\n",
      "553\n",
      "447\n"
     ]
    }
   ],
   "source": [
    "#serie_todas = pd.Series(universoGeral)\n",
    "print(numeroGeralSemRepeticao)\n",
    "print(numeroRelevanteSemRepeticao)\n",
    "print(numeroIrrelevanteSemRepeticao)"
   ]
  },
  {
   "cell_type": "code",
   "execution_count": 73,
   "metadata": {
    "collapsed": true
   },
   "outputs": [],
   "source": [
    "for i in universoRelevanteSemRepeticao:\n",
    "    contantoProbabilidadeCadaPalavraRelevante[i] = (contandoCadaRelevante[i] + 1) / (numeroRelevanteSemRepeticao + numeroGeralSemRepeticao)\n",
    "\n",
    "for i in universoIrrelevanteSemRepeticao:\n",
    "    contantoProbabilidadeCadaPalavraIrrelevante[i] = (contandoCadaIrrelevante[i] + 1) / (numeroIrrelevanteSemRepeticao + numeroGeralSemRepeticao)"
   ]
  },
  {
   "cell_type": "code",
   "execution_count": 74,
   "metadata": {},
   "outputs": [
    {
     "data": {
      "text/html": [
       "<div>\n",
       "<table border=\"1\" class=\"dataframe\">\n",
       "  <thead>\n",
       "    <tr style=\"text-align: right;\">\n",
       "      <th></th>\n",
       "      <th>Teste</th>\n",
       "      <th>Relevancia</th>\n",
       "    </tr>\n",
       "  </thead>\n",
       "  <tbody>\n",
       "    <tr>\n",
       "      <th>0</th>\n",
       "      <td>fui ver annabelle 2, e os sustos veio a tona k...</td>\n",
       "      <td>Sim</td>\n",
       "    </tr>\n",
       "    <tr>\n",
       "      <th>1</th>\n",
       "      <td>annabelle 2 tinha de tudo pra ser bom\\nfinal ruim</td>\n",
       "      <td>Sim</td>\n",
       "    </tr>\n",
       "    <tr>\n",
       "      <th>2</th>\n",
       "      <td>rt @omelete: emoji - o filme ultrapassa annabe...</td>\n",
       "      <td>Não</td>\n",
       "    </tr>\n",
       "    <tr>\n",
       "      <th>3</th>\n",
       "      <td>annabelle 2 é pesado, meu deus</td>\n",
       "      <td>Sim</td>\n",
       "    </tr>\n",
       "    <tr>\n",
       "      <th>4</th>\n",
       "      <td>rt @vemprovictor: vocês acharam annabelle 2 as...</td>\n",
       "      <td>Não</td>\n",
       "    </tr>\n",
       "  </tbody>\n",
       "</table>\n",
       "</div>"
      ],
      "text/plain": [
       "                                               Teste Relevancia\n",
       "0  fui ver annabelle 2, e os sustos veio a tona k...        Sim\n",
       "1  annabelle 2 tinha de tudo pra ser bom\\nfinal ruim        Sim\n",
       "2  rt @omelete: emoji - o filme ultrapassa annabe...        Não\n",
       "3                     annabelle 2 é pesado, meu deus        Sim\n",
       "4  rt @vemprovictor: vocês acharam annabelle 2 as...        Não"
      ]
     },
     "execution_count": 74,
     "metadata": {},
     "output_type": "execute_result"
    }
   ],
   "source": [
    "dadosTeste = pd.read_excel('Annabelle_2.xlsx', sheetname=\"Teste\")\n",
    "dadosTeste.head()"
   ]
  },
  {
   "cell_type": "code",
   "execution_count": 75,
   "metadata": {},
   "outputs": [
    {
     "data": {
      "text/plain": [
       "0       fui ver annabelle 2 e sustos veio tona kkkkkkk\n",
       "1    annabelle 2 tinha de tudo pra ser bom\\nfinal ruim\n",
       "2    rt @omelete: emoji  filme ultrapassa annabelle...\n",
       "3                        annabelle 2 é pesado meu deus\n",
       "4    rt @vemprovictor: vocês acharam annabelle 2 as...\n",
       "Name: Teste, dtype: object"
      ]
     },
     "execution_count": 75,
     "metadata": {},
     "output_type": "execute_result"
    }
   ],
   "source": [
    "dadosTeste['Teste'] = dadosTeste['Teste'].str.replace(\",\",\"\")\n",
    "dadosTeste['Teste'] = dadosTeste['Teste'].str.replace(\".\",\"\")\n",
    "dadosTeste['Teste'] = dadosTeste['Teste'].str.replace(\"'\",\"\")\n",
    "dadosTeste['Teste'] = dadosTeste['Teste'].str.replace('\"',\"\")\n",
    "dadosTeste['Teste'] = dadosTeste['Teste'].str.replace(\"-\",\"\")\n",
    "dadosTeste['Teste'] = dadosTeste['Teste'].str.replace(\"!\",\"\")\n",
    "dadosTeste['Teste'] = dadosTeste['Teste'].str.replace(\"?\",\"\")\n",
    "dadosTeste['Teste'] = dadosTeste['Teste'].str.replace(\")\",\"\")\n",
    "dadosTeste['Teste'] = dadosTeste['Teste'].str.replace(\"(\",\"\")\n",
    "dadosTeste['Teste'] = dadosTeste['Teste'].str.replace(\" a \",\" \")\n",
    "dadosTeste['Teste'] = dadosTeste['Teste'].str.replace(\" as \",\" \")\n",
    "dadosTeste['Teste'] = dadosTeste['Teste'].str.replace(\" o \",\" \")\n",
    "dadosTeste['Teste'] = dadosTeste['Teste'].str.replace(\" os \",\" \")\n",
    "dadosTeste['Teste'] = dadosTeste['Teste'].str.lower()\n",
    "\n",
    "dadosTeste.Teste.head()"
   ]
  },
  {
   "cell_type": "code",
   "execution_count": 79,
   "metadata": {},
   "outputs": [
    {
     "name": "stdout",
     "output_type": "stream",
     "text": [
      "[['fui', 'ver', 'annabelle', '2', 'e', 'sustos', 'veio', 'tona', 'kkkkkkk'], ['annabelle', '2', 'tinha', 'de', 'tudo', 'pra', 'ser', 'bom', 'final', 'ruim'], ['rt', '@omelete:', 'emoji', 'filme', 'ultrapassa', 'annabelle', '2', 'e', 'estreia', 'no', 'topo', 'da', 'bilheteria', 'brasil', 'https://tco/x8qftgcibv', 'https://tco/oddslmwr3f'], ['annabelle', '2', 'é', 'pesado', 'meu', 'deus'], ['rt', '@vemprovictor:', 'vocês', 'acharam', 'annabelle', '2', 'assustadoré', 'porque', 'vocês', 'ainda', 'não', 'viram', 'minha', 'irma', 'gritando', 'falando', 'que', 'não', 'quer', 'fazer', 'tare…'], ['rt', '@_bingewatching:', 'confira', 'crítica', 'do', 'filme', 'annabelle', '2:', 'criação', 'do', 'mal', 'no', 'site', 'do', 'binge', 'watching', 'blog', 'o…', 'https://tco/319nwh19fq'], ['rt', '@horrormoviesbr:', '#news:', 'emoji', 'filme', 'ultrapassa', 'annabelle', '2', 'e', 'estreia', 'no', 'topo', 'da', 'bilheteria', 'brasileira', 'e', 'choca', 'total', 'de', '0', 'fãs', 'que', 'a…'], ['nada', 'como', 'vir', 'chapada', 'pro', 'cinema', 'ver', 'annabelle', '2', '@enric0k9'], ['annabelle', '2:', 'longa', 'bate', 'corra', 'como', 'terror', 'de', 'maior', 'faturamento', 'em', '2017', 'https://tco/9xholrd72d', 'https://tco/nhjit2bfiz'], ['rt', '@omelete:', 'emoji', 'filme', 'ultrapassa', 'annabelle', '2', 'e', 'estreia', 'no', 'topo', 'da', 'bilheteria', 'brasil', 'https://tco/x8qftgcibv', 'https://tco/roxed4amep'], ['@monyckeeee', 'ce', 'ja', 'assistiu', 'annabelle', '2', 'dps', 'de', 'ontem', 'eu', 'juro', 'nunca', 'mais', 'assisto'], ['o', 'que', 'james', 'wan', 'invocação', 'do', 'mal', 'e', 'annabelle', '2:', 'criação', 'do', 'mal', 'têm', 'de', 'especial', 'https://tco/kfta1bmoxd'], ['rt', '@celsodossi:', 'pra', 'que', 'ir', 'até', 'um', 'cinema', 'passar', 'medo', 'com', 'annabelle', '2', 'se', 'vc', 'pode', 'ficar', 'em', 'casa', 'e', 'de', 'repente', 'ouvir', 'musiquinha', 'do', 'plantão…'], ['rt', '@queridojeito:', '“às', 'vezes', 'falar', 'sobre', 'coisas', 'que', 'nos', 'incomoda', 'é', 'toda', 'ajuda', 'que', 'precisamos”', '—', 'annabelle', '2', '–', 'criação', 'do', 'mal'], ['@rafaapandolfo', 'assim', 'esperamos', 'aksiakskkas', 'annabelle', '2', 'foi', 'ótimo', 'também', 'vi', 'semana', 'passada', 'muito', 'melhor', 'que', 'primeiro'], ['caraca', 'ninguém', 'quer', 'ver', 'annabelle', '2', 'amanhã', 'cês', 'são', 'uns', 'bando', 'de', 'cagão'], ['gostei', 'de', 'um', 'vídeo', '@youtube', 'https://tco/j1kobovs8s', 'dia', 'em', 'que', 'assisti', 'annabelle', '2'], ['rt', '@omelete:', 'emoji', 'filme', 'ultrapassa', 'annabelle', '2', 'e', 'estreia', 'no', 'topo', 'da', 'bilheteria', 'brasil', 'https://tco/x8qftgcibv', 'https://tco/roxed4amep'], ['rt', '@alexkjkkk:', 'oi', 'gata', 'você', 'é', 'tão', 'lixosa', 'que', 'vou', 'te', 'chamar', 'de', 'annabelle', '2'], ['rt', '@jeeh__ap:', 'fui', 'ver', 'annabelle', '2', 'com', 'melhor', 'companhia'], ['não', 'me', 'conformo', 'por', 'não', 'ter', 'ido', 'assistir', 'annabelle', '2', 'ainda'], ['adicionei', 'um', 'vídeo', 'uma', 'playlist', '@youtube', 'https://tco/upo1otkrbb', 'dia', 'em', 'que', 'assisti', 'annabelle', '2'], ['assisti', 'annabelle', '2', 'hoje', 'achei', 'meio', 'cagadinho', 'mas', 'gostei'], ['o', 'boy', 'podia', 'me', 'levar', 'pra', 'assistir', 'annabelle', '2', 'só', 'acho'], ['vocês', 'acharam', 'annabelle', '2', 'assustadoré', 'porque', 'vocês', 'ainda', 'não', 'viram', 'minha', 'irma', 'gritando', 'falando', 'que', 'não', 'quer', 'fazer', 'tarefa'], ['alguém', 'quer', 'assistir', 'comigo', 'annabelle', '2'], ['pqp', 'annabelle', '2', 'é', 'um', 'l', 'i', 'x', 'o'], ['rt', '@__numfode:', 'sobre', 'annabelle', '2:', 'foda', 'pra', 'caralho'], ['mano', 'não', 'indico', 'annabelle', '2'], ['rt', '@queridojeito:', '“você', 'me', 'faz', 'feliz', 'quando', 'céus', 'estão', 'cinza”', '—', 'annabelle', '2', '–', 'criação', 'do', 'mal'], ['gente', 'annabelle', '2', 'é', 'muito', 'bom', 'socorro', 'dei', 'cada', 'ataque', 'no', 'cinema'], ['meu', 'amigo', 'quer', 'assistir', 'annabelle', '2', 'ele', 'quer', 'que', 'eu', 'saia', 'do', 'cinema', 'toda', 'borrada', 'de', 'medo', 'só', 'pode'], ['gostei', 'de', 'um', 'vídeo', '@youtube', 'https://tco/qjjz37ogry', 'dia', 'em', 'que', 'assisti', 'annabelle', '2'], ['gostei', 'de', 'um', 'vídeo', '@youtube', 'https://tco/yfnlwtzwqpê', 'vai', 'rir', 'muito]', 'react', 'annabelle', '2:', 'criação', 'do', 'mal', '#2371'], ['me', 'desculpa', 'deus', 'eu', 'vou', 'pecar', '2', 'annabelle', '2017'], ['quero', 'ver', 'annabelle', '2', 'de', 'novo', 'qm', 'bora', 'tomar', 'uns', 'sustos', '☻👻😈'], ['emoji', 'filme', 'ultrapassa', 'annabelle', '2', 'e', 'estreia', 'no', 'topo', 'da', 'bilheteria', 'brasil', 'https://tco/ays7igomtc', 'https://tco/pkemfcynun'], ['omelete:', 'emoji', 'filme', 'ultrapassa', 'annabelle', '2', 'e', 'estreia', 'no', 'topo', 'da', 'bilheteria', 'brasil', 'https://tco/tpqmgkwsne', 'https://tco/lupio6oz85', '#t…'], ['a', 'maior', 'prova', 'de', 'amor', 'que', 'dei', 'na', 'minha', 'vida', 'foi', 'assistir', 'annabelle', '2', 'com', 'minha', 'irmã'], ['rt', '@pintarolass:', 'jeez', 'annabelle', '2', 'é', 'mt', 'assustador'], ['gostei', 'de', 'um', 'vídeo', '@youtube', 'https://tco/1ol8loe5vp', 'dia', 'em', 'que', 'assisti', 'annabelle', '2'], ['annabelle', '2:', 'longa', 'bate', 'corra', 'como', 'terror', 'de', 'maior', 'faturamento', 'em', '2017', 'https://tco/9xholrd72d', 'https://tco/3fvpn4f7st'], ['gostei', 'de', 'um', 'vídeo', '@youtube', 'https://tco/tjukkrhnis', 'dia', 'em', 'que', 'assisti', 'annabelle', '2', 'whindersson', 'nunes'], ['claramente', 'eu', 'hoje', 'depois', 'de', 'ver', 'annabelle', '2', 'https://tco/5akgkesbf2'], ['gostei', 'de', 'um', 'vídeo', '@youtube', 'https://tco/hspm1ts9nf', 'dia', 'em', 'que', 'assisti', 'annabelle', '2'], ['quero', 'ir', 'ver', 'annabelle', '2', 'caralho'], ['quero', 'muito', 'assistir', 'annabelle', '2'], ['gente', 'eu', 'vou', 'ir', 'ver', 'annabelle', '2', 'sozinha', 'pq', 'ngm', 'que', 'ir', 'cmg', 'triste'], ['rt', '@alissonjhemes09:', 'dia', 'em', 'que', 'eu', 'assisti', 'annabelle', '2😂😱', 'rt', 'ai', 'caraí', 'saiu', 'video', 'novo', 'assiste', 'ai', 'caraí', 'https://tco/dnalirnot8', 'é', 'noix😂🤙…'], ['gostei', 'de', 'um', 'vídeo', '@youtube', 'https://tco/vwfxqseabw', '2', 'encontramos', 'quarto', 'da', 'annabelle', 'ep#1'], ['só', 'esse', 'meu', 'malvado', 'favorito', '2', 'pra', 'me', 'fazer', 'esquecer', 'poucas', 'cenas', 'de', 'annabelle', 'que', 'eu', 'vi'], ['ia', 'assistir', 'annabelle', '2', 'hj', 'mas', 'pensei', 'não', 'vou', 'gastar', 'dinheiro', 'com', 'satanás', 'não'], ['assistindo', 'annabelle', '2', 'e', 'chorando'], ['rt', '@flaviomorgen:', 'que', 'james', 'wan', 'invocação', 'do', 'mal', 'e', 'annabelle', '2:', 'criação', 'do', 'mal', 'têm', 'de', 'especial', '|', 'por', 'gabriel', 'vince', 'no', '@sensoinc:', 'http…'], ['rt', '@vtamoroso:', 'annabelle', '2', 'é', 'uma', 'merda', 'e', 'faço', 'questão', 'de', 'dizer', 'isso', 'em', 'todos', 'lugares', 'possíveis'], ['voltei', 'agora', 'do', 'cinema', 'fui', 'ver', 'annabelle', '2', 'e', 'que', 'filme', 'endemoniado', 'vey', 'não', 'morri', 'do', 'coração', 'hj', 'não', 'morro', 'nunca', 'mais'], ['rt', '@celsodossi:', 'pra', 'que', 'ir', 'até', 'um', 'cinema', 'passar', 'medo', 'com', 'annabelle', '2', 'se', 'vc', 'pode', 'ficar', 'em', 'casa', 'e', 'de', 'repente', 'ouvir', 'musiquinha', 'do', 'plantão…'], ['hoje', 'assisti', 'annabelle', '2', 'e', 'pra', 'dar', 'aquela', 'quebrada', 'no', 'clima', 'nada', 'como', 'ver', 'girls', 'in', 'the', 'house', 'amém', '@raonyphillips', 'por', 'essa', 'criação'], ['qro', 'ir', 'no', 'cinema', 'ver', 'annabelle', '2'], ['annabelle', '2', 'com', 'meninas', 'foi', 'mt', 'bom♥♥', 'e', 'assustador', 'kkkkkkkk'], ['gostei', 'de', 'um', 'vídeo', '@youtube', 'https://tco/fys45yapxl', 'dia', 'em', 'que', 'eu', 'assisti', 'annabelle', '2'], ['rt', '@alissonjhemes09:', 'dia', 'em', 'que', 'eu', 'assisti', 'annabelle', '2😂😱', 'rt', 'ai', 'caraí', 'saiu', 'video', 'novo', 'assiste', 'ai', 'caraí', 'https://tco/dnalirnot8', 'é', 'noix😂🤙…'], ['gostei', 'de', 'um', 'vídeo', '@youtube', 'https://tco/qt66gm3hwv', 'dia', 'em', 'que', 'assisti', 'annabelle', '2'], ['rt', '@rodrigoo_1903:', 'fui', 'ver', 'annabelle', '2', 'e', 'sustos', 'veio', 'tona', 'kkkkkkk'], ['a', 'annabelle', '2', 'é', 'muito', 'mais', 'assustador', 'que', '1', 'e', 'melhor'], ['annabelle', '2', 'é', 'um', 'filme', 'do', 'capeta', 'literalmente'], ['fui', 'olhar', 'annabelle', '2', 'e', 'meu', 'deus', '😱'], ['gostei', 'de', 'um', 'vídeo', '@youtube', 'https://tco/brjinqbcw3', 'dia', 'em', 'que', 'assisti', 'annabelle', '2'], ['rt', '@queridojeito:', '“às', 'vezes', 'falar', 'sobre', 'coisas', 'que', 'nos', 'incomoda', 'é', 'toda', 'ajuda', 'que', 'precisamos”', '—', 'annabelle', '2', '–', 'criação', 'do', 'mal'], ['ai', 'muito', 'baqueada', 'ainda', 'desse', 'annabelle', '2', 'socorre'], ['ainda', 'tenho', 'de', 'ir', 'ver', 'annabelle', '2'], ['rt', '@walker_familybr:', 'eu', 'te', 'venero', '2017', 'o', 'chamado', '3', 'annabelle', '2', 'it', 'coisa', 'olhos', 'famintos', '3', 'a', 'morte', 'tá', 'de', 'parabéns', 'leatherface', 'jogos', 'mo…'], ['annabelle', '2', 'e', 'uma', 'comédia', 'kkkkkkkkkkkkkk', 'tô', 'chorando'], ['rt', '@sergionoronha10:', 'gostei', 'de', 'um', 'vídeo', '@youtube', 'https://tco/nvyb6reglw', 'dia', 'em', 'que', 'assisti', 'annabelle', '2'], ['vou', 'assistir', 'annabelle', '2', 'que', 'papai', 'esteja', 'comigo'], ['gostei', 'de', 'um', 'vídeo', '@youtube', 'https://tco/0q61gx92x5', 'dia', 'em', 'que', 'assisti', 'annabelle', '2'], ['rt', '@celsodossi:', 'pra', 'que', 'ir', 'até', 'um', 'cinema', 'passar', 'medo', 'com', 'annabelle', '2', 'se', 'vc', 'pode', 'ficar', 'em', 'casa', 'e', 'de', 'repente', 'ouvir', 'musiquinha', 'do', 'plantão…'], ['alguém', 'pra', 'assistir', 'annabelle', '2', 'comigo'], ['gostei', 'de', 'um', 'vídeo', '@youtube', 'https://tco/upl7b2biaq', 'dia', 'em', 'que', 'assisti', 'annabelle', '2'], ['jeez', 'annabelle', '2', 'é', 'mt', 'assustador'], ['fui', 'no', 'cinema', 'assistir', 'annabelle', '2'], ['queria', 'ir', 'ver', 'annabelle', '2', 'aaaaaa'], ['assisti', 'annabelle', '2', 'agr', 'e', 'achei', 'meio', 'bosta'], ['gostei', 'de', 'um', 'vídeo', '@youtube', 'https://tco/zhjjjr7ibb', 'creation', 'prank', 'annabelle', '2', '|', 'câmeras', 'escondidas', '06/08/17'], ['pelo', 'amor', 'de', 'deus', 'pessoas', 'da', 'minha', 'sala', 'não', 'param', 'de', 'falar', 'de', 'annabelle', '2', 'deus', 'me', 'livre', 'não', 'quero', 'mais', 'lembrar', 'daquele', 'filme'], ['rt', '@omelete:', 'emoji', 'filme', 'ultrapassa', 'annabelle', '2', 'e', 'estreia', 'no', 'topo', 'da', 'bilheteria', 'brasil', 'https://tco/x8qftgcibv', 'https://tco/oddslmwr3f'], ['papo', 'reto', 'com', 'marcos', 'pitta', '|', 'mel', 'lisboa', 'acerta', 'com', '#sbt', 'e', 'vai', 'fazer', '#poliana:', 'https://tco/xv2phbtyrk'], ['gostei', 'de', 'um', 'vídeo', '@youtube', 'https://tco/hw73h7n44n', 'dia', 'em', 'que', 'assisti', 'annabelle', '2'], ['assisti', 'annabelle', '2', 'agora', 'e', 'meu', 'senhor', 'jesus', 'tira', 'esse', 'demonio', 'de', 'perto', 'de', 'mim', 'xaxalalau', 'nunca', 'mais', 'chego', 'perto', 'de', 'uma', 'boneca'], ['rt', '@queridojeito:', '“a', 'esperança', 'é', 'nossa', 'casa', 'permaneça', 'nela', 'e', 'ela', 'vai', 'te', 'proteger”', '—', 'annabelle', '2', '–', 'criação', 'do', 'mal'], ['rt', '@anderso12994544:', 'até', 'que', 'annabelle', '2', 'é', 'brabinho'], ['gostei', 'de', 'um', 'vídeo', '@youtube', 'https://tco/ufzxmypndp', 'creation', 'prank', 'annabelle', '2', '|', 'câmeras', 'escondidas', '06/08/17'], ['annabelle', '2', 'é', 'mt', 'melhor', 'que', 'primeiro'], ['rt', '@walker_familybr:', 'eu', 'te', 'venero', '2017', 'o', 'chamado', '3', 'annabelle', '2', 'it', 'coisa', 'olhos', 'famintos', '3', 'a', 'morte', 'tá', 'de', 'parabéns', 'leatherface', 'jogos', 'mo…'], ['rt', '@celsodossi:', 'pra', 'que', 'ir', 'até', 'um', 'cinema', 'passar', 'medo', 'com', 'annabelle', '2', 'se', 'vc', 'pode', 'ficar', 'em', 'casa', 'e', 'de', 'repente', 'ouvir', 'musiquinha', 'do', 'plantão…'], ['annabelle', '2', 'é', 'um', 'filme', 'muito', 'bom', 'no', 'final', 'mostra', 'modelo', 'verdadeiro', 'da', 'boneca', 'real'], ['emoji', 'filme', 'ultrapassa', 'annabelle', '2', 'e', 'estreia', 'no', 'topo', 'da', 'bilheteria', 'brasil', 'https://tco/8m2l8szy6n', '…', 'https://tco/vtduuh93dq'], ['ontem', 'eu', 'fui', 'ver', 'annabelle', '2', 'ne', 'não', 'basta', 'aquela', 'boneca', 'fudida', 'dando', 'susto', 'toda', 'hora', 'cinema', 'ainda', 'piscava', 'luzes', 'pra', 'assustar', 'mais'], ['rt', '@queridojeito:', '“às', 'vezes', 'falar', 'sobre', 'coisas', 'que', 'nos', 'incomoda', 'é', 'toda', 'ajuda', 'que', 'precisamos”', '—', 'annabelle', '2', '–', 'criação', 'do', 'mal'], ['gostei', 'de', 'um', 'vídeo', '@youtube', 'https://tco/ktectunknh', 'dia', 'em', 'que', 'assisti', 'annabelle', '2'], ['rt', '@bernardoroldaoc:', 'ainda', 'tenho', 'de', 'ir', 'ver', 'annabelle', '2'], ['gostei', 'de', 'um', 'vídeo', '@youtube', 'https://tco/fk1fkocdj7', 'dia', 'em', 'que', 'assisti', 'annabelle', '2'], ['emoji', 'filme', 'ultrapassa', 'annabelle', '2', 'e', 'estreia', 'no', 'topo', 'da', 'bilheteria', 'brasil', 'https://tco/ays7igomtc', 'https://tco/djfmcr8eld'], ['rt', '@walker_familybr:', 'eu', 'te', 'venero', '2017', 'o', 'chamado', '3', 'annabelle', '2', 'it', 'coisa', 'olhos', 'famintos', '3', 'a', 'morte', 'tá', 'de', 'parabéns', 'leatherface', 'jogos', 'mo…'], ['gostei', 'de', 'um', 'vídeo', '@youtube', 'https://tco/ias4gxfxt3', 'dia', 'em', 'que', 'assisti', 'annabelle', '2'], ['faço', 'parte', 'daquele', '10%', 'que', 'ainda', 'não', 'foi', 'vê', 'annabelle', '2'], ['gostei', 'de', 'um', 'vídeo', '@youtube', 'https://tco/vt1w66tbdy', 'dia', 'em', 'que', 'assisti', 'annabelle', '2'], ['eu', 'não', 'superei', 'annabelle', '2', 'e', 'não', 'consigo', 'parar', 'de', 'pensar/falar', 'sobreeee'], ['to', 'em', 'dúvida', 'entre', 'ir', 'ver', 'annabelle', '2', 'ou', 'it', 'coisa'], ['annabelle', '2', 'deve', 'ser', 'tão', 'bosta', 'quanto', 'primeiro', 'filme'], ['gostei', 'de', 'um', 'vídeo', '@youtube', 'https://tco/iuxwknwtvz', 'dia', 'em', 'que', 'assisti', 'annabelle', '2'], ['gostei', 'de', 'um', 'vídeo', '@youtube', 'https://tco/yfxp8rnaxv', 'dia', 'em', 'que', 'assisti', 'annabelle', '2'], ['tô', 'doida', 'pra', 'assistir', 'it', 'coisa', 'e', 'nem', 'annabelle', '2', 'eu', 'consegui', 'assistir'], ['annabelle', '2', 'é', 'um', 'filme', 'do', 'caralho', 'mané', 'que', 'boneca', 'fdp', 'vtnc', 'kkkkk'], ['rt', '@flaviomorgen:', 'que', 'james', 'wan', 'invocação', 'do', 'mal', 'e', 'annabelle', '2:', 'criação', 'do', 'mal', 'têm', 'de', 'especial', '|', 'por', 'gabriel', 'vince', 'no', '@sensoinc:', 'http…'], ['a', 'única', 'coisa', 'que', 'eu', 'queria', 'é', 'alguém', 'pra', 'assistir', 'annabelle', '2', 'cmgque', 'vida', 'bosta', 'hein'], ['annabelle', '2', 'tá', 'bixoo'], ['essa', 'pegadinha', 'do', 'silvio', 'santos', 'da', 'annabelle', '2', 'kkkkkkkkkkkkk', 'braba'], ['partiu', 'matar', 'namorada', 'do', 'coração', 'kkkk', 'annabelle', '2:', 'origem', 'do', 'mal', 'https://tco/q4c4uojdnq'], ['gostei', 'de', 'um', 'vídeo', '@youtube', 'https://tco/i3klfebuba', 'dia', 'em', 'que', 'assisti', 'annabelle', '2'], ['karyne', 'disse', 'que', 'annabelle', '2', 'não', 'era', 'assustador', 'que', 'ela', 'esperava', 'mais', 'única', 'coisa', 'que', 'eu', 'espero', 'é', 'minha', 'alma', 'voltar', 'pro', 'corpo'], ['to', 'olhando', 'annabelle', '2sozinha', 'como', 'de', 'costume', '❤️🙄💤'], ['cheguei', 'fui', 'assistir', 'annabelle', '2', 'com', 'danilo', '👫♥️'], ['gostei', 'de', 'um', 'vídeo', '@youtube', 'https://tco/aodn7whcvz', 'dia', 'em', 'que', 'assisti', 'annabelle', '2'], ['papo', 'reto', 'com', 'marcos', 'pitta', '|', 'mel', 'lisboa', 'acerta', 'com', 'sbt', 'e', 'vai', 'fazer', '#poliana:', 'https://tco/xv2phbtyrk'], ['rt', '@flaviomorgen:', 'que', 'james', 'wan', 'invocação', 'do', 'mal', 'e', 'annabelle', '2:', 'criação', 'do', 'mal', 'têm', 'de', 'especial', '|', 'por', 'gabriel', 'vince', 'no', '@sensoinc:', 'http…'], ['gostei', 'mesmo', 'da', 'ligação', 'que', 'annabelle', '1', 'tem', 'com', '2', 'juro', 'amei'], ['papo', 'reto', 'com', 'marcos', 'pitta', '|', '#pegapega', 'continua', 'bem:', 'https://tco/xv2phbtyrk'], ['o', 'pessoal', 'da', 'escola', 'querem', 'ver', 'it', 'coisa', 'ou', 'annabelle', '2', 'e', 'eu', 'só', 'quero', 'ver', 'algum', 'filme', 'leve', 'q', 'tiver', 'passando'], ['gostei', 'de', 'um', 'vídeo', '@youtube', 'https://tco/radq3vdubv', 'dia', 'em', 'que', 'assisti', 'annabelle', '2'], ['rt', '@walker_familybr:', 'eu', 'te', 'venero', '2017', 'o', 'chamado', '3', 'annabelle', '2', 'it', 'coisa', 'olhos', 'famintos', '3', 'a', 'morte', 'tá', 'de', 'parabéns', 'leatherface', 'jogos', 'mo…'], ['eu', 'fui', 'assistir', 'annabelle', '2', 'e', 'meu', 'irmao', 'que', 'filmao', 'da', 'porra', 'primeiro', 'filme', 'de', 'terror', 'que', 'eu', 'assisto', 'no', 'cinema', 'e', 'valeu', 'pena', 'hein'], ['rt', '@sensoinc:', 'que', 'james', 'wan', 'invocação', 'do', 'mal', 'e', 'annabelle', '2:', 'criação', 'do', 'mal', 'têm', 'de', 'especial', 'https://tco/2fmor7bxem', '#novo', 'https://tco…'], ['qual', 'foi', 'último', 'filme', 'que', 'viste', '—', 'annabelle', '2', 'no', 'cinema', 'the', 'grudge', 'em', 'casa', 'https://tco/dmjmyhft5n'], ['vou', 'toma', 'banho', 'e', 'vou', 'no', 'cinema', 'assistir', 'annabelle', '2', 'eu', 'e', 'fox', 'e', 'meu', 'irmão'], ['estão', 'me', 'abusando', 'para', 'assistir', 'annabelle', '2', '¬¬`', 'pessoa', 'fala', 'que', 'não', 'gosta', 'de', 'filme', 'de', 'terror', 'e', 'de', 'nenhum', 'associado', 'e', 'ainda', 'vem', 'abusar', '¬¬`'], ['papo', 'reto', 'com', 'marcos', 'pitta', '|', '#annabelle2', 'supera', 'primeiro', 'e', 'é', 'uma', 'ótima', 'opção', 'para', 'fãs', 'do', 'gênero:', 'https://tco/xv2phbtyrk'], ['vou', 'no', 'cinema', 'sexta', 'e', 'n', 'sei', 'se', 'assisto', 'it', 'ou', 'annabelle', '2'], ['rt', '@queridojeito:', '“às', 'vezes', 'falar', 'sobre', 'coisas', 'que', 'nos', 'incomoda', 'é', 'toda', 'ajuda', 'que', 'precisamos”', '—', 'annabelle', '2', '–', 'criação', 'do', 'mal'], ['sobre', 'eu', 'ter', 'ficado', 'com', 'cu', 'na', 'mão', 'por', 'ter', 'assistido', 'annabelle', '2', '😂'], ['annabelle', '2', 'eh', 'bem', 'melhor', 'que', '1', 'de', 'fato'], ['não', 'gostei', 'nada', 'do', 'annabelle', '2'], ['se', 'vocês', 'tem', 'amor', 'vida', 'nunca', 'assistam', 'annabelle', '2'], ['não', 'sei', 'como', 'eu', 'vou', 'conseguir', 'assistir', 'annabelle', '2', 'no', 'cinemaestou', 'morrendo', 'de', 'medo', 'kkkkk'], ['omelete:', 'emoji', 'filme', 'ultrapassa', 'annabelle', '2', 'e', 'estreia', 'no', 'topo', 'da', 'bilheteria', 'brasil', 'https://tco/tpqmgkwsne', 'https://tco/5czxufo4pi', '#t…'], ['rt', '@celsodossi:', 'pra', 'que', 'ir', 'até', 'um', 'cinema', 'passar', 'medo', 'com', 'annabelle', '2', 'se', 'vc', 'pode', 'ficar', 'em', 'casa', 'e', 'de', 'repente', 'ouvir', 'musiquinha', 'do', 'plantão…'], ['annabelle', '2', 'é', 'aulas'], ['a', 'minha', 'mae', 'deu', 'cada', 'berro', 'no', 'cinemakjkjjj', 'vou', 'levar', 'ela', 'pra', 'assistir', 'it', 'coisa', 'agora', 'ja', 'q', 'ela', 'amou', 'annabelle', '2'], ['gostei', 'de', 'um', 'vídeo', '@youtube', 'https://tco/ibxuwaaqb3', 'dia', 'em', 'que', 'assisti', 'annabelle', '2'], ['meu', 'tombo', 'foi', 'grandíssimo', 'achando', 'que', 'final', 'de', 'annabelle', '2', 'era', 'maneiro'], ['após', 'assistir', 'annabelle', '2'], ['rt', '@omelete:', 'emoji', 'filme', 'ultrapassa', 'annabelle', '2', 'e', 'estreia', 'no', 'topo', 'da', 'bilheteria', 'brasil', 'https://tco/x8qftgcibv', 'https://tco/roxed4amep'], ['gabriel', 'chorou', 'vendo', 'annabelle', '2', 'hoje', 'no', 'cinema', 'kkkkkkkkkkkkkk'], ['gostei', 'de', 'um', 'vídeo', '@youtube', 'https://tco/kbrrhpdsxp', 'dia', 'em', 'que', 'assisti', 'annabelle', '2'], ['hoje', 'vou', 'ver', 'annabelle', '2', '😂', 'vai', 'ser', 'engraçado'], ['quero', 'ir', 'ao', 'cinema', 'ver', 'annabelle', '2', '😤'], ['gostei', 'de', 'um', 'vídeo', '@youtube', 'https://tco/dfux2bd5sw', 'dia', 'em', 'que', 'assisti', 'annabelle', '2'], ['não', 'assistam', 'annabelle', '2', 'é', 'mt', 'ruim'], ['rt', '@marinho_jon:', 'annabelle', '2', 'é', 'mt', 'melhor', 'que', 'primeiro'], ['annabelle', '2', 'é', 'muito', 'foda'], ['00:30', 'bora', 'dormir', 'kkkk', 'que', 'nada', 'individo', 'ao', 'invez', 'de', 'ir', 'dormir', 'resolve', 'assistir', 'annabelle', '2', 'sozinho', 'em', 'casa', 'kkkk'], ['gostei', 'de', 'um', 'vídeo', '@youtube', 'https://tco/r4d53hllch', '2', 'encontramos', 'quarto', 'da', 'annabelle', 'ep#1'], ['gostei', 'de', 'um', 'vídeo', '@youtube', 'https://tco/bllnrm4f3z', 'dia', 'em', 'que', 'assisti', 'annabelle', '2'], ['annabelle', 'não', 'é', 'nem', 'um', 'pouco', 'assustador', 'nem', '1', 'nem', '2'], ['rt', '@wlmecc:', 'annabelle', '2', 'é', 'filme', 'do', 'the', 'mônio'], ['rt', '@celsodossi:', 'pra', 'que', 'ir', 'até', 'um', 'cinema', 'passar', 'medo', 'com', 'annabelle', '2', 'se', 'vc', 'pode', 'ficar', 'em', 'casa', 'e', 'de', 'repente', 'ouvir', 'musiquinha', 'do', 'plantão…'], ['tentando', 'criar', 'coragem', 'p', 'assitir', 'annabelle', '2', 'em', '3d'], ['vi', 'annabelle', '2', 'ontem', 'meu', 'deus', 'quase', 'tive', 'um', 'treco', 'no', 'cinema'], ['rt', '@juliaploharski:', 'annabelle', '2', 'rendeu', 'muito', 'sustos'], ['rt', '@anderso12994544:', 'até', 'que', 'annabelle', '2', 'é', 'brabinho'], ['rt', '@omelete:', 'emoji', 'filme', 'ultrapassa', 'annabelle', '2', 'e', 'estreia', 'no', 'topo', 'da', 'bilheteria', 'brasil', 'https://tco/x8qftgcibv', 'https://tco/oddslmwr3f'], ['qual', 'foi', 'último', 'filme', 'que', 'você', 'foi', 'ver', 'no', 'cinema', 'com', 'q…', '—', 'annabelle', '2', 'mt', 'bom', 'mas', 'eu', 'queria', 'ter', 'assistido', 'bêbado', 'https://tco/tz6c9xhr7s'], ['rt', '@bfr_may:', 'não', 'assistam', 'annabelle', '2', 'é', 'mt', 'ruim'], ['rt', '@queridojeito:', '“você', 'me', 'faz', 'feliz', 'quando', 'céus', 'estão', 'cinza”', '—', 'annabelle', '2', '–', 'criação', 'do', 'mal'], ['talvez', 'hoje', 'irei', 'assistir', 'annabelle', '2'], ['finally', '😍', '—', 'assistindo', 'annabelle', '2', 'em', 'internacional', 'shopping', 'guarulhos', 'https://tco/4moewgsnvu'], ['pelo', 'menos', 'vou', 'assistir', 'annabelle', '2'], ['gostei', 'de', 'um', 'vídeo', '@youtube', 'https://tco/bjfbyyvjvc', 'dia', 'em', 'que', 'assisti', 'annabelle', '2'], ['cheguei', 'do', 'cinema', 'agr', 'annabelle', '2', 'tá', 'pica', 'só', 'soco', 'no', 'peito', 'de', 'susto', 'kkk'], ['annabelle', '2', 'criação', 'do', 'mal', 'dublado', 'online', 'assistir', 'filme', 'https://tco/g2assn7nn7'], ['rt', '@patricknoruega:', 'annabelle', '2', 'é', 'muito', 'foda', 'sala', 'inteira', 'do', 'cinema', 'gritando'], ['não', 'sei', 'qual', 'filme', 'assisto', 'annabelle', '2', 'ou', 'coisa', 'dúvida', 'terrível'], ['to', 'indo', 'ver', 'annabelle', '2', 'espero', 'que', 'n', 'dê', 'mt', 'medo😂'], ['gostei', 'de', 'um', 'vídeo', '@youtube', 'https://tco/u9sjmux4pq', 'creation', 'prank', 'annabelle', '2', '|', 'câmeras', 'escondidas', '06/08/17'], ['quero', 'pegar', 'um', 'cineminha', 'com', 'meu', 'amor', 'pra', 'ver', 'annabelle', '2'], ['rt', '@omelete:', 'emoji', 'filme', 'ultrapassa', 'annabelle', '2', 'e', 'estreia', 'no', 'topo', 'da', 'bilheteria', 'brasil', 'https://tco/x8qftgcibv', 'https://tco/oddslmwr3f'], ['gostei', 'de', 'um', 'vídeo', '@youtube', 'https://tco/yazrkbj3n5', 'dia', 'em', 'que', 'assisti', 'annabelle', '2'], ['estávamos', 'assistindo', 'annabelle', '2', 'mas', 'povo', 'tanto', 'ao', 'msm', 'tempo', 'que', 'assustou', 'bernardo', 'e', 'vacina', 'tbm', 'começou', 'doer', '😪💔'], ['rt', '@queridojeito:', '“você', 'me', 'faz', 'feliz', 'quando', 'céus', 'estão', 'cinza”', '—', 'annabelle', '2', '–', 'criação', 'do', 'mal'], ['rt', '@bfr_may:', 'não', 'assistam', 'annabelle', '2', 'é', 'mt', 'ruim'], ['bora', 'ter', 'coragem', 'kkkk', 'https://tco/f7lldogha9'], ['rt', '@sensoinc:', 'que', 'james', 'wan', 'invocação', 'do', 'mal', 'e', 'annabelle', '2:', 'criação', 'do', 'mal', 'têm', 'de', 'especial', 'https://tco/2fmor7bxem', '#novo', 'https://tco…'], ['rt', '@omelete:', 'emoji', 'filme', 'ultrapassa', 'annabelle', '2', 'e', 'estreia', 'no', 'topo', 'da', 'bilheteria', 'brasil', 'https://tco/x8qftgcibv', 'https://tco/oddslmwr3f'], ['vou', 'comprar', 'ingresso', 'p', 'assistir', 'annabelle', '2', 'pra', 'mim', 'e', 'pra', 'minha', 'irmã', 'coitada', 'dela', 'se', 'não', 'for'], ['rt', '@_condack_ke:', 'não', 'sei', 'qual', 'filme', 'assisto', 'annabelle', '2', 'ou', 'coisa', 'dúvida', 'terrível'], ['gostei', 'de', 'um', 'vídeo', '@youtube', 'https://tco/q1zwsmhnk0', 'dia', 'em', 'que', 'assisti', 'annabelle', '2', 'sozinha'], ['rt', '@omelete:', 'emoji', 'filme', 'ultrapassa', 'annabelle', '2', 'e', 'estreia', 'no', 'topo', 'da', 'bilheteria', 'brasil', 'https://tco/x8qftgcibv', 'https://tco/oddslmwr3f'], ['rt', '@whindersson:', 'acabei', 'de', 'gravar', 'vídeo', 'sobre', 'annabelle', 'agora', '2', 'da', 'manhã', 'com', 'boneca', 'junto', 'comigo', 'no', 'quarto', 'foi', 'pior', 'coisa', 'que', 'e…'], ['o', 'dia', 'em', 'que', 'eu', 'assisti', 'annabelle', '2😂😱', 'rt', 'ai', 'caraí', 'saiu', 'video', 'novo', 'assiste', 'ai', 'caraí', 'https://tco/dnalirnot8', 'é', 'noi…', 'https://tco/nzkqljgtjk'], ['rt', '@rodrigoo_1903:', 'fui', 'ver', 'annabelle', '2', 'e', 'sustos', 'veio', 'tona', 'kkkkkkk']]\n"
     ]
    }
   ],
   "source": [
    "listaTeste = []\n",
    "for i in dadosTeste.Teste:\n",
    "    splitTeste= i.split()\n",
    "    listaTeste.append(splitTeste)\n",
    "print(listaTeste)"
   ]
  },
  {
   "cell_type": "markdown",
   "metadata": {},
   "source": [
    "___\n",
    "## Verificando a performance\n",
    "\n",
    "Agora você deve testar o seu Classificador com a base de Testes.<br /><br /> \n",
    "\n",
    "Você deve extrair as seguintes medidas:\n",
    "* Porcentagem de positivos falsos (marcados como relevante mas não são relevantes)\n",
    "* Porcentagem de positivos verdadeiros (marcado como relevante e são relevantes)\n",
    "* Porcentagem de negativos verdadeiros (marcado como não relevante e não são relevantes)\n",
    "* Porcentagem de negativos falsos (marcado como não relevante e são relevantes)\n",
    "\n",
    "Opcionalmente:\n",
    "* Criar categorias intermediárias de relevância baseado na diferença de probabilidades. Exemplo: muito relevante, relevante, neutro, irrelevante e muito irrelevante."
   ]
  },
  {
   "cell_type": "code",
   "execution_count": null,
   "metadata": {
    "collapsed": true,
    "scrolled": true
   },
   "outputs": [],
   "source": []
  },
  {
   "cell_type": "markdown",
   "metadata": {
    "collapsed": true
   },
   "source": [
    "___\n",
    "## Concluindo\n",
    "\n",
    "Escreva aqui a sua conclusão.<br /> \n",
    "Faça um comparativo qualitativo sobre as medidas obtidas.<br />\n",
    "Explique como são tratadas as mensagens com dupla negação e sarcasmo.<br />\n",
    "Proponha um plano de expansão. Por que eles devem continuar financiando o seu projeto?<br />\n",
    "\n",
    "Opcionalmente: \n",
    "* Discorrer por que não posso alimentar minha base de Treinamento automaticamente usando o próprio classificador, aplicado a novos tweets.\n",
    "* Propor diferentes cenários de uso para o classificador Naive-Bayes. Cenários sem intersecção com este projeto.\n",
    "* Sugerir e explicar melhorias reais no classificador com indicações concretas de como implementar (não é preciso codificar, mas indicar como fazer e material de pesquisa sobre o assunto).\n"
   ]
  },
  {
   "cell_type": "code",
   "execution_count": null,
   "metadata": {
    "collapsed": true
   },
   "outputs": [],
   "source": []
  }
 ],
 "metadata": {
  "kernelspec": {
   "display_name": "Python 3",
   "language": "python",
   "name": "python3"
  },
  "language_info": {
   "codemirror_mode": {
    "name": "ipython",
    "version": 3
   },
   "file_extension": ".py",
   "mimetype": "text/x-python",
   "name": "python",
   "nbconvert_exporter": "python",
   "pygments_lexer": "ipython3",
   "version": "3.6.0"
  }
 },
 "nbformat": 4,
 "nbformat_minor": 1
}
