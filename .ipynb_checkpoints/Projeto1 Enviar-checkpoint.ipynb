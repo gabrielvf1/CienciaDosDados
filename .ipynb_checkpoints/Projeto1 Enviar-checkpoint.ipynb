{
 "cells": [
  {
   "cell_type": "markdown",
   "metadata": {},
   "source": [
    "___\n",
    "# Ciência dos Dados - PROJETO 1"
   ]
  },
  {
   "cell_type": "markdown",
   "metadata": {},
   "source": [
    "## Gabriel Valente Francato 2B\n",
    "___"
   ]
  },
  {
   "cell_type": "markdown",
   "metadata": {},
   "source": [
    "## Pesquisa e Analise dos PNAD's de 2013, 2014 e 2015"
   ]
  },
  {
   "cell_type": "markdown",
   "metadata": {},
   "source": [
    "___\n",
    "## Objetivo\n",
    "\n",
    "O trabalho tem como objetivo analisar a aderencia dos domicilios em relacao a TV e Internet, afim de passar para grandes empresas que fornecem esses serviços em quais regioes do Brasil (Norte, Nordeste, Suldeste, Sul e Centro Oeste), em quais meios (Urbano ou Rural) e em que tecnologias (TV ou Internet) elas devem investirem, baseado na analise de dados dos PNADS de 2013, 2014 e 2015. Alem disso o trabalho quer analisar se a Internet esta ao longo dos anos substituindo a TV. \n"
   ]
  },
  {
   "cell_type": "markdown",
   "metadata": {},
   "source": [
    "___\n",
    "## Análise e Resultados"
   ]
  },
  {
   "cell_type": "code",
   "execution_count": 8,
   "metadata": {
    "collapsed": true
   },
   "outputs": [],
   "source": [
    "%matplotlib inline\n",
    "import pandas as pd\n",
    "import matplotlib.pyplot as plt\n",
    "import numpy as np\n",
    "import os"
   ]
  },
  {
   "cell_type": "code",
   "execution_count": 9,
   "metadata": {},
   "outputs": [
    {
     "name": "stdout",
     "output_type": "stream",
     "text": [
      "Esperamos trabalhar no diretório\n",
      "C:\\Users\\vf_ga\\OneDrive\\Documentos\\2º Semestre Eng\\Ciencia dos Dados\\GIT\\CienciaDosDados\n"
     ]
    }
   ],
   "source": [
    "print('Esperamos trabalhar no diretório')\n",
    "print(os.getcwd())"
   ]
  },
  {
   "cell_type": "code",
   "execution_count": 10,
   "metadata": {},
   "outputs": [],
   "source": [
    "#Puxando Dados 2013\n",
    "dados2013=pd.read_csv('DOM2013csv.zip', compression='zip', header=0, sep=',', quotechar='\"')\n",
    "dados2013=pd.DataFrame(dados2013)\n",
    "\n",
    "#Puxando Dados 2014\n",
    "dados2014=pd.read_csv('DOM2014csv.zip', compression='zip', header=0, sep=',', quotechar='\"')\n",
    "dados2014=pd.DataFrame(dados2014)\n",
    "\n",
    "#Puxando Dados 2015\n",
    "dados2015=pd.read_csv('DOM2015csv.zip', compression='zip', header=0, sep=',', quotechar='\"')\n",
    "dados2015=pd.DataFrame(dados2015)"
   ]
  },
  {
   "cell_type": "code",
   "execution_count": 11,
   "metadata": {
    "collapsed": true
   },
   "outputs": [],
   "source": [
    "#2013\n",
    "dadosFinal2013 = dados2013.loc[:,[\"UF\",'V4105',\"V0226\",\"V02322\",\"V4614\"]]\n",
    "dadosFinal2013 = dadosFinal2013.dropna()\n",
    "\n",
    "#2014\n",
    "dadosFinal2014 = dados2014.loc[:,[\"UF\",'V4105',\"V0226\",\"V02322\",\"V4614\"]]\n",
    "dadosFinal2014 = dadosFinal2014.dropna()\n",
    "\n",
    "#2015\n",
    "dadosFinal2015 = dados2015.loc[:,[\"UF\",'V4105',\"V0226\",\"V02322\",\"V4614\"]]\n",
    "dadosFinal2015 = dadosFinal2015.dropna()"
   ]
  },
  {
   "cell_type": "code",
   "execution_count": 12,
   "metadata": {
    "collapsed": true
   },
   "outputs": [],
   "source": [
    "def UFparaRegiao(linha):\n",
    "    codigoRegiao=int(linha/10)\n",
    "    if codigoRegiao==1:\n",
    "        return 'Norte'\n",
    "    if codigoRegiao==2:\n",
    "        return 'Nordeste'\n",
    "    if codigoRegiao==3:\n",
    "        return 'Suldeste'\n",
    "    if codigoRegiao==4:\n",
    "        return 'Sul'\n",
    "    if codigoRegiao==5:\n",
    "        return 'Centro Oeste'\n",
    "    "
   ]
  },
  {
   "cell_type": "code",
   "execution_count": 13,
   "metadata": {
    "collapsed": true
   },
   "outputs": [],
   "source": [
    "def UrbanoRural(linha):\n",
    "    if linha==1 or linha==2 or linha==3:\n",
    "        return 'Urbana'\n",
    "    if linha==3 or linha==4 or linha==5 or linha==6 or linha==7 or linha==8:\n",
    "        return 'Rural'"
   ]
  },
  {
   "cell_type": "code",
   "execution_count": 14,
   "metadata": {},
   "outputs": [
    {
     "data": {
      "text/plain": [
       "'Nordeste'"
      ]
     },
     "execution_count": 14,
     "metadata": {},
     "output_type": "execute_result"
    }
   ],
   "source": [
    "#Testando Funcao\n",
    "UFparaRegiao(dados2014['UF'][50001])"
   ]
  },
  {
   "cell_type": "code",
   "execution_count": 15,
   "metadata": {},
   "outputs": [
    {
     "data": {
      "text/plain": [
       "'Urbana'"
      ]
     },
     "execution_count": 15,
     "metadata": {},
     "output_type": "execute_result"
    }
   ],
   "source": [
    "#Testando Funcao\n",
    "UrbanoRural(dados2013['V4105'][50001])"
   ]
  },
  {
   "cell_type": "code",
   "execution_count": 16,
   "metadata": {
    "collapsed": true
   },
   "outputs": [],
   "source": [
    "#Aplicando Funcao ao DataFrame\n",
    "#2013\n",
    "dados2013['Regiao'] = dados2013.UF.apply(UFparaRegiao)\n",
    "\n",
    "#2014\n",
    "dados2014['Regiao'] = dados2014.UF.apply(UFparaRegiao)\n",
    "\n",
    "#2015\n",
    "dados2015['Regiao'] = dados2015.UF.apply(UFparaRegiao)"
   ]
  },
  {
   "cell_type": "code",
   "execution_count": 17,
   "metadata": {
    "collapsed": true
   },
   "outputs": [],
   "source": [
    "#Aplicando Funcao ao DataFrame\n",
    "#2013\n",
    "dados2013['Meio'] = dados2013.V4105.apply(UrbanoRural)\n",
    "\n",
    "#2014\n",
    "dados2014['Meio'] = dados2014.V4105.apply(UrbanoRural)\n",
    "\n",
    "#2015\n",
    "dados2015['Meio'] = dados2015.V4105.apply(UrbanoRural)"
   ]
  },
  {
   "cell_type": "code",
   "execution_count": 18,
   "metadata": {
    "collapsed": true
   },
   "outputs": [],
   "source": [
    "#Filtrando Variaveis Desejaveis\n",
    "#2013\n",
    "dadosFinal2013 = dados2013.loc[:,[\"Regiao\", 'Meio', 'V4614', \"V0226\", \"V02322\"]]\n",
    "\n",
    "#2014\n",
    "dadosFinal2014 = dados2014.loc[:,[\"Regiao\", 'Meio', 'V4614', \"V0226\", \"V02322\"]]\n",
    "\n",
    "#2015\n",
    "dadosFinal2015 = dados2015.loc[:,[\"Regiao\", 'Meio', 'V4614', \"V0226\", \"V02322\"]]"
   ]
  },
  {
   "cell_type": "code",
   "execution_count": 19,
   "metadata": {
    "collapsed": true
   },
   "outputs": [],
   "source": [
    "#2013\n",
    "dadosFinal2013 = dadosFinal2013.dropna()\n",
    "\n",
    "#2014\n",
    "dadosFinal2014 = dadosFinal2014.dropna()\n",
    "\n",
    "#2015\n",
    "dadosFinal2015 = dadosFinal2015.dropna()"
   ]
  },
  {
   "cell_type": "code",
   "execution_count": 20,
   "metadata": {
    "collapsed": true
   },
   "outputs": [],
   "source": [
    "#Definindo Variaveis e Classificando-as e Renomeando 2013\n",
    "\n",
    "#Dados Sobre TV\n",
    "dadosFinal2013.V0226 = dadosFinal2013.V0226.astype('category')\n",
    "dadosFinal2013.V0226.cat.categories = (['Sim', 'Nao'])\n",
    "dadosFinal2013 = dadosFinal2013.rename(columns={'V0226': 'TV'})\n",
    "\n",
    "#Dados Sobre Internet\n",
    "dadosFinal2013.V02322 = dadosFinal2013.V02322.astype('category')\n",
    "dadosFinal2013.V02322.cat.categories = (['Sim', 'Nao'])\n",
    "dadosFinal2013 = dadosFinal2013.rename(columns={'V02322': 'Internet'})\n",
    "\n",
    "#Dados Sobre Renda\n",
    "dadosFinal2013 = dadosFinal2013.rename(columns={'V4614': 'Renda'})\n",
    "dadosFinal2013 = dadosFinal2013[(dadosFinal2013.Renda<11245) & (dadosFinal2013.Renda>0)]\n",
    "dadosFinal2013.Renda = dadosFinal2013.Renda.astype('float')\n",
    "\n"
   ]
  },
  {
   "cell_type": "code",
   "execution_count": 21,
   "metadata": {
    "collapsed": true
   },
   "outputs": [],
   "source": [
    "#Definindo Variaveis e Classificando-as e Renomeando 2014\n",
    "\n",
    "#Dados Sobre TV\n",
    "dadosFinal2014.V0226 = dadosFinal2014.V0226.astype('category')\n",
    "dadosFinal2014.V0226.cat.categories = (['Sim', 'Nao'])\n",
    "dadosFinal2014 = dadosFinal2014.rename(columns={'V0226': 'TV'})\n",
    "\n",
    "#Dados Sobre Internet\n",
    "dadosFinal2014.V02322 = dadosFinal2014.V02322.astype('category')\n",
    "dadosFinal2014.V02322.cat.categories = (['Sim', 'Nao'])\n",
    "dadosFinal2014 = dadosFinal2014.rename(columns={'V02322': 'Internet'})\n",
    "\n",
    "#Dados Sobre Renda\n",
    "dadosFinal2014 = dadosFinal2014.rename(columns={'V4614': 'Renda'})\n",
    "dadosFinal2014 = dadosFinal2014[(dadosFinal2014.Renda<13000) & (dadosFinal2014.Renda>0)]\n",
    "dadosFinal2014.Renda = dadosFinal2014.Renda.astype('float')\n",
    "\n"
   ]
  },
  {
   "cell_type": "code",
   "execution_count": 22,
   "metadata": {
    "collapsed": true
   },
   "outputs": [],
   "source": [
    "#Definindo Variaveis e Classificando-as e Renomeando 2015\n",
    "\n",
    "#Dados Sobre TV\n",
    "dadosFinal2015.V0226 = dadosFinal2015.V0226.astype('category')\n",
    "dadosFinal2015.V0226.cat.categories = (['Sim', 'Nao'])\n",
    "dadosFinal2015 = dadosFinal2015.rename(columns={'V0226': 'TV'})\n",
    "\n",
    "#Dados Sobre Internet\n",
    "dadosFinal2015.V02322 = dadosFinal2015.V02322.astype('category')\n",
    "dadosFinal2015.V02322.cat.categories = (['Sim', 'Nao'])\n",
    "dadosFinal2015 = dadosFinal2015.rename(columns={'V02322': 'Internet'})\n",
    "\n",
    "#Dados Sobre Renda\n",
    "dadosFinal2015 = dadosFinal2015.rename(columns={'V4614': 'Renda'})\n",
    "dadosFinal2015 = dadosFinal2015[(dadosFinal2015.Renda<13000) & (dadosFinal2015.Renda>0)]\n",
    "dadosFinal2015.Renda = dadosFinal2015.Renda.astype('float')\n"
   ]
  },
  {
   "cell_type": "code",
   "execution_count": 23,
   "metadata": {
    "collapsed": true
   },
   "outputs": [],
   "source": [
    "def TvInternet(TV,Internet):\n",
    "    if TV == 'Sim':\n",
    "        if Internet == 'Nao':\n",
    "            return 'So TV'\n",
    "        if Internet == 'Sim':\n",
    "            return 'Ambos'\n",
    "    if TV == 'Nao':\n",
    "        if Internet == 'Sim':\n",
    "            return 'So Internet'\n",
    "        if Internet == 'Nao':\n",
    "            return 'Nenhum'"
   ]
  },
  {
   "cell_type": "code",
   "execution_count": 24,
   "metadata": {},
   "outputs": [
    {
     "data": {
      "text/plain": [
       "'Ambos'"
      ]
     },
     "execution_count": 24,
     "metadata": {},
     "output_type": "execute_result"
    }
   ],
   "source": [
    "#Testando Funcao\n",
    "TvInternet(dadosFinal2015['TV'][50001],dadosFinal2015['Internet'][50001])"
   ]
  },
  {
   "cell_type": "code",
   "execution_count": 25,
   "metadata": {
    "collapsed": true
   },
   "outputs": [],
   "source": [
    "#Criando Variavel de Tv ou Internet para facilitar a analise (TvInternet)\n",
    "#2013\n",
    "dadosFinal2013['TvInternet'] = dadosFinal2013.apply(lambda row: TvInternet(row['TV'], row['Internet']), axis=1)\n",
    "\n",
    "#2014\n",
    "dadosFinal2014['TvInternet'] = dadosFinal2014.apply(lambda row: TvInternet(row['TV'], row['Internet']), axis=1)\n",
    "\n",
    "#2015\n",
    "dadosFinal2015['TvInternet'] = dadosFinal2015.apply(lambda row: TvInternet(row['TV'], row['Internet']), axis=1)"
   ]
  },
  {
   "cell_type": "code",
   "execution_count": 26,
   "metadata": {},
   "outputs": [
    {
     "data": {
      "text/html": [
       "<div>\n",
       "<table border=\"1\" class=\"dataframe\">\n",
       "  <thead>\n",
       "    <tr style=\"text-align: right;\">\n",
       "      <th></th>\n",
       "      <th>Regiao</th>\n",
       "      <th>Meio</th>\n",
       "      <th>Renda</th>\n",
       "      <th>TV</th>\n",
       "      <th>Internet</th>\n",
       "      <th>TvInternet</th>\n",
       "    </tr>\n",
       "  </thead>\n",
       "  <tbody>\n",
       "    <tr>\n",
       "      <th>0</th>\n",
       "      <td>Norte</td>\n",
       "      <td>Urbana</td>\n",
       "      <td>800.0</td>\n",
       "      <td>Sim</td>\n",
       "      <td>Nao</td>\n",
       "      <td>So TV</td>\n",
       "    </tr>\n",
       "    <tr>\n",
       "      <th>2</th>\n",
       "      <td>Norte</td>\n",
       "      <td>Urbana</td>\n",
       "      <td>1150.0</td>\n",
       "      <td>Nao</td>\n",
       "      <td>Sim</td>\n",
       "      <td>So Internet</td>\n",
       "    </tr>\n",
       "    <tr>\n",
       "      <th>3</th>\n",
       "      <td>Norte</td>\n",
       "      <td>Urbana</td>\n",
       "      <td>4760.0</td>\n",
       "      <td>Sim</td>\n",
       "      <td>Sim</td>\n",
       "      <td>Ambos</td>\n",
       "    </tr>\n",
       "    <tr>\n",
       "      <th>4</th>\n",
       "      <td>Norte</td>\n",
       "      <td>Urbana</td>\n",
       "      <td>5800.0</td>\n",
       "      <td>Nao</td>\n",
       "      <td>Nao</td>\n",
       "      <td>Nenhum</td>\n",
       "    </tr>\n",
       "    <tr>\n",
       "      <th>5</th>\n",
       "      <td>Norte</td>\n",
       "      <td>Urbana</td>\n",
       "      <td>1990.0</td>\n",
       "      <td>Sim</td>\n",
       "      <td>Sim</td>\n",
       "      <td>Ambos</td>\n",
       "    </tr>\n",
       "    <tr>\n",
       "      <th>6</th>\n",
       "      <td>Norte</td>\n",
       "      <td>Urbana</td>\n",
       "      <td>700.0</td>\n",
       "      <td>Sim</td>\n",
       "      <td>Nao</td>\n",
       "      <td>So TV</td>\n",
       "    </tr>\n",
       "    <tr>\n",
       "      <th>7</th>\n",
       "      <td>Norte</td>\n",
       "      <td>Urbana</td>\n",
       "      <td>4000.0</td>\n",
       "      <td>Sim</td>\n",
       "      <td>Nao</td>\n",
       "      <td>So TV</td>\n",
       "    </tr>\n",
       "    <tr>\n",
       "      <th>8</th>\n",
       "      <td>Norte</td>\n",
       "      <td>Urbana</td>\n",
       "      <td>4090.0</td>\n",
       "      <td>Sim</td>\n",
       "      <td>Sim</td>\n",
       "      <td>Ambos</td>\n",
       "    </tr>\n",
       "    <tr>\n",
       "      <th>10</th>\n",
       "      <td>Norte</td>\n",
       "      <td>Urbana</td>\n",
       "      <td>5150.0</td>\n",
       "      <td>Sim</td>\n",
       "      <td>Sim</td>\n",
       "      <td>Ambos</td>\n",
       "    </tr>\n",
       "    <tr>\n",
       "      <th>11</th>\n",
       "      <td>Norte</td>\n",
       "      <td>Urbana</td>\n",
       "      <td>2500.0</td>\n",
       "      <td>Sim</td>\n",
       "      <td>Sim</td>\n",
       "      <td>Ambos</td>\n",
       "    </tr>\n",
       "    <tr>\n",
       "      <th>13</th>\n",
       "      <td>Norte</td>\n",
       "      <td>Urbana</td>\n",
       "      <td>2800.0</td>\n",
       "      <td>Sim</td>\n",
       "      <td>Sim</td>\n",
       "      <td>Ambos</td>\n",
       "    </tr>\n",
       "    <tr>\n",
       "      <th>15</th>\n",
       "      <td>Norte</td>\n",
       "      <td>Urbana</td>\n",
       "      <td>2000.0</td>\n",
       "      <td>Sim</td>\n",
       "      <td>Sim</td>\n",
       "      <td>Ambos</td>\n",
       "    </tr>\n",
       "    <tr>\n",
       "      <th>16</th>\n",
       "      <td>Norte</td>\n",
       "      <td>Urbana</td>\n",
       "      <td>788.0</td>\n",
       "      <td>Sim</td>\n",
       "      <td>Nao</td>\n",
       "      <td>So TV</td>\n",
       "    </tr>\n",
       "    <tr>\n",
       "      <th>17</th>\n",
       "      <td>Norte</td>\n",
       "      <td>Urbana</td>\n",
       "      <td>3000.0</td>\n",
       "      <td>Sim</td>\n",
       "      <td>Sim</td>\n",
       "      <td>Ambos</td>\n",
       "    </tr>\n",
       "    <tr>\n",
       "      <th>18</th>\n",
       "      <td>Norte</td>\n",
       "      <td>Urbana</td>\n",
       "      <td>7188.0</td>\n",
       "      <td>Sim</td>\n",
       "      <td>Sim</td>\n",
       "      <td>Ambos</td>\n",
       "    </tr>\n",
       "    <tr>\n",
       "      <th>19</th>\n",
       "      <td>Norte</td>\n",
       "      <td>Urbana</td>\n",
       "      <td>1200.0</td>\n",
       "      <td>Sim</td>\n",
       "      <td>Sim</td>\n",
       "      <td>Ambos</td>\n",
       "    </tr>\n",
       "    <tr>\n",
       "      <th>20</th>\n",
       "      <td>Norte</td>\n",
       "      <td>Urbana</td>\n",
       "      <td>2800.0</td>\n",
       "      <td>Sim</td>\n",
       "      <td>Sim</td>\n",
       "      <td>Ambos</td>\n",
       "    </tr>\n",
       "    <tr>\n",
       "      <th>21</th>\n",
       "      <td>Norte</td>\n",
       "      <td>Urbana</td>\n",
       "      <td>4350.0</td>\n",
       "      <td>Sim</td>\n",
       "      <td>Nao</td>\n",
       "      <td>So TV</td>\n",
       "    </tr>\n",
       "    <tr>\n",
       "      <th>23</th>\n",
       "      <td>Norte</td>\n",
       "      <td>Urbana</td>\n",
       "      <td>8000.0</td>\n",
       "      <td>Sim</td>\n",
       "      <td>Sim</td>\n",
       "      <td>Ambos</td>\n",
       "    </tr>\n",
       "    <tr>\n",
       "      <th>26</th>\n",
       "      <td>Norte</td>\n",
       "      <td>Urbana</td>\n",
       "      <td>2100.0</td>\n",
       "      <td>Sim</td>\n",
       "      <td>Nao</td>\n",
       "      <td>So TV</td>\n",
       "    </tr>\n",
       "    <tr>\n",
       "      <th>28</th>\n",
       "      <td>Norte</td>\n",
       "      <td>Urbana</td>\n",
       "      <td>7000.0</td>\n",
       "      <td>Sim</td>\n",
       "      <td>Sim</td>\n",
       "      <td>Ambos</td>\n",
       "    </tr>\n",
       "    <tr>\n",
       "      <th>29</th>\n",
       "      <td>Norte</td>\n",
       "      <td>Urbana</td>\n",
       "      <td>4688.0</td>\n",
       "      <td>Sim</td>\n",
       "      <td>Sim</td>\n",
       "      <td>Ambos</td>\n",
       "    </tr>\n",
       "    <tr>\n",
       "      <th>30</th>\n",
       "      <td>Norte</td>\n",
       "      <td>Urbana</td>\n",
       "      <td>3818.0</td>\n",
       "      <td>Sim</td>\n",
       "      <td>Nao</td>\n",
       "      <td>So TV</td>\n",
       "    </tr>\n",
       "    <tr>\n",
       "      <th>31</th>\n",
       "      <td>Norte</td>\n",
       "      <td>Urbana</td>\n",
       "      <td>9000.0</td>\n",
       "      <td>Sim</td>\n",
       "      <td>Sim</td>\n",
       "      <td>Ambos</td>\n",
       "    </tr>\n",
       "    <tr>\n",
       "      <th>32</th>\n",
       "      <td>Norte</td>\n",
       "      <td>Urbana</td>\n",
       "      <td>2200.0</td>\n",
       "      <td>Sim</td>\n",
       "      <td>Sim</td>\n",
       "      <td>Ambos</td>\n",
       "    </tr>\n",
       "    <tr>\n",
       "      <th>33</th>\n",
       "      <td>Norte</td>\n",
       "      <td>Urbana</td>\n",
       "      <td>700.0</td>\n",
       "      <td>Sim</td>\n",
       "      <td>Sim</td>\n",
       "      <td>Ambos</td>\n",
       "    </tr>\n",
       "    <tr>\n",
       "      <th>35</th>\n",
       "      <td>Norte</td>\n",
       "      <td>Urbana</td>\n",
       "      <td>788.0</td>\n",
       "      <td>Sim</td>\n",
       "      <td>Nao</td>\n",
       "      <td>So TV</td>\n",
       "    </tr>\n",
       "    <tr>\n",
       "      <th>36</th>\n",
       "      <td>Norte</td>\n",
       "      <td>Urbana</td>\n",
       "      <td>180.0</td>\n",
       "      <td>Sim</td>\n",
       "      <td>Nao</td>\n",
       "      <td>So TV</td>\n",
       "    </tr>\n",
       "    <tr>\n",
       "      <th>37</th>\n",
       "      <td>Norte</td>\n",
       "      <td>Urbana</td>\n",
       "      <td>1788.0</td>\n",
       "      <td>Sim</td>\n",
       "      <td>Sim</td>\n",
       "      <td>Ambos</td>\n",
       "    </tr>\n",
       "    <tr>\n",
       "      <th>39</th>\n",
       "      <td>Norte</td>\n",
       "      <td>Urbana</td>\n",
       "      <td>982.0</td>\n",
       "      <td>Sim</td>\n",
       "      <td>Sim</td>\n",
       "      <td>Ambos</td>\n",
       "    </tr>\n",
       "    <tr>\n",
       "      <th>...</th>\n",
       "      <td>...</td>\n",
       "      <td>...</td>\n",
       "      <td>...</td>\n",
       "      <td>...</td>\n",
       "      <td>...</td>\n",
       "      <td>...</td>\n",
       "    </tr>\n",
       "    <tr>\n",
       "      <th>151133</th>\n",
       "      <td>Centro Oeste</td>\n",
       "      <td>Urbana</td>\n",
       "      <td>3076.0</td>\n",
       "      <td>Sim</td>\n",
       "      <td>Sim</td>\n",
       "      <td>Ambos</td>\n",
       "    </tr>\n",
       "    <tr>\n",
       "      <th>151134</th>\n",
       "      <td>Centro Oeste</td>\n",
       "      <td>Urbana</td>\n",
       "      <td>1714.0</td>\n",
       "      <td>Sim</td>\n",
       "      <td>Sim</td>\n",
       "      <td>Ambos</td>\n",
       "    </tr>\n",
       "    <tr>\n",
       "      <th>151135</th>\n",
       "      <td>Centro Oeste</td>\n",
       "      <td>Urbana</td>\n",
       "      <td>2500.0</td>\n",
       "      <td>Sim</td>\n",
       "      <td>Sim</td>\n",
       "      <td>Ambos</td>\n",
       "    </tr>\n",
       "    <tr>\n",
       "      <th>151136</th>\n",
       "      <td>Centro Oeste</td>\n",
       "      <td>Urbana</td>\n",
       "      <td>1000.0</td>\n",
       "      <td>Sim</td>\n",
       "      <td>Nao</td>\n",
       "      <td>So TV</td>\n",
       "    </tr>\n",
       "    <tr>\n",
       "      <th>151139</th>\n",
       "      <td>Centro Oeste</td>\n",
       "      <td>Urbana</td>\n",
       "      <td>1576.0</td>\n",
       "      <td>Sim</td>\n",
       "      <td>Sim</td>\n",
       "      <td>Ambos</td>\n",
       "    </tr>\n",
       "    <tr>\n",
       "      <th>151140</th>\n",
       "      <td>Centro Oeste</td>\n",
       "      <td>Urbana</td>\n",
       "      <td>2100.0</td>\n",
       "      <td>Sim</td>\n",
       "      <td>Sim</td>\n",
       "      <td>Ambos</td>\n",
       "    </tr>\n",
       "    <tr>\n",
       "      <th>151142</th>\n",
       "      <td>Centro Oeste</td>\n",
       "      <td>Urbana</td>\n",
       "      <td>1356.0</td>\n",
       "      <td>Sim</td>\n",
       "      <td>Sim</td>\n",
       "      <td>Ambos</td>\n",
       "    </tr>\n",
       "    <tr>\n",
       "      <th>151143</th>\n",
       "      <td>Centro Oeste</td>\n",
       "      <td>Urbana</td>\n",
       "      <td>10110.0</td>\n",
       "      <td>Sim</td>\n",
       "      <td>Sim</td>\n",
       "      <td>Ambos</td>\n",
       "    </tr>\n",
       "    <tr>\n",
       "      <th>151144</th>\n",
       "      <td>Centro Oeste</td>\n",
       "      <td>Urbana</td>\n",
       "      <td>7500.0</td>\n",
       "      <td>Sim</td>\n",
       "      <td>Sim</td>\n",
       "      <td>Ambos</td>\n",
       "    </tr>\n",
       "    <tr>\n",
       "      <th>151145</th>\n",
       "      <td>Centro Oeste</td>\n",
       "      <td>Urbana</td>\n",
       "      <td>1900.0</td>\n",
       "      <td>Nao</td>\n",
       "      <td>Nao</td>\n",
       "      <td>Nenhum</td>\n",
       "    </tr>\n",
       "    <tr>\n",
       "      <th>151146</th>\n",
       "      <td>Centro Oeste</td>\n",
       "      <td>Urbana</td>\n",
       "      <td>1900.0</td>\n",
       "      <td>Sim</td>\n",
       "      <td>Sim</td>\n",
       "      <td>Ambos</td>\n",
       "    </tr>\n",
       "    <tr>\n",
       "      <th>151147</th>\n",
       "      <td>Centro Oeste</td>\n",
       "      <td>Urbana</td>\n",
       "      <td>1109.0</td>\n",
       "      <td>Sim</td>\n",
       "      <td>Sim</td>\n",
       "      <td>Ambos</td>\n",
       "    </tr>\n",
       "    <tr>\n",
       "      <th>151148</th>\n",
       "      <td>Centro Oeste</td>\n",
       "      <td>Urbana</td>\n",
       "      <td>850.0</td>\n",
       "      <td>Sim</td>\n",
       "      <td>Sim</td>\n",
       "      <td>Ambos</td>\n",
       "    </tr>\n",
       "    <tr>\n",
       "      <th>151150</th>\n",
       "      <td>Centro Oeste</td>\n",
       "      <td>Urbana</td>\n",
       "      <td>5709.0</td>\n",
       "      <td>Sim</td>\n",
       "      <td>Sim</td>\n",
       "      <td>Ambos</td>\n",
       "    </tr>\n",
       "    <tr>\n",
       "      <th>151151</th>\n",
       "      <td>Centro Oeste</td>\n",
       "      <td>Urbana</td>\n",
       "      <td>1066.0</td>\n",
       "      <td>Sim</td>\n",
       "      <td>Sim</td>\n",
       "      <td>Ambos</td>\n",
       "    </tr>\n",
       "    <tr>\n",
       "      <th>151153</th>\n",
       "      <td>Centro Oeste</td>\n",
       "      <td>Urbana</td>\n",
       "      <td>2200.0</td>\n",
       "      <td>Sim</td>\n",
       "      <td>Sim</td>\n",
       "      <td>Ambos</td>\n",
       "    </tr>\n",
       "    <tr>\n",
       "      <th>151155</th>\n",
       "      <td>Centro Oeste</td>\n",
       "      <td>Urbana</td>\n",
       "      <td>8700.0</td>\n",
       "      <td>Sim</td>\n",
       "      <td>Nao</td>\n",
       "      <td>So TV</td>\n",
       "    </tr>\n",
       "    <tr>\n",
       "      <th>151156</th>\n",
       "      <td>Centro Oeste</td>\n",
       "      <td>Urbana</td>\n",
       "      <td>5000.0</td>\n",
       "      <td>Sim</td>\n",
       "      <td>Sim</td>\n",
       "      <td>Ambos</td>\n",
       "    </tr>\n",
       "    <tr>\n",
       "      <th>151163</th>\n",
       "      <td>Centro Oeste</td>\n",
       "      <td>Urbana</td>\n",
       "      <td>12500.0</td>\n",
       "      <td>Sim</td>\n",
       "      <td>Sim</td>\n",
       "      <td>Ambos</td>\n",
       "    </tr>\n",
       "    <tr>\n",
       "      <th>151172</th>\n",
       "      <td>Centro Oeste</td>\n",
       "      <td>Urbana</td>\n",
       "      <td>2712.0</td>\n",
       "      <td>Nao</td>\n",
       "      <td>Nao</td>\n",
       "      <td>Nenhum</td>\n",
       "    </tr>\n",
       "    <tr>\n",
       "      <th>151173</th>\n",
       "      <td>Centro Oeste</td>\n",
       "      <td>Urbana</td>\n",
       "      <td>2630.0</td>\n",
       "      <td>Sim</td>\n",
       "      <td>Sim</td>\n",
       "      <td>Ambos</td>\n",
       "    </tr>\n",
       "    <tr>\n",
       "      <th>151175</th>\n",
       "      <td>Centro Oeste</td>\n",
       "      <td>Urbana</td>\n",
       "      <td>3176.0</td>\n",
       "      <td>Sim</td>\n",
       "      <td>Sim</td>\n",
       "      <td>Ambos</td>\n",
       "    </tr>\n",
       "    <tr>\n",
       "      <th>151179</th>\n",
       "      <td>Centro Oeste</td>\n",
       "      <td>Urbana</td>\n",
       "      <td>1100.0</td>\n",
       "      <td>Sim</td>\n",
       "      <td>Nao</td>\n",
       "      <td>So TV</td>\n",
       "    </tr>\n",
       "    <tr>\n",
       "      <th>151181</th>\n",
       "      <td>Centro Oeste</td>\n",
       "      <td>Urbana</td>\n",
       "      <td>1689.0</td>\n",
       "      <td>Sim</td>\n",
       "      <td>Nao</td>\n",
       "      <td>So TV</td>\n",
       "    </tr>\n",
       "    <tr>\n",
       "      <th>151182</th>\n",
       "      <td>Centro Oeste</td>\n",
       "      <td>Urbana</td>\n",
       "      <td>3100.0</td>\n",
       "      <td>Sim</td>\n",
       "      <td>Sim</td>\n",
       "      <td>Ambos</td>\n",
       "    </tr>\n",
       "    <tr>\n",
       "      <th>151184</th>\n",
       "      <td>Centro Oeste</td>\n",
       "      <td>Urbana</td>\n",
       "      <td>2700.0</td>\n",
       "      <td>Sim</td>\n",
       "      <td>Nao</td>\n",
       "      <td>So TV</td>\n",
       "    </tr>\n",
       "    <tr>\n",
       "      <th>151185</th>\n",
       "      <td>Centro Oeste</td>\n",
       "      <td>Urbana</td>\n",
       "      <td>500.0</td>\n",
       "      <td>Sim</td>\n",
       "      <td>Nao</td>\n",
       "      <td>So TV</td>\n",
       "    </tr>\n",
       "    <tr>\n",
       "      <th>151186</th>\n",
       "      <td>Centro Oeste</td>\n",
       "      <td>Urbana</td>\n",
       "      <td>2388.0</td>\n",
       "      <td>Sim</td>\n",
       "      <td>Sim</td>\n",
       "      <td>Ambos</td>\n",
       "    </tr>\n",
       "    <tr>\n",
       "      <th>151187</th>\n",
       "      <td>Centro Oeste</td>\n",
       "      <td>Urbana</td>\n",
       "      <td>1500.0</td>\n",
       "      <td>Sim</td>\n",
       "      <td>Nao</td>\n",
       "      <td>So TV</td>\n",
       "    </tr>\n",
       "    <tr>\n",
       "      <th>151188</th>\n",
       "      <td>Centro Oeste</td>\n",
       "      <td>Urbana</td>\n",
       "      <td>1296.0</td>\n",
       "      <td>Sim</td>\n",
       "      <td>Sim</td>\n",
       "      <td>Ambos</td>\n",
       "    </tr>\n",
       "  </tbody>\n",
       "</table>\n",
       "<p>111348 rows × 6 columns</p>\n",
       "</div>"
      ],
      "text/plain": [
       "              Regiao    Meio    Renda   TV Internet   TvInternet\n",
       "0              Norte  Urbana    800.0  Sim      Nao        So TV\n",
       "2              Norte  Urbana   1150.0  Nao      Sim  So Internet\n",
       "3              Norte  Urbana   4760.0  Sim      Sim        Ambos\n",
       "4              Norte  Urbana   5800.0  Nao      Nao       Nenhum\n",
       "5              Norte  Urbana   1990.0  Sim      Sim        Ambos\n",
       "6              Norte  Urbana    700.0  Sim      Nao        So TV\n",
       "7              Norte  Urbana   4000.0  Sim      Nao        So TV\n",
       "8              Norte  Urbana   4090.0  Sim      Sim        Ambos\n",
       "10             Norte  Urbana   5150.0  Sim      Sim        Ambos\n",
       "11             Norte  Urbana   2500.0  Sim      Sim        Ambos\n",
       "13             Norte  Urbana   2800.0  Sim      Sim        Ambos\n",
       "15             Norte  Urbana   2000.0  Sim      Sim        Ambos\n",
       "16             Norte  Urbana    788.0  Sim      Nao        So TV\n",
       "17             Norte  Urbana   3000.0  Sim      Sim        Ambos\n",
       "18             Norte  Urbana   7188.0  Sim      Sim        Ambos\n",
       "19             Norte  Urbana   1200.0  Sim      Sim        Ambos\n",
       "20             Norte  Urbana   2800.0  Sim      Sim        Ambos\n",
       "21             Norte  Urbana   4350.0  Sim      Nao        So TV\n",
       "23             Norte  Urbana   8000.0  Sim      Sim        Ambos\n",
       "26             Norte  Urbana   2100.0  Sim      Nao        So TV\n",
       "28             Norte  Urbana   7000.0  Sim      Sim        Ambos\n",
       "29             Norte  Urbana   4688.0  Sim      Sim        Ambos\n",
       "30             Norte  Urbana   3818.0  Sim      Nao        So TV\n",
       "31             Norte  Urbana   9000.0  Sim      Sim        Ambos\n",
       "32             Norte  Urbana   2200.0  Sim      Sim        Ambos\n",
       "33             Norte  Urbana    700.0  Sim      Sim        Ambos\n",
       "35             Norte  Urbana    788.0  Sim      Nao        So TV\n",
       "36             Norte  Urbana    180.0  Sim      Nao        So TV\n",
       "37             Norte  Urbana   1788.0  Sim      Sim        Ambos\n",
       "39             Norte  Urbana    982.0  Sim      Sim        Ambos\n",
       "...              ...     ...      ...  ...      ...          ...\n",
       "151133  Centro Oeste  Urbana   3076.0  Sim      Sim        Ambos\n",
       "151134  Centro Oeste  Urbana   1714.0  Sim      Sim        Ambos\n",
       "151135  Centro Oeste  Urbana   2500.0  Sim      Sim        Ambos\n",
       "151136  Centro Oeste  Urbana   1000.0  Sim      Nao        So TV\n",
       "151139  Centro Oeste  Urbana   1576.0  Sim      Sim        Ambos\n",
       "151140  Centro Oeste  Urbana   2100.0  Sim      Sim        Ambos\n",
       "151142  Centro Oeste  Urbana   1356.0  Sim      Sim        Ambos\n",
       "151143  Centro Oeste  Urbana  10110.0  Sim      Sim        Ambos\n",
       "151144  Centro Oeste  Urbana   7500.0  Sim      Sim        Ambos\n",
       "151145  Centro Oeste  Urbana   1900.0  Nao      Nao       Nenhum\n",
       "151146  Centro Oeste  Urbana   1900.0  Sim      Sim        Ambos\n",
       "151147  Centro Oeste  Urbana   1109.0  Sim      Sim        Ambos\n",
       "151148  Centro Oeste  Urbana    850.0  Sim      Sim        Ambos\n",
       "151150  Centro Oeste  Urbana   5709.0  Sim      Sim        Ambos\n",
       "151151  Centro Oeste  Urbana   1066.0  Sim      Sim        Ambos\n",
       "151153  Centro Oeste  Urbana   2200.0  Sim      Sim        Ambos\n",
       "151155  Centro Oeste  Urbana   8700.0  Sim      Nao        So TV\n",
       "151156  Centro Oeste  Urbana   5000.0  Sim      Sim        Ambos\n",
       "151163  Centro Oeste  Urbana  12500.0  Sim      Sim        Ambos\n",
       "151172  Centro Oeste  Urbana   2712.0  Nao      Nao       Nenhum\n",
       "151173  Centro Oeste  Urbana   2630.0  Sim      Sim        Ambos\n",
       "151175  Centro Oeste  Urbana   3176.0  Sim      Sim        Ambos\n",
       "151179  Centro Oeste  Urbana   1100.0  Sim      Nao        So TV\n",
       "151181  Centro Oeste  Urbana   1689.0  Sim      Nao        So TV\n",
       "151182  Centro Oeste  Urbana   3100.0  Sim      Sim        Ambos\n",
       "151184  Centro Oeste  Urbana   2700.0  Sim      Nao        So TV\n",
       "151185  Centro Oeste  Urbana    500.0  Sim      Nao        So TV\n",
       "151186  Centro Oeste  Urbana   2388.0  Sim      Sim        Ambos\n",
       "151187  Centro Oeste  Urbana   1500.0  Sim      Nao        So TV\n",
       "151188  Centro Oeste  Urbana   1296.0  Sim      Sim        Ambos\n",
       "\n",
       "[111348 rows x 6 columns]"
      ]
     },
     "execution_count": 26,
     "metadata": {},
     "output_type": "execute_result"
    }
   ],
   "source": [
    "#Vendo o DataFrame para ver se todos as mudancas funcionaram\n",
    "dadosFinal2015"
   ]
  },
  {
   "cell_type": "markdown",
   "metadata": {},
   "source": [
    "# Analise dos Dados Qualitativos"
   ]
  },
  {
   "cell_type": "code",
   "execution_count": 27,
   "metadata": {},
   "outputs": [
    {
     "name": "stdout",
     "output_type": "stream",
     "text": [
      "Pessoas Morando em Diferntes Regioes 2013\n",
      "Norte           15383\n",
      "Nordeste        29741\n",
      "Suldeste        31322\n",
      "Sul             17699\n",
      "Centro Oeste    10962\n",
      "Name: Regiao, dtype: int64 \n",
      "\n",
      "Pessoas morando em Regioes 2013 (%)\n",
      "Norte           14.6\n",
      "Nordeste        28.3\n",
      "Suldeste        29.8\n",
      "Sul             16.8\n",
      "Centro Oeste    10.4\n",
      "Name: Regiao, dtype: float64 \n",
      "\n",
      "Pessoas Morando em Diferntes Regioes 2014\n",
      "Norte           15767\n",
      "Nordeste        31422\n",
      "Suldeste        33319\n",
      "Sul             18488\n",
      "Centro Oeste    11793\n",
      "Name: Regiao, dtype: int64 \n",
      "\n",
      "Pessoas morando em Regioes 2014 (%)\n",
      "Norte           14.2\n",
      "Nordeste        28.4\n",
      "Suldeste        30.1\n",
      "Sul             16.7\n",
      "Centro Oeste    10.6\n",
      "Name: Regiao, dtype: float64 \n",
      "\n",
      "Pessoas Morando em Diferntes Regioes 2015\n",
      "Norte           16213\n",
      "Nordeste        31570\n",
      "Suldeste        33707\n",
      "Sul             18234\n",
      "Centro Oeste    11624\n",
      "Name: Regiao, dtype: int64 \n",
      "\n",
      "Pessoas morando em Regioes 2015 (%)\n",
      "Norte           14.6\n",
      "Nordeste        28.4\n",
      "Suldeste        30.3\n",
      "Sul             16.4\n",
      "Centro Oeste    10.4\n",
      "Name: Regiao, dtype: float64 \n",
      "\n"
     ]
    }
   ],
   "source": [
    "#Contanto Dados Regiao\n",
    "#2013\n",
    "print('Pessoas Morando em Diferntes Regioes 2013')\n",
    "dadosRegiao2013 = dadosFinal2013.Regiao.value_counts().reindex(['Norte', 'Nordeste', 'Suldeste', 'Sul', 'Centro Oeste'])\n",
    "print(dadosRegiao2013,'\\n')\n",
    "\n",
    "#Tabela Univariada\n",
    "print('Pessoas morando em Regioes 2013 (%)')\n",
    "RegioesPorCento2013 = (dadosFinal2013.Regiao.value_counts(normalize=True)*100).round(decimals=1).reindex(['Norte', 'Nordeste', 'Suldeste', 'Sul', 'Centro Oeste'])\n",
    "print(RegioesPorCento2013,'\\n')\n",
    "\n",
    "#2014\n",
    "print('Pessoas Morando em Diferntes Regioes 2014')\n",
    "dadosRegiao2014 = dadosFinal2014.Regiao.value_counts().reindex(['Norte', 'Nordeste', 'Suldeste', 'Sul', 'Centro Oeste'])\n",
    "print(dadosRegiao2014,'\\n')\n",
    "\n",
    "#Tabela Univariada\n",
    "print('Pessoas morando em Regioes 2014 (%)')\n",
    "RegioesPorCento2014 = (dadosFinal2014.Regiao.value_counts(normalize=True)*100).round(decimals=1).reindex(['Norte', 'Nordeste', 'Suldeste', 'Sul', 'Centro Oeste'])\n",
    "print(RegioesPorCento2014,'\\n')\n",
    "\n",
    "#2015\n",
    "print('Pessoas Morando em Diferntes Regioes 2015')\n",
    "dadosRegiao2015 = dadosFinal2015.Regiao.value_counts().reindex(['Norte', 'Nordeste', 'Suldeste', 'Sul', 'Centro Oeste'])\n",
    "print(dadosRegiao2015,'\\n')\n",
    "\n",
    "#Tabela Univariada\n",
    "print('Pessoas morando em Regioes 2015 (%)')\n",
    "RegioesPorCento2015 = (dadosFinal2015.Regiao.value_counts(normalize=True)*100).round(decimals=1).reindex(['Norte', 'Nordeste', 'Suldeste', 'Sul', 'Centro Oeste'])\n",
    "print(RegioesPorCento2015,'\\n')\n"
   ]
  },
  {
   "cell_type": "code",
   "execution_count": 28,
   "metadata": {},
   "outputs": [
    {
     "name": "stdout",
     "output_type": "stream",
     "text": [
      "Pessoas que tem Internet 2013\n",
      "Sim    47800\n",
      "Nao    57307\n",
      "Name: Internet, dtype: int64 \n",
      "\n",
      "Pessoas que tem Internet 2013 (%)\n",
      "Sim    45.5\n",
      "Nao    54.5\n",
      "Name: Internet, dtype: float64 \n",
      "\n",
      "Pessoas que tem Internet 2014\n",
      "Sim    59187\n",
      "Nao    51602\n",
      "Name: Internet, dtype: int64 \n",
      "\n",
      "Pessoas que tem Internet 2014 (%)\n",
      "Sim    53.4\n",
      "Nao    46.6\n",
      "Name: Internet, dtype: float64 \n",
      "\n",
      "Pessoas que tem Internet 2015\n",
      "Sim    62826\n",
      "Nao    48522\n",
      "Name: Internet, dtype: int64 \n",
      "\n",
      "Pessoas que tem Internet 2015 (%)\n",
      "Sim    56.4\n",
      "Nao    43.6\n",
      "Name: Internet, dtype: float64 \n",
      "\n"
     ]
    }
   ],
   "source": [
    "#Contando Dados Internet\n",
    "#2013\n",
    "print('Pessoas que tem Internet 2013')\n",
    "dadosInternet2013 = dadosFinal2013.Internet.value_counts().reindex(['Sim', 'Nao'])\n",
    "print(dadosInternet2013,'\\n')\n",
    "\n",
    "#Tabela Univariada\n",
    "print('Pessoas que tem Internet 2013 (%)')\n",
    "InternetPorCento2013 = (dadosFinal2013.Internet.value_counts(normalize=True)*100).round(decimals=1).reindex(['Sim','Nao'])\n",
    "print(InternetPorCento2013,'\\n')\n",
    "\n",
    "#2014\n",
    "print('Pessoas que tem Internet 2014')\n",
    "dadosInternet2014 = dadosFinal2014.Internet.value_counts().reindex(['Sim', 'Nao'])\n",
    "print(dadosInternet2014,'\\n')\n",
    "\n",
    "#Tabela Univariada\n",
    "print('Pessoas que tem Internet 2014 (%)')\n",
    "InternetPorCento2014 = (dadosFinal2014.Internet.value_counts(normalize=True)*100).round(decimals=1).reindex(['Sim','Nao'])\n",
    "print(InternetPorCento2014,'\\n')\n",
    "\n",
    "#2015\n",
    "print('Pessoas que tem Internet 2015')\n",
    "dadosInternet2015 = dadosFinal2015.Internet.value_counts().reindex(['Sim', 'Nao'])\n",
    "print(dadosInternet2015,'\\n')\n",
    "\n",
    "#Tabela Univariada\n",
    "print('Pessoas que tem Internet 2015 (%)')\n",
    "InternetPorCento2015 = (dadosFinal2015.Internet.value_counts(normalize=True)*100).round(decimals=1).reindex(['Sim','Nao'])\n",
    "print(InternetPorCento2015,'\\n')"
   ]
  },
  {
   "cell_type": "code",
   "execution_count": 29,
   "metadata": {},
   "outputs": [
    {
     "name": "stdout",
     "output_type": "stream",
     "text": [
      "Pessoas que tem TV 2013\n",
      "Sim    101703\n",
      "Nao      3404\n",
      "Name: TV, dtype: int64 \n",
      "\n",
      "Pessoas que tem TV 2013 (%)\n",
      "Sim    96.8\n",
      "Nao     3.2\n",
      "Name: TV, dtype: float64 \n",
      "\n",
      "Pessoas que tem TV 2014\n",
      "Sim    107208\n",
      "Nao      3581\n",
      "Name: TV, dtype: int64 \n",
      "\n",
      "Pessoas que tem TV 2014 (%)\n",
      "Sim    96.8\n",
      "Nao     3.2\n",
      "Name: TV, dtype: float64 \n",
      "\n",
      "Pessoas que tem TV 2015\n",
      "Sim    107752\n",
      "Nao      3596\n",
      "Name: TV, dtype: int64 \n",
      "\n",
      "Pessoas que tem TV 2015 (%)\n",
      "Sim    96.8\n",
      "Nao     3.2\n",
      "Name: TV, dtype: float64 \n",
      "\n"
     ]
    }
   ],
   "source": [
    "#Contando Dados TV\n",
    "#2013\n",
    "print('Pessoas que tem TV 2013')\n",
    "dadosTV2013 = dadosFinal2013.TV.value_counts().reindex(['Sim', 'Nao'])\n",
    "print(dadosTV2013,'\\n')\n",
    "\n",
    "#Tabela Univariada\n",
    "print('Pessoas que tem TV 2013 (%)')\n",
    "TVPorCento2013 = (dadosFinal2013.TV.value_counts(normalize=True)*100).round(decimals=1).reindex(['Sim','Nao'])\n",
    "print(TVPorCento2013,'\\n')\n",
    "\n",
    "#2014\n",
    "print('Pessoas que tem TV 2014')\n",
    "dadosTV2014 = dadosFinal2014.TV.value_counts().reindex(['Sim', 'Nao'])\n",
    "print(dadosTV2014,'\\n')\n",
    "\n",
    "#Tabela Univariada\n",
    "print('Pessoas que tem TV 2014 (%)')\n",
    "TVPorCento2014 = (dadosFinal2014.TV.value_counts(normalize=True)*100).round(decimals=1).reindex(['Sim','Nao'])\n",
    "print(TVPorCento2014,'\\n')\n",
    "\n",
    "#2015\n",
    "print('Pessoas que tem TV 2015')\n",
    "dadosTV2015 = dadosFinal2015.TV.value_counts().reindex(['Sim', 'Nao'])\n",
    "print(dadosTV2015,'\\n')\n",
    "\n",
    "#Tabela Univariada\n",
    "print('Pessoas que tem TV 2015 (%)')\n",
    "TVPorCento2015 = (dadosFinal2015.TV.value_counts(normalize=True)*100).round(decimals=1).reindex(['Sim','Nao'])\n",
    "print(TVPorCento2015,'\\n')\n"
   ]
  },
  {
   "cell_type": "code",
   "execution_count": 30,
   "metadata": {},
   "outputs": [
    {
     "name": "stdout",
     "output_type": "stream",
     "text": [
      "Pessoas Vivendo em que Meio 2013\n",
      "Urbana    89713\n",
      "Rural     15394\n",
      "Name: Meio, dtype: int64 \n",
      "\n",
      "Pessoas que Vivem em Diferentes Meios 2013 (%)\n",
      "Urbana    85.4\n",
      "Rural     14.6\n",
      "Name: Meio, dtype: float64 \n",
      "\n",
      "Pessoas Vivendo em que Meio 2014\n",
      "Urbana    95317\n",
      "Rural     15472\n",
      "Name: Meio, dtype: int64 \n",
      "\n",
      "Pessoas que Vivem em Diferentes Meios 2014 (%)\n",
      "Urbana    86.0\n",
      "Rural     14.0\n",
      "Name: Meio, dtype: float64 \n",
      "\n",
      "Pessoas Vivendo em que Meio 2015\n",
      "Urbana    95609\n",
      "Rural     15739\n",
      "Name: Meio, dtype: int64 \n",
      "\n",
      "Pessoas que Vivem em Diferentes Meios 2015 (%)\n",
      "Urbana    85.9\n",
      "Rural     14.1\n",
      "Name: Meio, dtype: float64 \n",
      "\n"
     ]
    }
   ],
   "source": [
    "#Contando Dados Meio\n",
    "#2013\n",
    "print('Pessoas Vivendo em que Meio 2013')\n",
    "dadosMeio2013 = dadosFinal2013.Meio.value_counts().reindex(['Urbana', 'Rural'])\n",
    "print(dadosMeio2013,'\\n')\n",
    "\n",
    "#Tabela Univariada\n",
    "print('Pessoas que Vivem em Diferentes Meios 2013 (%)')\n",
    "MeioPorCento2013 = (dadosFinal2013.Meio.value_counts(normalize=True)*100).round(decimals=1).reindex(['Urbana','Rural'])\n",
    "print(MeioPorCento2013,'\\n')\n",
    "\n",
    "#2014\n",
    "print('Pessoas Vivendo em que Meio 2014')\n",
    "dadosMeio2014 = dadosFinal2014.Meio.value_counts().reindex(['Urbana', 'Rural'])\n",
    "print(dadosMeio2014,'\\n')\n",
    "\n",
    "#Tabela Univariada\n",
    "print('Pessoas que Vivem em Diferentes Meios 2014 (%)')\n",
    "MeioPorCento2014 = (dadosFinal2014.Meio.value_counts(normalize=True)*100).round(decimals=1).reindex(['Urbana','Rural'])\n",
    "print(MeioPorCento2014,'\\n')\n",
    "\n",
    "#2015\n",
    "print('Pessoas Vivendo em que Meio 2015')\n",
    "dadosMeio2015 = dadosFinal2015.Meio.value_counts().reindex(['Urbana', 'Rural'])\n",
    "print(dadosMeio2015,'\\n')\n",
    "\n",
    "#Tabela Univariada\n",
    "print('Pessoas que Vivem em Diferentes Meios 2015 (%)')\n",
    "MeioPorCento2015 = (dadosFinal2015.Meio.value_counts(normalize=True)*100).round(decimals=1).reindex(['Urbana','Rural'])\n",
    "print(MeioPorCento2015,'\\n')"
   ]
  },
  {
   "cell_type": "code",
   "execution_count": 31,
   "metadata": {},
   "outputs": [
    {
     "data": {
      "text/html": [
       "<div>\n",
       "<table border=\"1\" class=\"dataframe\">\n",
       "  <thead>\n",
       "    <tr>\n",
       "      <th>TvInternet</th>\n",
       "      <th colspan=\"2\" halign=\"left\">Ambos</th>\n",
       "      <th colspan=\"2\" halign=\"left\">Nenhum</th>\n",
       "      <th colspan=\"2\" halign=\"left\">So Internet</th>\n",
       "      <th colspan=\"2\" halign=\"left\">So TV</th>\n",
       "    </tr>\n",
       "    <tr>\n",
       "      <th>Meio</th>\n",
       "      <th>Rural</th>\n",
       "      <th>Urbana</th>\n",
       "      <th>Rural</th>\n",
       "      <th>Urbana</th>\n",
       "      <th>Rural</th>\n",
       "      <th>Urbana</th>\n",
       "      <th>Rural</th>\n",
       "      <th>Urbana</th>\n",
       "    </tr>\n",
       "    <tr>\n",
       "      <th>Regiao</th>\n",
       "      <th></th>\n",
       "      <th></th>\n",
       "      <th></th>\n",
       "      <th></th>\n",
       "      <th></th>\n",
       "      <th></th>\n",
       "      <th></th>\n",
       "      <th></th>\n",
       "    </tr>\n",
       "  </thead>\n",
       "  <tbody>\n",
       "    <tr>\n",
       "      <th>Norte</th>\n",
       "      <td>1.54</td>\n",
       "      <td>34.92</td>\n",
       "      <td>4.06</td>\n",
       "      <td>2.11</td>\n",
       "      <td>0.06</td>\n",
       "      <td>0.48</td>\n",
       "      <td>16.54</td>\n",
       "      <td>40.28</td>\n",
       "    </tr>\n",
       "    <tr>\n",
       "      <th>Nordeste</th>\n",
       "      <td>1.94</td>\n",
       "      <td>32.96</td>\n",
       "      <td>1.86</td>\n",
       "      <td>1.60</td>\n",
       "      <td>0.01</td>\n",
       "      <td>0.22</td>\n",
       "      <td>17.58</td>\n",
       "      <td>43.83</td>\n",
       "    </tr>\n",
       "    <tr>\n",
       "      <th>Suldeste</th>\n",
       "      <td>1.33</td>\n",
       "      <td>52.86</td>\n",
       "      <td>0.31</td>\n",
       "      <td>1.06</td>\n",
       "      <td>0.01</td>\n",
       "      <td>0.35</td>\n",
       "      <td>5.66</td>\n",
       "      <td>38.40</td>\n",
       "    </tr>\n",
       "    <tr>\n",
       "      <th>Sul</th>\n",
       "      <td>3.03</td>\n",
       "      <td>49.12</td>\n",
       "      <td>0.34</td>\n",
       "      <td>1.11</td>\n",
       "      <td>0.03</td>\n",
       "      <td>0.49</td>\n",
       "      <td>8.81</td>\n",
       "      <td>37.07</td>\n",
       "    </tr>\n",
       "    <tr>\n",
       "      <th>Centro Oeste</th>\n",
       "      <td>1.51</td>\n",
       "      <td>45.79</td>\n",
       "      <td>1.01</td>\n",
       "      <td>1.86</td>\n",
       "      <td>0.05</td>\n",
       "      <td>0.53</td>\n",
       "      <td>8.04</td>\n",
       "      <td>41.22</td>\n",
       "    </tr>\n",
       "  </tbody>\n",
       "</table>\n",
       "</div>"
      ],
      "text/plain": [
       "TvInternet   Ambos        Nenhum        So Internet         So TV       \n",
       "Meio         Rural Urbana  Rural Urbana       Rural Urbana  Rural Urbana\n",
       "Regiao                                                                  \n",
       "Norte         1.54  34.92   4.06   2.11        0.06   0.48  16.54  40.28\n",
       "Nordeste      1.94  32.96   1.86   1.60        0.01   0.22  17.58  43.83\n",
       "Suldeste      1.33  52.86   0.31   1.06        0.01   0.35   5.66  38.40\n",
       "Sul           3.03  49.12   0.34   1.11        0.03   0.49   8.81  37.07\n",
       "Centro Oeste  1.51  45.79   1.01   1.86        0.05   0.53   8.04  41.22"
      ]
     },
     "execution_count": 31,
     "metadata": {},
     "output_type": "execute_result"
    }
   ],
   "source": [
    "#Crosstab TvInternet, Meio e Regiao 2013\n",
    "ctTvInternetMeioRegiao2013=(pd.crosstab([dadosFinal2013.Regiao],[dadosFinal2013.TvInternet,dadosFinal2013.Meio],rownames=['Regiao'], colnames=['TvInternet','Meio'],normalize=\"index\")*100).round(decimals=2)\n",
    "ctTvInternetMeioRegiao2013=ctTvInternetMeioRegiao2013.loc[['Norte', 'Nordeste', 'Suldeste', 'Sul', 'Centro Oeste']]\n",
    "ctTvInternetMeioRegiao2013"
   ]
  },
  {
   "cell_type": "code",
   "execution_count": 32,
   "metadata": {},
   "outputs": [
    {
     "data": {
      "text/plain": [
       "<matplotlib.legend.Legend at 0x20ae816afd0>"
      ]
     },
     "execution_count": 32,
     "metadata": {},
     "output_type": "execute_result"
    },
    {
     "data": {
      "image/png": "[encoded data removed]",
      "text/plain": [
       "<matplotlib.figure.Figure at 0x20ae816a390>"
      ]
     },
     "metadata": {},
     "output_type": "display_data"
    }
   ],
   "source": [
    "#Grafico Crosstab TvInternet, Meio e Regiao 2013\n",
    "ctTvInternetMeioRegiao2013.plot(kind='bar', color=('#2ecc71', '#e74c3c','#3498db','#9b59b6','#34495e','#f1c40f','#e67e22','#bdc3c7'),figsize=(10,6),stacked=True)\n",
    "ax = plt.subplot(111)\n",
    "box = ax.get_position()\n",
    "ax.set_position([box.x0, box.y0, box.width * 0.8, box.height])\n",
    "ax.legend(loc='center left', bbox_to_anchor=(1, 0.5))"
   ]
  },
  {
   "cell_type": "code",
   "execution_count": 33,
   "metadata": {},
   "outputs": [
    {
     "data": {
      "text/html": [
       "<div>\n",
       "<table border=\"1\" class=\"dataframe\">\n",
       "  <thead>\n",
       "    <tr>\n",
       "      <th>TvInternet</th>\n",
       "      <th colspan=\"2\" halign=\"left\">Ambos</th>\n",
       "      <th colspan=\"2\" halign=\"left\">Nenhum</th>\n",
       "      <th colspan=\"2\" halign=\"left\">So Internet</th>\n",
       "      <th colspan=\"2\" halign=\"left\">So TV</th>\n",
       "    </tr>\n",
       "    <tr>\n",
       "      <th>Meio</th>\n",
       "      <th>Rural</th>\n",
       "      <th>Urbana</th>\n",
       "      <th>Rural</th>\n",
       "      <th>Urbana</th>\n",
       "      <th>Rural</th>\n",
       "      <th>Urbana</th>\n",
       "      <th>Rural</th>\n",
       "      <th>Urbana</th>\n",
       "    </tr>\n",
       "    <tr>\n",
       "      <th>Regiao</th>\n",
       "      <th></th>\n",
       "      <th></th>\n",
       "      <th></th>\n",
       "      <th></th>\n",
       "      <th></th>\n",
       "      <th></th>\n",
       "      <th></th>\n",
       "      <th></th>\n",
       "    </tr>\n",
       "  </thead>\n",
       "  <tbody>\n",
       "    <tr>\n",
       "      <th>Norte</th>\n",
       "      <td>2.18</td>\n",
       "      <td>43.06</td>\n",
       "      <td>3.81</td>\n",
       "      <td>1.99</td>\n",
       "      <td>0.08</td>\n",
       "      <td>0.64</td>\n",
       "      <td>14.75</td>\n",
       "      <td>33.50</td>\n",
       "    </tr>\n",
       "    <tr>\n",
       "      <th>Nordeste</th>\n",
       "      <td>3.15</td>\n",
       "      <td>41.75</td>\n",
       "      <td>1.65</td>\n",
       "      <td>1.41</td>\n",
       "      <td>0.04</td>\n",
       "      <td>0.32</td>\n",
       "      <td>15.61</td>\n",
       "      <td>36.08</td>\n",
       "    </tr>\n",
       "    <tr>\n",
       "      <th>Suldeste</th>\n",
       "      <td>1.61</td>\n",
       "      <td>58.43</td>\n",
       "      <td>0.37</td>\n",
       "      <td>1.09</td>\n",
       "      <td>0.02</td>\n",
       "      <td>0.56</td>\n",
       "      <td>5.08</td>\n",
       "      <td>32.86</td>\n",
       "    </tr>\n",
       "    <tr>\n",
       "      <th>Sul</th>\n",
       "      <td>3.46</td>\n",
       "      <td>55.01</td>\n",
       "      <td>0.54</td>\n",
       "      <td>1.02</td>\n",
       "      <td>0.03</td>\n",
       "      <td>0.59</td>\n",
       "      <td>7.96</td>\n",
       "      <td>31.39</td>\n",
       "    </tr>\n",
       "    <tr>\n",
       "      <th>Centro Oeste</th>\n",
       "      <td>2.08</td>\n",
       "      <td>52.88</td>\n",
       "      <td>0.57</td>\n",
       "      <td>1.83</td>\n",
       "      <td>0.03</td>\n",
       "      <td>0.99</td>\n",
       "      <td>7.45</td>\n",
       "      <td>34.17</td>\n",
       "    </tr>\n",
       "  </tbody>\n",
       "</table>\n",
       "</div>"
      ],
      "text/plain": [
       "TvInternet   Ambos        Nenhum        So Internet         So TV       \n",
       "Meio         Rural Urbana  Rural Urbana       Rural Urbana  Rural Urbana\n",
       "Regiao                                                                  \n",
       "Norte         2.18  43.06   3.81   1.99        0.08   0.64  14.75  33.50\n",
       "Nordeste      3.15  41.75   1.65   1.41        0.04   0.32  15.61  36.08\n",
       "Suldeste      1.61  58.43   0.37   1.09        0.02   0.56   5.08  32.86\n",
       "Sul           3.46  55.01   0.54   1.02        0.03   0.59   7.96  31.39\n",
       "Centro Oeste  2.08  52.88   0.57   1.83        0.03   0.99   7.45  34.17"
      ]
     },
     "execution_count": 33,
     "metadata": {},
     "output_type": "execute_result"
    }
   ],
   "source": [
    "#Crosstab TvInternet, Meio e Regiao 2014\n",
    "ctTvInternetMeioRegiao2014=(pd.crosstab([dadosFinal2014.Regiao],[dadosFinal2014.TvInternet,dadosFinal2014.Meio],rownames=['Regiao'], colnames=['TvInternet','Meio'],normalize=\"index\")*100).round(decimals=2)\n",
    "ctTvInternetMeioRegiao2014=ctTvInternetMeioRegiao2014.loc[['Norte', 'Nordeste', 'Suldeste', 'Sul', 'Centro Oeste']]\n",
    "ctTvInternetMeioRegiao2014"
   ]
  },
  {
   "cell_type": "code",
   "execution_count": 34,
   "metadata": {},
   "outputs": [
    {
     "data": {
      "text/plain": [
       "<matplotlib.legend.Legend at 0x20ae816ada0>"
      ]
     },
     "execution_count": 34,
     "metadata": {},
     "output_type": "execute_result"
    },
    {
     "data": {
      "image/png": "[encoded data removed]",
      "text/plain": [
       "<matplotlib.figure.Figure at 0x20a805067b8>"
      ]
     },
     "metadata": {},
     "output_type": "display_data"
    }
   ],
   "source": [
    "#Grafico Crosstab TvInternet, Meio e Regiao 2014\n",
    "ctTvInternetMeioRegiao2014.plot(kind='bar', color=('#2ecc71', '#e74c3c','#3498db','#9b59b6','#34495e','#f1c40f','#e67e22','#bdc3c7'),figsize=(10,6),stacked=True)\n",
    "ax = plt.subplot(111)\n",
    "box = ax.get_position()\n",
    "ax.set_position([box.x0, box.y0, box.width * 0.8, box.height])\n",
    "ax.legend(loc='center left', bbox_to_anchor=(1, 0.5))"
   ]
  },
  {
   "cell_type": "code",
   "execution_count": 35,
   "metadata": {},
   "outputs": [
    {
     "data": {
      "text/html": [
       "<div>\n",
       "<table border=\"1\" class=\"dataframe\">\n",
       "  <thead>\n",
       "    <tr>\n",
       "      <th>TvInternet</th>\n",
       "      <th colspan=\"2\" halign=\"left\">Ambos</th>\n",
       "      <th colspan=\"2\" halign=\"left\">Nenhum</th>\n",
       "      <th colspan=\"2\" halign=\"left\">So Internet</th>\n",
       "      <th colspan=\"2\" halign=\"left\">So TV</th>\n",
       "    </tr>\n",
       "    <tr>\n",
       "      <th>Meio</th>\n",
       "      <th>Rural</th>\n",
       "      <th>Urbana</th>\n",
       "      <th>Rural</th>\n",
       "      <th>Urbana</th>\n",
       "      <th>Rural</th>\n",
       "      <th>Urbana</th>\n",
       "      <th>Rural</th>\n",
       "      <th>Urbana</th>\n",
       "    </tr>\n",
       "    <tr>\n",
       "      <th>Regiao</th>\n",
       "      <th></th>\n",
       "      <th></th>\n",
       "      <th></th>\n",
       "      <th></th>\n",
       "      <th></th>\n",
       "      <th></th>\n",
       "      <th></th>\n",
       "      <th></th>\n",
       "    </tr>\n",
       "  </thead>\n",
       "  <tbody>\n",
       "    <tr>\n",
       "      <th>Norte</th>\n",
       "      <td>2.55</td>\n",
       "      <td>43.34</td>\n",
       "      <td>3.50</td>\n",
       "      <td>1.95</td>\n",
       "      <td>0.05</td>\n",
       "      <td>0.96</td>\n",
       "      <td>14.82</td>\n",
       "      <td>32.84</td>\n",
       "    </tr>\n",
       "    <tr>\n",
       "      <th>Nordeste</th>\n",
       "      <td>3.58</td>\n",
       "      <td>44.55</td>\n",
       "      <td>1.67</td>\n",
       "      <td>1.35</td>\n",
       "      <td>0.05</td>\n",
       "      <td>0.51</td>\n",
       "      <td>15.55</td>\n",
       "      <td>32.74</td>\n",
       "    </tr>\n",
       "    <tr>\n",
       "      <th>Suldeste</th>\n",
       "      <td>2.02</td>\n",
       "      <td>61.47</td>\n",
       "      <td>0.28</td>\n",
       "      <td>1.02</td>\n",
       "      <td>0.02</td>\n",
       "      <td>0.53</td>\n",
       "      <td>4.77</td>\n",
       "      <td>29.88</td>\n",
       "    </tr>\n",
       "    <tr>\n",
       "      <th>Sul</th>\n",
       "      <td>3.80</td>\n",
       "      <td>57.32</td>\n",
       "      <td>0.42</td>\n",
       "      <td>0.90</td>\n",
       "      <td>0.07</td>\n",
       "      <td>0.65</td>\n",
       "      <td>7.54</td>\n",
       "      <td>29.31</td>\n",
       "    </tr>\n",
       "    <tr>\n",
       "      <th>Centro Oeste</th>\n",
       "      <td>2.47</td>\n",
       "      <td>56.50</td>\n",
       "      <td>0.75</td>\n",
       "      <td>1.75</td>\n",
       "      <td>0.09</td>\n",
       "      <td>1.07</td>\n",
       "      <td>7.20</td>\n",
       "      <td>30.18</td>\n",
       "    </tr>\n",
       "  </tbody>\n",
       "</table>\n",
       "</div>"
      ],
      "text/plain": [
       "TvInternet   Ambos        Nenhum        So Internet         So TV       \n",
       "Meio         Rural Urbana  Rural Urbana       Rural Urbana  Rural Urbana\n",
       "Regiao                                                                  \n",
       "Norte         2.55  43.34   3.50   1.95        0.05   0.96  14.82  32.84\n",
       "Nordeste      3.58  44.55   1.67   1.35        0.05   0.51  15.55  32.74\n",
       "Suldeste      2.02  61.47   0.28   1.02        0.02   0.53   4.77  29.88\n",
       "Sul           3.80  57.32   0.42   0.90        0.07   0.65   7.54  29.31\n",
       "Centro Oeste  2.47  56.50   0.75   1.75        0.09   1.07   7.20  30.18"
      ]
     },
     "execution_count": 35,
     "metadata": {},
     "output_type": "execute_result"
    }
   ],
   "source": [
    "#Crosstab TvInternet, Meio e Regiao 2015\n",
    "ctTvInternetMeioRegiao2015=(pd.crosstab([dadosFinal2015.Regiao],[dadosFinal2015.TvInternet,dadosFinal2015.Meio],rownames=['Regiao'], colnames=['TvInternet','Meio'],normalize=\"index\")*100).round(decimals=2)\n",
    "ctTvInternetMeioRegiao2015=ctTvInternetMeioRegiao2015.loc[['Norte', 'Nordeste', 'Suldeste', 'Sul', 'Centro Oeste']]\n",
    "ctTvInternetMeioRegiao2015"
   ]
  },
  {
   "cell_type": "code",
   "execution_count": 36,
   "metadata": {},
   "outputs": [
    {
     "data": {
      "text/plain": [
       "<matplotlib.legend.Legend at 0x20a80bdbf60>"
      ]
     },
     "execution_count": 36,
     "metadata": {},
     "output_type": "execute_result"
    },
    {
     "data": {
      "image/png": "[encoded data removed]",
      "text/plain": [
       "<matplotlib.figure.Figure at 0x20a810e12b0>"
      ]
     },
     "metadata": {},
     "output_type": "display_data"
    }
   ],
   "source": [
    "#Grafico Crosstab TvInternet, Meio e Regiao 2015\n",
    "ctTvInternetMeioRegiao2015.plot(kind='bar', color=('#2ecc71', '#e74c3c','#3498db','#9b59b6','#34495e','#f1c40f','#e67e22','#bdc3c7'),figsize=(10,6),stacked=True)\n",
    "ax = plt.subplot(111)\n",
    "box = ax.get_position()\n",
    "ax.set_position([box.x0, box.y0, box.width * 0.8, box.height])\n",
    "ax.legend(loc='center left', bbox_to_anchor=(1, 0.5))"
   ]
  },
  {
   "cell_type": "markdown",
   "metadata": {},
   "source": [
    "# Graficos Qualitativos"
   ]
  },
  {
   "cell_type": "code",
   "execution_count": 37,
   "metadata": {},
   "outputs": [
    {
     "data": {
      "image/png": "[encoded data removed]",
      "text/plain": [
       "<matplotlib.figure.Figure at 0x20a823fdf60>"
      ]
     },
     "metadata": {},
     "output_type": "display_data"
    },
    {
     "data": {
      "image/png": "[encoded data removed]",
      "text/plain": [
       "<matplotlib.figure.Figure at 0x20a82553390>"
      ]
     },
     "metadata": {},
     "output_type": "display_data"
    },
    {
     "data": {
      "image/png": "[encoded data removed]",
      "text/plain": [
       "<matplotlib.figure.Figure at 0x20a827d5f28>"
      ]
     },
     "metadata": {},
     "output_type": "display_data"
    }
   ],
   "source": [
    "#Graficos Todos Juntos\n",
    "ctTvInternetMeioRegiao2013.plot(kind='bar', color=('#2ecc71', '#e74c3c','#3498db','#9b59b6','#34495e','#f1c40f','#e67e22','#bdc3c7'),figsize=(10,6),stacked=True)\n",
    "ax = plt.subplot(111)\n",
    "plt.title('Tv ou Internet por Meio e por Região em 2013')\n",
    "box = ax.get_position()\n",
    "ax.set_position([box.x0, box.y0, box.width * 0.8, box.height])\n",
    "ax.legend(loc='center left', bbox_to_anchor=(1, 0.5))\n",
    "plt.show()\n",
    "\n",
    "ctTvInternetMeioRegiao2014.plot(kind='bar', color=('#2ecc71', '#e74c3c','#3498db','#9b59b6','#34495e','#f1c40f','#e67e22','#bdc3c7'),figsize=(10,6),stacked=True)\n",
    "ax = plt.subplot(111)\n",
    "plt.title('Tv ou Internet por Meio e por Região em 2014')\n",
    "box = ax.get_position()\n",
    "ax.set_position([box.x0, box.y0, box.width * 0.8, box.height])\n",
    "ax.legend(loc='center left', bbox_to_anchor=(1, 0.5))\n",
    "plt.show()\n",
    "\n",
    "ctTvInternetMeioRegiao2015.plot(kind='bar', color=('#2ecc71', '#e74c3c','#3498db','#9b59b6','#34495e','#f1c40f','#e67e22','#bdc3c7'),figsize=(10,6),stacked=True)\n",
    "ax = plt.subplot(111)\n",
    "plt.title('Tv ou Internet por Meio e por egião em 2015')\n",
    "box = ax.get_position()\n",
    "ax.set_position([box.x0, box.y0, box.width * 0.8, box.height])\n",
    "ax.legend(loc='center left', bbox_to_anchor=(1, 0.5))\n",
    "plt.show()"
   ]
  },
  {
   "cell_type": "markdown",
   "metadata": {},
   "source": [
    "# Analise dos Dados Quantitativos"
   ]
  },
  {
   "cell_type": "code",
   "execution_count": 38,
   "metadata": {},
   "outputs": [
    {
     "data": {
      "text/plain": [
       "count    105107.00\n",
       "mean       2370.11\n",
       "std        1988.94\n",
       "min           1.00\n",
       "25%        1000.00\n",
       "50%        1750.00\n",
       "75%        3000.00\n",
       "max       11220.00\n",
       "Name: Renda, dtype: float64"
      ]
     },
     "execution_count": 38,
     "metadata": {},
     "output_type": "execute_result"
    }
   ],
   "source": [
    "#Fazendo Faixas na Varivel Renda e Analisando os dados com Describe 2013\n",
    "faixa=np.arange(0, 11245,937)\n",
    "dadosFinal2013.RendaCut = pd.cut(dadosFinal2013.Renda,faixa)\n",
    "dadosFinal2013.RendaCut.cat.categories = (['Ate 1 Salario Minimo', 'Entre 1 e 2','Entre 2 e 3','Entre 3 e 4','Entre 4 e 5','Entre 5 e 6','Entre 6 a 7','Entre 7 e 8','Entre 8 e 9','Entre 9 e 10','Entre 10 e 11','Entre 11 e 12 Salarios Minimos'])\n",
    "dadosFinal2013.Renda.describe().round(decimals=2)"
   ]
  },
  {
   "cell_type": "code",
   "execution_count": 39,
   "metadata": {},
   "outputs": [
    {
     "data": {
      "text/plain": [
       "count    110789.00\n",
       "mean       2584.94\n",
       "std        2204.48\n",
       "min           1.00\n",
       "25%        1100.00\n",
       "50%        1910.00\n",
       "75%        3250.00\n",
       "max       12974.00\n",
       "Name: Renda, dtype: float64"
      ]
     },
     "execution_count": 39,
     "metadata": {},
     "output_type": "execute_result"
    }
   ],
   "source": [
    "#Fazendo Faixas na Varivel Renda e Analisando os dados com Describe 2014\n",
    "faixa=[0., 937., 1874., 2811., 3748., 4685., 5622., 7496., 9370., 11244, 14055., 151000]\n",
    "dadosFinal2014.RendaCut = pd.cut(dadosFinal2014.Renda,faixa)\n",
    "dadosFinal2014.RendaCut.cat.categories = (['Ate 1 Salario Minimo', 'Entre 1 e 2','Entre 2 e 3','Entre 3 e 4','Entre 4 e 5','Entre 5 e 6','Entre 6 a 8','Entre 8 e 10','Entre 10 e 12','Entre 12 e 15','Mais de 15 Salarios Minimos'])\n",
    "dadosFinal2014.Renda.describe().round(decimals=2)"
   ]
  },
  {
   "cell_type": "code",
   "execution_count": 40,
   "metadata": {},
   "outputs": [
    {
     "data": {
      "text/plain": [
       "count    111348.00\n",
       "mean       2619.43\n",
       "std        2217.17\n",
       "min           5.00\n",
       "25%        1088.00\n",
       "50%        1936.00\n",
       "75%        3300.00\n",
       "max       12976.00\n",
       "Name: Renda, dtype: float64"
      ]
     },
     "execution_count": 40,
     "metadata": {},
     "output_type": "execute_result"
    }
   ],
   "source": [
    "#Fazendo Faixas na Varivel Renda e Analisando os dados com Describe 2015\n",
    "faixa=[0, 937., 1874., 2811., 3748., 4685., 5622., 7496., 9370., 11244, 14055., 151000]\n",
    "dadosFinal2015.RendaCut = pd.cut(dadosFinal2015.Renda,faixa)\n",
    "dadosFinal2015.RendaCut.cat.categories = (['Ate 1 Salario Minimo', 'Entre 1 e 2','Entre 2 e 3','Entre 3 e 4','Entre 4 e 5','Entre 5 e 6','Entre 6 a 8','Entre 8 e 10','Entre 10 e 12','Entre 12 e 15','Mais de 15 Salarios Minimos'])\n",
    "dadosFinal2015.Renda.describe().round(decimals=2)"
   ]
  },
  {
   "cell_type": "code",
   "execution_count": 41,
   "metadata": {
    "collapsed": true
   },
   "outputs": [],
   "source": [
    "#Fazendo Crosstab Renda por Regiao 2013\n",
    "ctRendaRegiao2013=(pd.crosstab(dadosFinal2013.Regiao,dadosFinal2013.RendaCut,rownames=['Regiao'], colnames=['Renda'], normalize=True)*100).round(decimals=1)"
   ]
  },
  {
   "cell_type": "code",
   "execution_count": 42,
   "metadata": {
    "collapsed": true
   },
   "outputs": [],
   "source": [
    "#Fazendo Crosstab Renda por Regiao 2014\n",
    "ctRendaRegiao2014=(pd.crosstab(dadosFinal2014.Regiao,dadosFinal2014.RendaCut,rownames=['Regiao'], colnames=['Renda'], normalize=True)*100).round(decimals=1)\n"
   ]
  },
  {
   "cell_type": "code",
   "execution_count": 43,
   "metadata": {
    "collapsed": true
   },
   "outputs": [],
   "source": [
    "#Fazendo Crosstab Renda por Regiao 2015\n",
    "ctRendaRegiao2015=(pd.crosstab(dadosFinal2015.Regiao,dadosFinal2015.RendaCut,rownames=['Regiao'], colnames=['Renda'], normalize=True)*100).round(decimals=1)"
   ]
  },
  {
   "cell_type": "markdown",
   "metadata": {},
   "source": [
    "# Graficos Quantitativos"
   ]
  },
  {
   "cell_type": "code",
   "execution_count": 44,
   "metadata": {},
   "outputs": [
    {
     "data": {
      "image/png": "[encoded data removed]",
      "text/plain": [
       "<matplotlib.figure.Figure at 0x20a8237aef0>"
      ]
     },
     "metadata": {},
     "output_type": "display_data"
    },
    {
     "data": {
      "image/png": "[encoded data removed]",
      "text/plain": [
       "<matplotlib.figure.Figure at 0x20a82860940>"
      ]
     },
     "metadata": {},
     "output_type": "display_data"
    },
    {
     "data": {
      "image/png": "[encoded data removed]",
      "text/plain": [
       "<matplotlib.figure.Figure at 0x20a832b4a58>"
      ]
     },
     "metadata": {},
     "output_type": "display_data"
    }
   ],
   "source": [
    "#Graficos Todos Juntos\n",
    "#Plotando o Grafico Crosstab Renda por Regiao e 2013\n",
    "ctRendaRegiao2013.plot(kind='bar',figsize=(12,6), color=('navy', 'red','pink','grey','magenta','cyan','yellow','lime','sienna','lavender','coral'),stacked=True)\n",
    "plt.title('Porcentagem de Pessoas por Renda em Salarios Minimos em 2013')\n",
    "\n",
    "#Deixando Legenda ao Lado do Grafico\n",
    "ax = plt.subplot(111)\n",
    "box = ax.get_position()\n",
    "ax.set_position([box.x0, box.y0, box.width * 0.8, box.height])\n",
    "ax.legend(loc='center left', bbox_to_anchor=(1, 0.5))\n",
    "plt.show()\n",
    "\n",
    "#Plotando o Grafico Crosstab Renda por Regiao e 2014\n",
    "ctRendaRegiao2014.plot(kind='bar',figsize=(12,6), color=('navy', 'red','pink','grey','magenta','cyan','yellow','lime','sienna','lavender','coral'),stacked=True)\n",
    "plt.title('Porcentagem de Pessoas por Renda em Salarios Minimos em 2014')\n",
    "\n",
    "#Deixando Legenda ao Lado do Grafico\n",
    "ax = plt.subplot(111)\n",
    "box = ax.get_position()\n",
    "ax.set_position([box.x0, box.y0, box.width * 0.8, box.height])\n",
    "ax.legend(loc='center left', bbox_to_anchor=(1, 0.5))\n",
    "plt.show()\n",
    "\n",
    "#Plotando Grafico Crosstab Renda por Regiao 2015\n",
    "ctRendaRegiao2015.plot(kind='bar',figsize=(12,6), color=('navy', 'red','pink','grey','magenta','cyan','yellow','lime','sienna','lavender','coral'),stacked=True)\n",
    "plt.title('Porcentagem de Pessoas por Renda em Salarios Minimos em 2015')\n",
    "\n",
    "#Deixando Legenda ao Lado do Grafico\n",
    "ax = plt.subplot(111)\n",
    "box = ax.get_position()\n",
    "ax.set_position([box.x0, box.y0, box.width * 0.8, box.height])\n",
    "ax.legend(loc='center left', bbox_to_anchor=(1, 0.5))\n",
    "plt.show()\n"
   ]
  },
  {
   "cell_type": "markdown",
   "metadata": {},
   "source": [
    "## Conclusões Do Projeto"
   ]
  },
  {
   "cell_type": "markdown",
   "metadata": {},
   "source": [
    "Graficos Qualitativos"
   ]
  },
  {
   "cell_type": "markdown",
   "metadata": {},
   "source": [
    "       Podemos concluir olhando os graficos que analisam quais familias tem TV, Internet ou ambos em casa que o numero de domocilios que tem TV é muito elevado o que indica que talvez esse mercado ja esteja certo modo saturado, no entando o numero de familias que ja tem internet é bastante expressivo e vem mostrando um crescimento a cada ano o que pode indicar que esse mercado ainda deve ser explorado e tem bastante chances dos negocios nessa area darem certo.\n",
    "       Observando os graficos tambem pode-se indicar que por enquanto a tendencia dos domicilios é ter ambas as tecnolgias, tanto internet quanto TV, contradizendo algumas teses populares de que a internet esta tomando o lugar da TV, pelo menos por hora não é o que esta sendo mostrado pelos graficos.      \n",
    "       Além disso a area rural de acordo com os dados se mostra um mercado bastante reduzido devido a alta porcentagem de pessoas que moram em meio urbano, talvez isso indique que nao vale a pena para as empresas investirem muito de seus recursos nesse meio.\n",
    "        Outro dado tambem bastante relevante que a pesquisa mostra é que as regioes Norte e Nordeste sao alvos prioritarios para o investimento em internet uma vez que muitos domicilios tem somente TV e poucos tem internet, mostrando um mercado consumidor interessante."
   ]
  },
  {
   "cell_type": "markdown",
   "metadata": {},
   "source": [
    "Graficos Qauntitativos"
   ]
  },
  {
   "cell_type": "markdown",
   "metadata": {},
   "source": [
    "        Analisando os graficos de renda por domicilio por regiao pode-se concluir que nao há uma grande disparidade entre os anos, ou seja houve muita semelhança na distribuiçao de renda nos 3 anos. Gracas a isso podemos dizer que as duas regioes que mais tem poder aquisitivo sao o Suldeste e o Nordeste, no entando no suldeste existem mais pessoas ganhando entre 1 e 4 salarios minimos (937-3748) do que no nordeste onde a gigantesca maioria tem um ganho de menos de um salario minimo ate 2 (0-1874). Isso pode indicar que no nordeste apesar de haver um grande poder aquisitivo acumulado cada familia pode gastar menos do que no suldeste onde existe bastante poder aquisitivo e familias que supostamente tem um pouco mais de dinheiro. Logo a regiao que as empresas devem priorizar é primeiramente o suldeste e depois o nordeste.\n",
    "        Outra regiao bastante interessante é a sul que tem uma distribuicao de renda concentrada entre 1 a 4 salarios minimos (937-3748) o que indica que apesar de haver menos domicilios esses tem um poder aquisitivo um pouco mais elevado do que os que residem nas demais regiões."
   ]
  },
  {
   "cell_type": "code",
   "execution_count": 45,
   "metadata": {
    "collapsed": true
   },
   "outputs": [],
   "source": [
    "dadosFinal2015.to_csv(\"dadosFinal2015\")"
   ]
  }
 ],
 "metadata": {
  "anaconda-cloud": {},
  "kernelspec": {
   "display_name": "Python 3",
   "language": "python",
   "name": "python3"
  },
  "language_info": {
   "codemirror_mode": {
    "name": "ipython",
    "version": 3
   },
   "file_extension": ".py",
   "mimetype": "text/x-python",
   "name": "python",
   "nbconvert_exporter": "python",
   "pygments_lexer": "ipython3",
   "version": "3.6.0"
  }
 },
 "nbformat": 4,
 "nbformat_minor": 1
}
